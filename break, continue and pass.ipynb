{
 "cells": [
  {
   "cell_type": "code",
   "execution_count": null,
   "id": "a0fbfe68-344b-4ad3-b161-e52d4f88e331",
   "metadata": {},
   "outputs": [],
   "source": [
    "break:the break statement immediately exits the loop, no matter where it is in the iteration"
   ]
  },
  {
   "cell_type": "code",
   "execution_count": 15,
   "id": "05217ab3-3281-4f39-af91-b12b97de3d67",
   "metadata": {},
   "outputs": [
    {
     "name": "stdout",
     "output_type": "stream",
     "text": [
      "milk\n",
      "butter\n",
      "cheese found\n"
     ]
    }
   ],
   "source": [
    "for i in [\"milk\", \"butter\", \"cheese\", \"jam\", \"bread\"]:\n",
    "    if i == \"cheese\":\n",
    "        print(\"cheese found\")\n",
    "        break\n",
    "    print(i)"
   ]
  },
  {
   "cell_type": "code",
   "execution_count": null,
   "id": "2fd3c3cd-de2c-454b-8bbe-7f8f34ea6ff1",
   "metadata": {},
   "outputs": [],
   "source": [
    "continue statement skips the rest of the current iteration and moves to the next iteration"
   ]
  },
  {
   "cell_type": "code",
   "execution_count": 16,
   "id": "26994d3a-b189-4d5d-af36-56e151a249e7",
   "metadata": {},
   "outputs": [
    {
     "name": "stdout",
     "output_type": "stream",
     "text": [
      "milk\n",
      "butter\n",
      "cheese found\n",
      "jam\n",
      "bread\n"
     ]
    }
   ],
   "source": [
    "for i in [\"milk\", \"butter\", \"cheese\", \"jam\", \"bread\"]:\n",
    "    if i == \"cheese\":\n",
    "        print(\"cheese found\")\n",
    "        continue\n",
    "    print(i)"
   ]
  },
  {
   "cell_type": "code",
   "execution_count": 18,
   "id": "971882db-ebb8-47c1-bc9d-b11bd0334f4f",
   "metadata": {},
   "outputs": [
    {
     "name": "stdout",
     "output_type": "stream",
     "text": [
      "1\n",
      "3\n",
      "5\n",
      "7\n",
      "9\n"
     ]
    }
   ],
   "source": [
    "for num in range(1, 10):\n",
    "    if num % 2 == 0:\n",
    "        continue\n",
    "    print(num)"
   ]
  },
  {
   "cell_type": "code",
   "execution_count": 21,
   "id": "78ab8adb-fac2-44d0-a5ff-d7e37c8aa5d6",
   "metadata": {},
   "outputs": [
    {
     "name": "stdout",
     "output_type": "stream",
     "text": [
      "4\n",
      "5\n",
      "6\n",
      "7\n",
      "8\n"
     ]
    }
   ],
   "source": [
    "for i in range(4, 9):\n",
    "    print(i)\n",
    "a = 10"
   ]
  },
  {
   "cell_type": "code",
   "execution_count": null,
   "id": "630a861a-1472-4828-bc5f-7cca6ae16889",
   "metadata": {},
   "outputs": [],
   "source": []
  },
  {
   "cell_type": "code",
   "execution_count": null,
   "id": "543ad22b-7525-47fb-99e7-9dddd5e0785a",
   "metadata": {},
   "outputs": [],
   "source": []
  },
  {
   "cell_type": "code",
   "execution_count": null,
   "id": "5d817d8e-f121-41ab-95c2-3a52546bce5e",
   "metadata": {},
   "outputs": [],
   "source": []
  },
  {
   "cell_type": "code",
   "execution_count": null,
   "id": "f06a6cce-6812-455f-b825-99a45e1d2029",
   "metadata": {},
   "outputs": [],
   "source": []
  },
  {
   "cell_type": "code",
   "execution_count": null,
   "id": "5ed28ec4-6e60-4fc9-a21d-0c64a058bb07",
   "metadata": {},
   "outputs": [],
   "source": []
  },
  {
   "cell_type": "code",
   "execution_count": null,
   "id": "85237070-1364-48ec-8b96-1eaa47f79f90",
   "metadata": {},
   "outputs": [],
   "source": []
  },
  {
   "cell_type": "code",
   "execution_count": null,
   "id": "53c8f0d8-1da9-4a77-8f5d-ac9447d74a12",
   "metadata": {},
   "outputs": [],
   "source": []
  },
  {
   "cell_type": "code",
   "execution_count": null,
   "id": "47b90091-f2f6-4f71-a7e6-bd4fffccdcf5",
   "metadata": {},
   "outputs": [],
   "source": []
  },
  {
   "cell_type": "code",
   "execution_count": null,
   "id": "b15e5350-c1e5-47c8-b0ea-195dbb037d01",
   "metadata": {},
   "outputs": [],
   "source": []
  },
  {
   "cell_type": "code",
   "execution_count": null,
   "id": "a9a2f896-9ff1-4215-8b0f-c8560c684cc6",
   "metadata": {},
   "outputs": [],
   "source": []
  },
  {
   "cell_type": "code",
   "execution_count": null,
   "id": "a6dcbc81-cf46-4ea1-bbd2-197185d44bac",
   "metadata": {},
   "outputs": [],
   "source": []
  },
  {
   "cell_type": "code",
   "execution_count": null,
   "id": "e951aa22-7771-4989-aa0d-ff0b2c6b8cc8",
   "metadata": {},
   "outputs": [],
   "source": []
  },
  {
   "cell_type": "code",
   "execution_count": null,
   "id": "80703785-1897-4e2c-b0ae-39d885348746",
   "metadata": {},
   "outputs": [],
   "source": []
  },
  {
   "cell_type": "code",
   "execution_count": null,
   "id": "3b8d1daa-0b21-4f53-a9ea-1ce20e4b3a13",
   "metadata": {},
   "outputs": [],
   "source": []
  },
  {
   "cell_type": "code",
   "execution_count": null,
   "id": "2b92b381-1359-4ee0-b9e9-49ec0b059195",
   "metadata": {},
   "outputs": [],
   "source": []
  },
  {
   "cell_type": "code",
   "execution_count": null,
   "id": "3e9fed81-19bb-4f6c-ab17-38221af2fd70",
   "metadata": {},
   "outputs": [],
   "source": []
  },
  {
   "cell_type": "code",
   "execution_count": null,
   "id": "cb7d1696-0f68-4fd9-948b-194e7dd143e9",
   "metadata": {},
   "outputs": [],
   "source": []
  },
  {
   "cell_type": "code",
   "execution_count": null,
   "id": "3f0b73fe-4bca-425b-851a-58fd1c2172fc",
   "metadata": {},
   "outputs": [],
   "source": []
  },
  {
   "cell_type": "code",
   "execution_count": null,
   "id": "7b845bd6-d29f-41a5-a8e6-aa7d5dd2c813",
   "metadata": {},
   "outputs": [],
   "source": []
  },
  {
   "cell_type": "code",
   "execution_count": null,
   "id": "70dd5aeb-1502-4f15-8cd3-ca155573b04d",
   "metadata": {},
   "outputs": [],
   "source": []
  },
  {
   "cell_type": "code",
   "execution_count": null,
   "id": "67625fd9-a976-40dd-b1df-d1b32bf57fdf",
   "metadata": {},
   "outputs": [],
   "source": []
  },
  {
   "cell_type": "code",
   "execution_count": null,
   "id": "037f770d-3227-43f7-8141-97ac4cabc7ff",
   "metadata": {},
   "outputs": [],
   "source": []
  },
  {
   "cell_type": "code",
   "execution_count": null,
   "id": "4fd09607-7b3a-4dbb-8bb2-9fb11522ba87",
   "metadata": {},
   "outputs": [],
   "source": []
  },
  {
   "cell_type": "code",
   "execution_count": null,
   "id": "553dcc74-7dde-4a94-8875-d5133c24dda2",
   "metadata": {},
   "outputs": [],
   "source": []
  },
  {
   "cell_type": "code",
   "execution_count": null,
   "id": "0a0ddde7-4926-4798-a6ae-35d72841f9e3",
   "metadata": {},
   "outputs": [],
   "source": []
  },
  {
   "cell_type": "code",
   "execution_count": null,
   "id": "31676141-171f-45e2-b83a-7752a1f49abc",
   "metadata": {},
   "outputs": [],
   "source": []
  },
  {
   "cell_type": "code",
   "execution_count": null,
   "id": "d2b2fb91-327b-4a90-ba9e-c51637c36a3e",
   "metadata": {},
   "outputs": [],
   "source": []
  }
 ],
 "metadata": {
  "kernelspec": {
   "display_name": "Python 3 (ipykernel)",
   "language": "python",
   "name": "python3"
  },
  "language_info": {
   "codemirror_mode": {
    "name": "ipython",
    "version": 3
   },
   "file_extension": ".py",
   "mimetype": "text/x-python",
   "name": "python",
   "nbconvert_exporter": "python",
   "pygments_lexer": "ipython3",
   "version": "3.11.7"
  }
 },
 "nbformat": 4,
 "nbformat_minor": 5
}
