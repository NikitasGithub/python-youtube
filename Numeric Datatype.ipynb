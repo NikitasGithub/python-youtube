{
 "cells": [
  {
   "cell_type": "code",
   "execution_count": 25,
   "id": "88385f60-1e36-4eb3-9bba-e05e63eebc37",
   "metadata": {},
   "outputs": [],
   "source": [
    "#1. Integer\n",
    "\n",
    "a = 90\n",
    "b = -100"
   ]
  },
  {
   "cell_type": "code",
   "execution_count": 26,
   "id": "20481348-cf06-49b1-9c19-e50a0780ab61",
   "metadata": {},
   "outputs": [
    {
     "data": {
      "text/plain": [
       "int"
      ]
     },
     "execution_count": 26,
     "metadata": {},
     "output_type": "execute_result"
    }
   ],
   "source": [
    "type(a)"
   ]
  },
  {
   "cell_type": "code",
   "execution_count": 27,
   "id": "6beb1db6-4f7b-4749-85d0-3b693e2ff2a4",
   "metadata": {},
   "outputs": [
    {
     "data": {
      "text/plain": [
       "int"
      ]
     },
     "execution_count": 27,
     "metadata": {},
     "output_type": "execute_result"
    }
   ],
   "source": [
    "type(b)"
   ]
  },
  {
   "cell_type": "code",
   "execution_count": 28,
   "id": "1a48ffc2-32b6-4f88-b396-20c91331f56c",
   "metadata": {},
   "outputs": [
    {
     "data": {
      "text/plain": [
       "float"
      ]
     },
     "execution_count": 28,
     "metadata": {},
     "output_type": "execute_result"
    }
   ],
   "source": [
    "#2. Float\n",
    "\n",
    "type(99.9)"
   ]
  },
  {
   "cell_type": "code",
   "execution_count": 29,
   "id": "cbd7d9bc-9bd6-4e7c-bb0a-f2867deb88da",
   "metadata": {},
   "outputs": [
    {
     "data": {
      "text/plain": [
       "float"
      ]
     },
     "execution_count": 29,
     "metadata": {},
     "output_type": "execute_result"
    }
   ],
   "source": [
    "c = 10.0\n",
    "type(c)"
   ]
  },
  {
   "cell_type": "code",
   "execution_count": 35,
   "id": "a8c50e00-6eff-4aad-9640-2917c96cdb2f",
   "metadata": {},
   "outputs": [],
   "source": [
    "#complex number\n",
    "\n",
    "complx = 4+6j"
   ]
  },
  {
   "cell_type": "code",
   "execution_count": 33,
   "id": "8881cef1-d76f-49a8-92d5-d3769bf3d05a",
   "metadata": {},
   "outputs": [
    {
     "data": {
      "text/plain": [
       "complex"
      ]
     },
     "execution_count": 33,
     "metadata": {},
     "output_type": "execute_result"
    }
   ],
   "source": [
    "type(complx)"
   ]
  },
  {
   "cell_type": "code",
   "execution_count": 37,
   "id": "4f87df45-5534-4334-87e4-36df8b69b4c2",
   "metadata": {},
   "outputs": [
    {
     "name": "stdout",
     "output_type": "stream",
     "text": [
      "40.0\n"
     ]
    }
   ],
   "source": [
    "s = 10 + 30.0\n",
    "print(s)"
   ]
  },
  {
   "cell_type": "code",
   "execution_count": 38,
   "id": "aca8d7e6-7d6a-4495-aabe-ebe2acd34722",
   "metadata": {},
   "outputs": [
    {
     "name": "stdout",
     "output_type": "stream",
     "text": [
      "20\n"
     ]
    }
   ],
   "source": [
    "a = 100\n",
    "b = 80\n",
    "diff = a - b\n",
    "print(diff)"
   ]
  },
  {
   "cell_type": "code",
   "execution_count": 39,
   "id": "6e7f1149-3e6b-4581-a806-2bd0a0cd2a31",
   "metadata": {},
   "outputs": [],
   "source": [
    "div = 1042/32"
   ]
  },
  {
   "cell_type": "code",
   "execution_count": 41,
   "id": "d125ed9f-0a5b-4093-b39b-50b84872523f",
   "metadata": {},
   "outputs": [
    {
     "data": {
      "text/plain": [
       "float"
      ]
     },
     "execution_count": 41,
     "metadata": {},
     "output_type": "execute_result"
    }
   ],
   "source": [
    "type(div)"
   ]
  },
  {
   "cell_type": "code",
   "execution_count": 42,
   "id": "24a446cc-e2af-44a3-809f-69233597e41e",
   "metadata": {},
   "outputs": [
    {
     "name": "stdout",
     "output_type": "stream",
     "text": [
      "17\n"
     ]
    }
   ],
   "source": [
    "quotient = 1042//60\n",
    "print(quotient)"
   ]
  },
  {
   "cell_type": "code",
   "execution_count": 43,
   "id": "84c76222-7e96-407c-9c1b-a0d81e6a3ba5",
   "metadata": {},
   "outputs": [
    {
     "data": {
      "text/plain": [
       "22"
      ]
     },
     "execution_count": 43,
     "metadata": {},
     "output_type": "execute_result"
    }
   ],
   "source": [
    "rem = 1042%60\n",
    "rem"
   ]
  },
  {
   "cell_type": "code",
   "execution_count": 44,
   "id": "db33893d-b773-4937-92fc-cfea25ccf2a3",
   "metadata": {},
   "outputs": [
    {
     "data": {
      "text/plain": [
       "1084"
      ]
     },
     "execution_count": 44,
     "metadata": {},
     "output_type": "execute_result"
    }
   ],
   "source": [
    "1032 + 26 * 2"
   ]
  },
  {
   "cell_type": "code",
   "execution_count": 45,
   "id": "2684f282-3edb-419b-aa8d-65bfb69e5801",
   "metadata": {},
   "outputs": [
    {
     "data": {
      "text/plain": [
       "52"
      ]
     },
     "execution_count": 45,
     "metadata": {},
     "output_type": "execute_result"
    }
   ],
   "source": [
    "26 * 2"
   ]
  },
  {
   "cell_type": "code",
   "execution_count": 46,
   "id": "6b074b57-5409-4e39-adf2-9bd962616cec",
   "metadata": {},
   "outputs": [
    {
     "data": {
      "text/plain": [
       "1084"
      ]
     },
     "execution_count": 46,
     "metadata": {},
     "output_type": "execute_result"
    }
   ],
   "source": [
    "52 + 1032"
   ]
  },
  {
   "cell_type": "code",
   "execution_count": 47,
   "id": "52e97e66-bb6a-4f75-b03b-84a98c252d9b",
   "metadata": {},
   "outputs": [
    {
     "data": {
      "text/plain": [
       "81"
      ]
     },
     "execution_count": 47,
     "metadata": {},
     "output_type": "execute_result"
    }
   ],
   "source": [
    "3**4"
   ]
  },
  {
   "cell_type": "code",
   "execution_count": 48,
   "id": "67c0b048-3b51-4430-9c22-73ad2aff065e",
   "metadata": {},
   "outputs": [
    {
     "data": {
      "text/plain": [
       "16"
      ]
     },
     "execution_count": 48,
     "metadata": {},
     "output_type": "execute_result"
    }
   ],
   "source": [
    "pow(2,4)"
   ]
  },
  {
   "cell_type": "code",
   "execution_count": 50,
   "id": "8dbaa349-6ba0-4849-b8c9-151bffabc56b",
   "metadata": {},
   "outputs": [
    {
     "data": {
      "text/plain": [
       "2"
      ]
     },
     "execution_count": 50,
     "metadata": {},
     "output_type": "execute_result"
    }
   ],
   "source": [
    "round(1.8)"
   ]
  },
  {
   "cell_type": "code",
   "execution_count": null,
   "id": "629221a5-317e-4bec-a6ee-bd511fb372aa",
   "metadata": {},
   "outputs": [],
   "source": []
  }
 ],
 "metadata": {
  "kernelspec": {
   "display_name": "Python 3 (ipykernel)",
   "language": "python",
   "name": "python3"
  },
  "language_info": {
   "codemirror_mode": {
    "name": "ipython",
    "version": 3
   },
   "file_extension": ".py",
   "mimetype": "text/x-python",
   "name": "python",
   "nbconvert_exporter": "python",
   "pygments_lexer": "ipython3",
   "version": "3.11.7"
  }
 },
 "nbformat": 4,
 "nbformat_minor": 5
}
