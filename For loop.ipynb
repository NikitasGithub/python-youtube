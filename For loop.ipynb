{
 "cells": [
  {
   "cell_type": "code",
   "execution_count": 15,
   "id": "fc03d5e9-49d6-455e-b5c7-75d3f9e11a3a",
   "metadata": {},
   "outputs": [],
   "source": [
    "days = [\"mon\", \"tues\", \"wed\", \"thurs\", \"fri\"]"
   ]
  },
  {
   "cell_type": "code",
   "execution_count": 17,
   "id": "1d27d37c-acfe-4992-b129-362df469fee8",
   "metadata": {},
   "outputs": [
    {
     "name": "stdout",
     "output_type": "stream",
     "text": [
      "mon\n",
      "tues\n",
      "wed\n"
     ]
    }
   ],
   "source": [
    "print(days[0])\n",
    "print(days[1])\n",
    "print(days[2])"
   ]
  },
  {
   "cell_type": "code",
   "execution_count": null,
   "id": "8a4ac82a-1d5b-4697-b59b-9ffe445dd2bb",
   "metadata": {},
   "outputs": [],
   "source": [
    "for var_name in iterable:\n",
    "    line1\n",
    "    line2"
   ]
  },
  {
   "cell_type": "code",
   "execution_count": 19,
   "id": "806e024f-4fa6-4ce7-81f8-c6638ee58b82",
   "metadata": {},
   "outputs": [
    {
     "data": {
      "text/plain": [
       "['mon', 'tues', 'wed', 'thurs', 'fri']"
      ]
     },
     "execution_count": 19,
     "metadata": {},
     "output_type": "execute_result"
    }
   ],
   "source": [
    "days"
   ]
  },
  {
   "cell_type": "code",
   "execution_count": 18,
   "id": "2a0dd11b-bb58-4605-9bec-460cedd6e349",
   "metadata": {},
   "outputs": [
    {
     "name": "stdout",
     "output_type": "stream",
     "text": [
      "mon\n",
      "tues\n",
      "wed\n",
      "thurs\n",
      "fri\n"
     ]
    }
   ],
   "source": [
    "for day in days:\n",
    "    print(day)"
   ]
  },
  {
   "cell_type": "code",
   "execution_count": null,
   "id": "d91250a2-9ef8-4427-837b-980f98a899d7",
   "metadata": {},
   "outputs": [],
   "source": [
    "7! = 7*6*5*4*3*2*1"
   ]
  },
  {
   "cell_type": "code",
   "execution_count": 24,
   "id": "a40af0f8-353b-4373-93ac-b562ff489b2b",
   "metadata": {},
   "outputs": [
    {
     "name": "stdout",
     "output_type": "stream",
     "text": [
      "The result is  5040\n"
     ]
    }
   ],
   "source": [
    "n = 7\n",
    "\n",
    "output = 1\n",
    "for i in range(2,8):\n",
    "    output = output * i\n",
    "\n",
    "print(\"The result is \", output)"
   ]
  },
  {
   "cell_type": "code",
   "execution_count": 26,
   "id": "d6f02c4f-8622-4edb-a5b4-0befc928fad7",
   "metadata": {},
   "outputs": [
    {
     "name": "stdout",
     "output_type": "stream",
     "text": [
      "mon\n",
      "thurs\n",
      "wed\n",
      "tues\n",
      "fri\n"
     ]
    }
   ],
   "source": [
    "days = {\"mon\", \"tues\", \"wed\", \"thurs\", \"fri\"}\n",
    "\n",
    "for d in days:\n",
    "    print(d)"
   ]
  },
  {
   "cell_type": "code",
   "execution_count": 27,
   "id": "3a927f1f-6011-4c5e-a1f3-b16fc6eaf7d4",
   "metadata": {},
   "outputs": [],
   "source": [
    "dict1 = {'English': 100, 'Maths': 200, \"Science\": 120}"
   ]
  },
  {
   "cell_type": "code",
   "execution_count": 29,
   "id": "54d08710-f732-4ad7-ab8c-54f6882b03a6",
   "metadata": {},
   "outputs": [
    {
     "name": "stdout",
     "output_type": "stream",
     "text": [
      "('English', 100)\n",
      "('Maths', 200)\n",
      "('Science', 120)\n"
     ]
    }
   ],
   "source": [
    "for items in dict1.items():\n",
    "    print(items)"
   ]
  },
  {
   "cell_type": "code",
   "execution_count": 30,
   "id": "4822d59e-b72e-42ee-b4df-2f6f6ccbc8db",
   "metadata": {},
   "outputs": [
    {
     "name": "stdout",
     "output_type": "stream",
     "text": [
      "English\n",
      "Maths\n",
      "Science\n"
     ]
    }
   ],
   "source": [
    "for items in dict1.keys():\n",
    "    print(items)"
   ]
  },
  {
   "cell_type": "code",
   "execution_count": 31,
   "id": "8e17f468-3377-4da8-be08-952f0845db9b",
   "metadata": {},
   "outputs": [
    {
     "name": "stdout",
     "output_type": "stream",
     "text": [
      "100\n",
      "200\n",
      "120\n"
     ]
    }
   ],
   "source": [
    "for items in dict1.values():\n",
    "    print(items)"
   ]
  },
  {
   "cell_type": "code",
   "execution_count": null,
   "id": "0324b99b-beef-4aa7-9568-e0797a28914d",
   "metadata": {},
   "outputs": [],
   "source": []
  }
 ],
 "metadata": {
  "kernelspec": {
   "display_name": "Python 3 (ipykernel)",
   "language": "python",
   "name": "python3"
  },
  "language_info": {
   "codemirror_mode": {
    "name": "ipython",
    "version": 3
   },
   "file_extension": ".py",
   "mimetype": "text/x-python",
   "name": "python",
   "nbconvert_exporter": "python",
   "pygments_lexer": "ipython3",
   "version": "3.11.7"
  }
 },
 "nbformat": 4,
 "nbformat_minor": 5
}
