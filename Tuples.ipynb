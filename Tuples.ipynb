{
 "cells": [
  {
   "cell_type": "code",
   "execution_count": null,
   "id": "a55815f3-6156-48b8-b170-0b761a9679ff",
   "metadata": {},
   "outputs": [],
   "source": [
    "#collection of items of different datatypes\n",
    "\n",
    "-read only datatypes\n",
    "    modify the values of items\n",
    "    add or delete\n",
    "\n",
    "()"
   ]
  },
  {
   "cell_type": "code",
   "execution_count": 15,
   "id": "f791a8f2-1f0e-4148-ac0e-aa79f2e46215",
   "metadata": {},
   "outputs": [],
   "source": [
    "t = (\"hi\", 3.0, 12, \"hello\")"
   ]
  },
  {
   "cell_type": "code",
   "execution_count": 16,
   "id": "368676e8-bf9b-4ca0-af46-08e9a43af510",
   "metadata": {},
   "outputs": [
    {
     "data": {
      "text/plain": [
       "tuple"
      ]
     },
     "execution_count": 16,
     "metadata": {},
     "output_type": "execute_result"
    }
   ],
   "source": [
    "type(t)"
   ]
  },
  {
   "cell_type": "code",
   "execution_count": 17,
   "id": "761d9a1d-17df-42f3-9737-2e523f76d264",
   "metadata": {},
   "outputs": [
    {
     "data": {
      "text/plain": [
       "3.0"
      ]
     },
     "execution_count": 17,
     "metadata": {},
     "output_type": "execute_result"
    }
   ],
   "source": [
    "t[1]"
   ]
  },
  {
   "cell_type": "code",
   "execution_count": 18,
   "id": "20a7bd76-a0ff-4948-b803-75f80d43593d",
   "metadata": {},
   "outputs": [
    {
     "data": {
      "text/plain": [
       "'hello'"
      ]
     },
     "execution_count": 18,
     "metadata": {},
     "output_type": "execute_result"
    }
   ],
   "source": [
    "t[-1]"
   ]
  },
  {
   "cell_type": "code",
   "execution_count": 19,
   "id": "695a3253-e655-4dae-ba4b-c3bf5dc0795f",
   "metadata": {},
   "outputs": [
    {
     "data": {
      "text/plain": [
       "(3.0, 12, 'hello')"
      ]
     },
     "execution_count": 19,
     "metadata": {},
     "output_type": "execute_result"
    }
   ],
   "source": [
    "t[1:]"
   ]
  },
  {
   "cell_type": "code",
   "execution_count": 20,
   "id": "92e97337-22b9-4710-a55b-a6f2bb0a2daa",
   "metadata": {},
   "outputs": [
    {
     "name": "stdout",
     "output_type": "stream",
     "text": [
      "('hi', 3.0, 12, 'hello', 'hi', 3.0, 12, 'hello')\n"
     ]
    }
   ],
   "source": [
    "print(t + t)"
   ]
  },
  {
   "cell_type": "code",
   "execution_count": 21,
   "id": "724782e1-6f14-4743-9e8f-7a1d436cf24c",
   "metadata": {},
   "outputs": [
    {
     "data": {
      "text/plain": [
       "('hi', 3.0, 12, 'hello', 'hi', 3.0, 12, 'hello', 'hi', 3.0, 12, 'hello')"
      ]
     },
     "execution_count": 21,
     "metadata": {},
     "output_type": "execute_result"
    }
   ],
   "source": [
    "t * 3"
   ]
  },
  {
   "cell_type": "code",
   "execution_count": 22,
   "id": "24cee478-8dce-4dd6-afde-57f7cc4f7b9e",
   "metadata": {},
   "outputs": [
    {
     "data": {
      "text/plain": [
       "('hi', 3.0, 12, 'hello')"
      ]
     },
     "execution_count": 22,
     "metadata": {},
     "output_type": "execute_result"
    }
   ],
   "source": [
    "t"
   ]
  },
  {
   "cell_type": "code",
   "execution_count": 23,
   "id": "9848f4a5-4e1b-4980-869d-2f1543763b2a",
   "metadata": {},
   "outputs": [
    {
     "ename": "TypeError",
     "evalue": "'tuple' object does not support item assignment",
     "output_type": "error",
     "traceback": [
      "\u001b[1;31m---------------------------------------------------------------------------\u001b[0m",
      "\u001b[1;31mTypeError\u001b[0m                                 Traceback (most recent call last)",
      "Cell \u001b[1;32mIn[23], line 1\u001b[0m\n\u001b[1;32m----> 1\u001b[0m t[\u001b[38;5;241m0\u001b[39m] \u001b[38;5;241m=\u001b[39m \u001b[38;5;124m\"\u001b[39m\u001b[38;5;124mgm\u001b[39m\u001b[38;5;124m\"\u001b[39m\n",
      "\u001b[1;31mTypeError\u001b[0m: 'tuple' object does not support item assignment"
     ]
    }
   ],
   "source": [
    "t[0] = \"gm\""
   ]
  },
  {
   "cell_type": "code",
   "execution_count": 24,
   "id": "a13d0734-66ac-4648-9ef4-7a9b008c5594",
   "metadata": {},
   "outputs": [
    {
     "data": {
      "text/plain": [
       "1"
      ]
     },
     "execution_count": 24,
     "metadata": {},
     "output_type": "execute_result"
    }
   ],
   "source": [
    "t.count(\"hi\")"
   ]
  },
  {
   "cell_type": "code",
   "execution_count": 25,
   "id": "caa09bf4-3480-428b-b6d7-e6cb3fa83bd3",
   "metadata": {},
   "outputs": [
    {
     "data": {
      "text/plain": [
       "1"
      ]
     },
     "execution_count": 25,
     "metadata": {},
     "output_type": "execute_result"
    }
   ],
   "source": [
    "t.index(3.0)"
   ]
  },
  {
   "cell_type": "code",
   "execution_count": null,
   "id": "5a044cec-4d1d-4b05-8909-cee674ac5444",
   "metadata": {},
   "outputs": [],
   "source": [
    "Why use Tuple?"
   ]
  },
  {
   "cell_type": "code",
   "execution_count": null,
   "id": "d649a397-3631-4582-9b5a-7e5190a5c021",
   "metadata": {},
   "outputs": [],
   "source": [
    "mutable -> list\n",
    "immutable -> tuple"
   ]
  }
 ],
 "metadata": {
  "kernelspec": {
   "display_name": "Python 3 (ipykernel)",
   "language": "python",
   "name": "python3"
  },
  "language_info": {
   "codemirror_mode": {
    "name": "ipython",
    "version": 3
   },
   "file_extension": ".py",
   "mimetype": "text/x-python",
   "name": "python",
   "nbconvert_exporter": "python",
   "pygments_lexer": "ipython3",
   "version": "3.11.7"
  }
 },
 "nbformat": 4,
 "nbformat_minor": 5
}
