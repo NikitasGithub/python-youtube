{
 "cells": [
  {
   "cell_type": "code",
   "execution_count": 3,
   "id": "96eb0930-388e-4bed-9961-dd47cdb0606c",
   "metadata": {},
   "outputs": [],
   "source": [
    "def usd_to_eur(amount):\n",
    "    return amount * 0.91  # Example conversion rate\n",
    "\n",
    "def usd_to_gbp(amount):\n",
    "    return amount * 0.78\n",
    "\n",
    "def eur_to_gbp(amount):\n",
    "    return amount * 0.86"
   ]
  },
  {
   "cell_type": "code",
   "execution_count": 5,
   "id": "d9e02c32-d92f-4678-98a4-12cf79eb3cbc",
   "metadata": {},
   "outputs": [
    {
     "data": {
      "text/plain": [
       "91.0"
      ]
     },
     "execution_count": 5,
     "metadata": {},
     "output_type": "execute_result"
    }
   ],
   "source": [
    "usd_to_eur(100)"
   ]
  },
  {
   "cell_type": "code",
   "execution_count": null,
   "id": "4e2d3fc5-b0bf-463c-b128-a42914219196",
   "metadata": {},
   "outputs": [],
   "source": [
    "module\n",
    "\n",
    ".py -> functions, variables and classes\n",
    "\n",
    ".ipynb"
   ]
  },
  {
   "cell_type": "code",
   "execution_count": null,
   "id": "aa68ccc8-ca44-4ec9-b3c0-22fd815c2947",
   "metadata": {},
   "outputs": [],
   "source": []
  },
  {
   "cell_type": "code",
   "execution_count": null,
   "id": "b80cb8f7-8195-4440-ae98-26a97fd564d0",
   "metadata": {},
   "outputs": [],
   "source": []
  },
  {
   "cell_type": "code",
   "execution_count": null,
   "id": "5926ef27-08aa-46bb-a857-2ca3add99e34",
   "metadata": {},
   "outputs": [],
   "source": []
  }
 ],
 "metadata": {
  "kernelspec": {
   "display_name": "Python 3 (ipykernel)",
   "language": "python",
   "name": "python3"
  },
  "language_info": {
   "codemirror_mode": {
    "name": "ipython",
    "version": 3
   },
   "file_extension": ".py",
   "mimetype": "text/x-python",
   "name": "python",
   "nbconvert_exporter": "python",
   "pygments_lexer": "ipython3",
   "version": "3.11.7"
  }
 },
 "nbformat": 4,
 "nbformat_minor": 5
}
