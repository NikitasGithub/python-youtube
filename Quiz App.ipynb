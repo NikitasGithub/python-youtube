{
 "cells": [
  {
   "cell_type": "markdown",
   "id": "cea4138d-70fb-47d9-8671-52c95d329f90",
   "metadata": {},
   "source": [
    "# 🧠 Python OOP Challenge: Build a Smart Quiz App\n",
    "\n",
    "\n",
    "The app should support different question types, track user scores, and award points based on question difficulty.\n"
   ]
  },
  {
   "cell_type": "code",
   "execution_count": null,
   "id": "f4cafefb-95cb-42ae-b796-48ee98cbf691",
   "metadata": {},
   "outputs": [],
   "source": [
    "Questions -> prompt, answer, diffculty levels \n",
    "check_answer\n",
    "\n",
    "MCQ, fill in the blank and true/false"
   ]
  },
  {
   "cell_type": "code",
   "execution_count": 8,
   "id": "d26f1e2d-f801-4318-825f-3bdb227820a0",
   "metadata": {},
   "outputs": [],
   "source": [
    "class Question:\n",
    "    def __init__(self, prompt, answer, difficulty_level):\n",
    "        self.prompt = prompt\n",
    "        self.answer = answer\n",
    "        self.difficulty_level = difficulty_level\n",
    "\n",
    "    def check_answer(self, user_ans):\n",
    "        return self.answer.strip().lower() == user_ans.strip().lower()\n",
    "\n",
    "    def __str__(self):\n",
    "        return f\"{self.prompt} (Difficulty:{self.difficulty_level.capitalize()})\""
   ]
  },
  {
   "cell_type": "code",
   "execution_count": 17,
   "id": "0eccb130-4d7a-40e5-a0bd-fea50180bfb2",
   "metadata": {},
   "outputs": [],
   "source": [
    "class MCQ(Question):\n",
    "     def __init__(self, prompt, options, answer, difficulty_level):\n",
    "         super().__init__(prompt, answer, difficulty_level)\n",
    "         self.options = options\n",
    "\n",
    "     def __str__(self):\n",
    "        return f\"{self.prompt}. Options are: {self.options} (Difficulty:{self.difficulty_level.capitalize()})\"\n",
    "\n",
    "class TrueFalse(Question):\n",
    "    pass\n",
    "\n",
    "class FillInTheBlank(Question):\n",
    "    pass"
   ]
  },
  {
   "cell_type": "code",
   "execution_count": 18,
   "id": "866a9c2c-b94a-4844-9c8e-268bd1b82c15",
   "metadata": {},
   "outputs": [],
   "source": [
    "q1 = FillInTheBlank(\"What is capital of France\", \"Paris\", \"easy\")"
   ]
  },
  {
   "cell_type": "code",
   "execution_count": 19,
   "id": "1e2024af-b3f9-48eb-a5f5-20f2f866e624",
   "metadata": {},
   "outputs": [
    {
     "name": "stdout",
     "output_type": "stream",
     "text": [
      "What is capital of France (Difficulty:Easy)\n"
     ]
    }
   ],
   "source": [
    "print(q1)"
   ]
  },
  {
   "cell_type": "code",
   "execution_count": 20,
   "id": "58063c60-6345-4335-8c2b-75ec82790b9a",
   "metadata": {},
   "outputs": [
    {
     "data": {
      "text/plain": [
       "True"
      ]
     },
     "execution_count": 20,
     "metadata": {},
     "output_type": "execute_result"
    }
   ],
   "source": [
    "q1.check_answer(\"Paris\")"
   ]
  },
  {
   "cell_type": "code",
   "execution_count": null,
   "id": "7b96f6ae-0c6c-4a22-93e3-cbb8536fcb3d",
   "metadata": {},
   "outputs": [],
   "source": [
    "Quiz -> list of questions, score\n",
    "calculate_points\n",
    "start  -> ask the question, input from the user, check the answer, if ans is correct we need the fetch the point \n",
    "earned for that question, final score"
   ]
  },
  {
   "cell_type": "code",
   "execution_count": 32,
   "id": "0117967f-b510-4f0b-964f-5cad0cfad9b1",
   "metadata": {},
   "outputs": [],
   "source": [
    "class Quiz:\n",
    "    def __init__(self, questions):\n",
    "        self.questions = questions #list\n",
    "        self.score = 0\n",
    "\n",
    "    def calculate_points(self, difficulty):\n",
    "        return {\"easy\": 1, \"medium\": 2, \"hard\": 3}.get(difficulty.lower(), 2)\n",
    "\n",
    "    def start(self):\n",
    "        print(\"Welcome to the Quiz!\")\n",
    "        for ques in self.questions:\n",
    "            print(ques)\n",
    "            user_ans = input(\"Your answer: \")\n",
    "            if ques.check_answer(user_ans):\n",
    "                point = self.calculate_points(ques.difficulty_level)\n",
    "                print(f\"Correct! {point} points.\")\n",
    "                self.score += point\n",
    "            else:\n",
    "                print(f\"Wrong answer. The correct answer is {ques.answer}.\")\n",
    "        print(f\"Your final score is: {self.score}\")"
   ]
  },
  {
   "cell_type": "code",
   "execution_count": 33,
   "id": "40c8f4c0-e546-470e-9c81-9bba1f125839",
   "metadata": {},
   "outputs": [],
   "source": [
    "questions = [MCQ(\"What is 2+2?\", [\"3\", \"4\", \"5\"], \"4\", \"easy\"), TrueFalse(\"The earth is flat\", \"False\", \"easy\"),\n",
    "            FillInTheBlank(\"What is capital of France\", \"Paris\", \"medium\")]"
   ]
  },
  {
   "cell_type": "code",
   "execution_count": 34,
   "id": "a2373ff6-03da-4587-a145-00ee7661ff26",
   "metadata": {},
   "outputs": [],
   "source": [
    "quiz_1 = Quiz(questions)"
   ]
  },
  {
   "cell_type": "code",
   "execution_count": 35,
   "id": "754bff84-3397-4d11-bb24-731d0243bdf2",
   "metadata": {},
   "outputs": [
    {
     "name": "stdout",
     "output_type": "stream",
     "text": [
      "Welcome to the Quiz!\n",
      "What is 2+2?. Options are: ['3', '4', '5'] (Difficulty:Easy)\n"
     ]
    },
    {
     "name": "stdin",
     "output_type": "stream",
     "text": [
      "Your answer:  4\n"
     ]
    },
    {
     "name": "stdout",
     "output_type": "stream",
     "text": [
      "Correct! 1 points.\n",
      "The earth is flat (Difficulty:Easy)\n"
     ]
    },
    {
     "name": "stdin",
     "output_type": "stream",
     "text": [
      "Your answer:  True\n"
     ]
    },
    {
     "name": "stdout",
     "output_type": "stream",
     "text": [
      "Wrong answer. The correct answer is False.\n",
      "What is capital of France (Difficulty:Medium)\n"
     ]
    },
    {
     "name": "stdin",
     "output_type": "stream",
     "text": [
      "Your answer:  Paris\n"
     ]
    },
    {
     "name": "stdout",
     "output_type": "stream",
     "text": [
      "Correct! 2 points.\n",
      "Your final score is: 3\n"
     ]
    }
   ],
   "source": [
    "quiz_1.start()"
   ]
  },
  {
   "cell_type": "code",
   "execution_count": null,
   "id": "9aa626bc-6d7b-40ae-909a-288b30b0bf20",
   "metadata": {},
   "outputs": [],
   "source": []
  }
 ],
 "metadata": {
  "kernelspec": {
   "display_name": "Python 3 (ipykernel)",
   "language": "python",
   "name": "python3"
  },
  "language_info": {
   "codemirror_mode": {
    "name": "ipython",
    "version": 3
   },
   "file_extension": ".py",
   "mimetype": "text/x-python",
   "name": "python",
   "nbconvert_exporter": "python",
   "pygments_lexer": "ipython3",
   "version": "3.11.7"
  }
 },
 "nbformat": 4,
 "nbformat_minor": 5
}
