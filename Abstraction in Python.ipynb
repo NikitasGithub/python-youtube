{
 "cells": [
  {
   "cell_type": "markdown",
   "id": "26343fd1-288a-45b2-9c89-6c4eda228e69",
   "metadata": {},
   "source": [
    "#### Abstraction is about hiding implementation details and showing only essential features to the user."
   ]
  },
  {
   "cell_type": "markdown",
   "id": "4f338067-eade-4dd7-bbc8-3286a63e82a6",
   "metadata": {},
   "source": [
    "#### Abstract Classes and Methods in Python\n",
    "\n",
    "An abstract class is a blueprint for other classes. It cannot be instantiated directly.\n",
    "\n",
    "An abstract method is a method declared in an abstract class but doesn’t have an implementation—it must be implemented in child classes."
   ]
  },
  {
   "cell_type": "code",
   "execution_count": null,
   "id": "8e24c1f7-b26a-4cd0-9a4a-391fdcc9f07a",
   "metadata": {},
   "outputs": [],
   "source": [
    "car, truck, bike -> start_engine"
   ]
  },
  {
   "cell_type": "code",
   "execution_count": 2,
   "id": "a18acad0-d554-4db0-a994-9319d02987e8",
   "metadata": {},
   "outputs": [],
   "source": [
    "from abc import ABC, abstractmethod\n",
    "\n",
    "class Vehicle(ABC):\n",
    "    @abstractmethod\n",
    "    def start_engine(self):\n",
    "        pass                 #No implementation"
   ]
  },
  {
   "cell_type": "code",
   "execution_count": 6,
   "id": "6f038900-ae36-4912-945f-27b5a7ca7647",
   "metadata": {},
   "outputs": [],
   "source": [
    "class Car(Vehicle):\n",
    "    def start_engine(self):\n",
    "        print(\"car engine started with a key!\")"
   ]
  },
  {
   "cell_type": "code",
   "execution_count": 7,
   "id": "87496f04-f411-48b4-b95e-098b71312425",
   "metadata": {},
   "outputs": [],
   "source": [
    "c1 = Car()"
   ]
  },
  {
   "cell_type": "code",
   "execution_count": 8,
   "id": "fb9a7233-2a65-42bf-8004-da42c6ca135b",
   "metadata": {},
   "outputs": [
    {
     "name": "stdout",
     "output_type": "stream",
     "text": [
      "car engine started with a key!\n"
     ]
    }
   ],
   "source": [
    "c1.start_engine()"
   ]
  },
  {
   "cell_type": "code",
   "execution_count": 9,
   "id": "a61ea405-cc57-43eb-adf8-79e275b6f3a7",
   "metadata": {},
   "outputs": [],
   "source": [
    "class Bike(Vehicle):\n",
    "    def start_engine(self):\n",
    "        print(\"Bike engine started with a button!\")"
   ]
  },
  {
   "cell_type": "code",
   "execution_count": 10,
   "id": "403ca285-e368-494b-a6c2-83c510016fce",
   "metadata": {},
   "outputs": [
    {
     "name": "stdout",
     "output_type": "stream",
     "text": [
      "Bike engine started with a button!\n"
     ]
    }
   ],
   "source": [
    "b1 = Bike()\n",
    "b1.start_engine()"
   ]
  },
  {
   "cell_type": "code",
   "execution_count": 11,
   "id": "dd312e8e-2a23-4c05-9ce2-ad5821c5d425",
   "metadata": {},
   "outputs": [],
   "source": [
    "class Payment(ABC):\n",
    "    @abstractmethod\n",
    "    def process_payment(self, amount):\n",
    "        pass"
   ]
  },
  {
   "cell_type": "code",
   "execution_count": 15,
   "id": "8ee59da6-ce0c-4625-a800-5ddc4ea6dd93",
   "metadata": {},
   "outputs": [],
   "source": [
    "class CreditCardpayment(Payment):\n",
    "    def process_payment(self, amount):\n",
    "        return f\"Processing credit card payment of ${amount}\"\n",
    "\n",
    "\n",
    "class Paypalpayment(Payment):\n",
    "    def process_payment(self, amount):\n",
    "        return f\"Processing paypal payment of ${amount}\""
   ]
  },
  {
   "cell_type": "code",
   "execution_count": 16,
   "id": "90dc0336-a8c9-4a8e-89f3-1ce73cbedd2e",
   "metadata": {},
   "outputs": [],
   "source": [
    "payment1 = CreditCardpayment()\n",
    "payment2 = Paypalpayment()"
   ]
  },
  {
   "cell_type": "code",
   "execution_count": 17,
   "id": "451904fa-b248-4209-8bc7-67a3fc7ab572",
   "metadata": {},
   "outputs": [
    {
     "data": {
      "text/plain": [
       "'Processing credit card payment of $100'"
      ]
     },
     "execution_count": 17,
     "metadata": {},
     "output_type": "execute_result"
    }
   ],
   "source": [
    "payment1.process_payment(100)"
   ]
  },
  {
   "cell_type": "code",
   "execution_count": 18,
   "id": "164e82a9-ec8f-4f9b-8540-be5b35c35fd0",
   "metadata": {},
   "outputs": [
    {
     "data": {
      "text/plain": [
       "'Processing paypal payment of $40'"
      ]
     },
     "execution_count": 18,
     "metadata": {},
     "output_type": "execute_result"
    }
   ],
   "source": [
    "payment2.process_payment(40)"
   ]
  },
  {
   "cell_type": "code",
   "execution_count": null,
   "id": "f3885273-263c-4337-9ede-0f36632f58f6",
   "metadata": {},
   "outputs": [],
   "source": []
  }
 ],
 "metadata": {
  "kernelspec": {
   "display_name": "Python 3 (ipykernel)",
   "language": "python",
   "name": "python3"
  },
  "language_info": {
   "codemirror_mode": {
    "name": "ipython",
    "version": 3
   },
   "file_extension": ".py",
   "mimetype": "text/x-python",
   "name": "python",
   "nbconvert_exporter": "python",
   "pygments_lexer": "ipython3",
   "version": "3.11.7"
  }
 },
 "nbformat": 4,
 "nbformat_minor": 5
}
