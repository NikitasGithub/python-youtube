{
 "cells": [
  {
   "cell_type": "markdown",
   "id": "1e5e8d94-a56e-41a2-9dc8-08ddea38d4e3",
   "metadata": {},
   "source": [
    "### 🐍 Problem: Emoji Converter\n",
    "\n",
    "Write a Python program that takes a user's message as input and replaces specific words with emojis using a dictionary.\n",
    "\n",
    "**Example:**\n",
    "\n",
    "Input: `I love pizza`  \n",
    "Output: `I ❤️ 🍕`\n"
   ]
  },
  {
   "cell_type": "code",
   "execution_count": 12,
   "id": "bc84dc43-f93d-4ef0-9336-2f9104f1d2a5",
   "metadata": {},
   "outputs": [],
   "source": []
  },
  {
   "cell_type": "code",
   "execution_count": 20,
   "id": "c39c43a6-c7ba-41cb-b830-8dd29ec1905e",
   "metadata": {},
   "outputs": [],
   "source": [
    "def emoji_converter(message):\n",
    "\n",
    "        emoji_dict = {\n",
    "            \"love\": \"❤️\",\n",
    "            \"pizza\": \"🍕\",\n",
    "            \"python\": \"🐍\",\n",
    "            \"happy\": \"😊\"\n",
    "        }        \n",
    "        words = message.lower().split() #list of words        \n",
    "        output = \"\"\n",
    "        for word in words:\n",
    "            output += emoji_dict.get(word, word) + \" \"\n",
    "        \n",
    "        return output.strip()"
   ]
  },
  {
   "cell_type": "code",
   "execution_count": 22,
   "id": "98e26b28-e175-4451-8e77-f6ad3f5183c2",
   "metadata": {},
   "outputs": [
    {
     "data": {
      "text/plain": [
       "'i am 😊'"
      ]
     },
     "execution_count": 22,
     "metadata": {},
     "output_type": "execute_result"
    }
   ],
   "source": [
    "emoji_converter(\"I am happy\")"
   ]
  },
  {
   "cell_type": "code",
   "execution_count": null,
   "id": "09ceb7dd-e544-4f63-8d19-fcaefeab5bdf",
   "metadata": {},
   "outputs": [],
   "source": []
  },
  {
   "cell_type": "code",
   "execution_count": null,
   "id": "27fdeb3a-b709-4089-9cc0-160019c2fa4c",
   "metadata": {},
   "outputs": [],
   "source": []
  },
  {
   "cell_type": "code",
   "execution_count": null,
   "id": "b5359a17-367f-4079-ab3b-200ba2d1e63f",
   "metadata": {},
   "outputs": [],
   "source": []
  },
  {
   "cell_type": "code",
   "execution_count": null,
   "id": "21533c8d-ce05-426a-ad62-ea1a53919474",
   "metadata": {},
   "outputs": [],
   "source": []
  },
  {
   "cell_type": "code",
   "execution_count": null,
   "id": "9835dafb-e10c-4902-8824-c61904b1ded7",
   "metadata": {},
   "outputs": [],
   "source": []
  }
 ],
 "metadata": {
  "kernelspec": {
   "display_name": "Python 3 (ipykernel)",
   "language": "python",
   "name": "python3"
  },
  "language_info": {
   "codemirror_mode": {
    "name": "ipython",
    "version": 3
   },
   "file_extension": ".py",
   "mimetype": "text/x-python",
   "name": "python",
   "nbconvert_exporter": "python",
   "pygments_lexer": "ipython3",
   "version": "3.11.7"
  }
 },
 "nbformat": 4,
 "nbformat_minor": 5
}
