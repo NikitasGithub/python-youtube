{
 "cells": [
  {
   "cell_type": "code",
   "execution_count": 2,
   "id": "9941959d-a4b2-40e9-9f67-a2ffcd459a53",
   "metadata": {},
   "outputs": [
    {
     "name": "stdout",
     "output_type": "stream",
     "text": [
      "1000\n"
     ]
    }
   ],
   "source": [
    "class BankAccount:\n",
    "    def __init__(self, balance):\n",
    "        self.balance = balance #public variable\n",
    "\n",
    "\n",
    "account = BankAccount(1000)\n",
    "print(account.balance)\n",
    "account.balance = -500"
   ]
  },
  {
   "cell_type": "code",
   "execution_count": 3,
   "id": "e98a9e13-dbb0-4d74-a5d4-5a84b77634f5",
   "metadata": {},
   "outputs": [
    {
     "name": "stdout",
     "output_type": "stream",
     "text": [
      "-500\n"
     ]
    }
   ],
   "source": [
    "print(account.balance)"
   ]
  },
  {
   "cell_type": "code",
   "execution_count": 10,
   "id": "9ff4760a-d2b9-4173-8921-5cef1d24862b",
   "metadata": {},
   "outputs": [],
   "source": [
    "class BankAccount:\n",
    "    def __init__(self, balance):\n",
    "        self.__balance = balance #private variable\n",
    "\n",
    "    def get_balance(self): #getter function\n",
    "        return self.__balance\n",
    "\n",
    "    def set_balance(self, amount): #setter function\n",
    "        if amount >= 0:\n",
    "            self.__balance = amount\n",
    "        else:\n",
    "            print(\"Balance cannot be negative\")"
   ]
  },
  {
   "cell_type": "code",
   "execution_count": 11,
   "id": "fe31c52f-a740-45d1-97e0-bbe3ce3cffc1",
   "metadata": {},
   "outputs": [
    {
     "data": {
      "text/plain": [
       "4000"
      ]
     },
     "execution_count": 11,
     "metadata": {},
     "output_type": "execute_result"
    }
   ],
   "source": [
    "acct1 = BankAccount(4000)\n",
    "acct1.get_balance()"
   ]
  },
  {
   "cell_type": "code",
   "execution_count": 13,
   "id": "d9e6603b-8f09-41db-b060-36866fd51d1e",
   "metadata": {},
   "outputs": [
    {
     "data": {
      "text/plain": [
       "9000"
      ]
     },
     "execution_count": 13,
     "metadata": {},
     "output_type": "execute_result"
    }
   ],
   "source": [
    "acct1.set_balance(9000)\n",
    "acct1.get_balance()"
   ]
  },
  {
   "cell_type": "code",
   "execution_count": null,
   "id": "107445fe-9602-4667-a3d8-f1fc2c556df5",
   "metadata": {},
   "outputs": [],
   "source": [
    "@property -> decorator"
   ]
  },
  {
   "cell_type": "code",
   "execution_count": 14,
   "id": "4b9d198c-6939-4350-bc72-d743c9d4ebfa",
   "metadata": {},
   "outputs": [],
   "source": [
    "class BankAccount:\n",
    "    def __init__(self, balance):\n",
    "        self.__balance = balance #private variable\n",
    "\n",
    "    @property\n",
    "    def balance(self): #getter function\n",
    "        return self.__balance\n",
    "\n",
    "    @balance.setter\n",
    "    def balance(self, amount): #setter function\n",
    "        if amount >= 0:\n",
    "            self.__balance = amount\n",
    "        else:\n",
    "            print(\"Balance cannot be negative\")"
   ]
  },
  {
   "cell_type": "code",
   "execution_count": 15,
   "id": "c4e1f97e-c36c-4bc7-a759-2107917cacb4",
   "metadata": {},
   "outputs": [
    {
     "data": {
      "text/plain": [
       "3000"
      ]
     },
     "execution_count": 15,
     "metadata": {},
     "output_type": "execute_result"
    }
   ],
   "source": [
    "acct2 =  BankAccount(3000)\n",
    "\n",
    "acct2.balance"
   ]
  },
  {
   "cell_type": "code",
   "execution_count": 16,
   "id": "bcaab5f5-4707-497f-aafb-3a42fa911f3b",
   "metadata": {},
   "outputs": [],
   "source": [
    "acct2.balance = 5000"
   ]
  },
  {
   "cell_type": "code",
   "execution_count": 17,
   "id": "a4590395-e2e2-4cbe-8df4-634f720a3828",
   "metadata": {},
   "outputs": [
    {
     "data": {
      "text/plain": [
       "5000"
      ]
     },
     "execution_count": 17,
     "metadata": {},
     "output_type": "execute_result"
    }
   ],
   "source": [
    "acct2.balance"
   ]
  },
  {
   "cell_type": "code",
   "execution_count": null,
   "id": "7fb34a44-0591-46ed-b839-e5b6376a356e",
   "metadata": {},
   "outputs": [],
   "source": []
  },
  {
   "cell_type": "code",
   "execution_count": null,
   "id": "4f9e3953-c3fb-4cda-8813-2bd19fd1654a",
   "metadata": {},
   "outputs": [],
   "source": []
  }
 ],
 "metadata": {
  "kernelspec": {
   "display_name": "Python 3 (ipykernel)",
   "language": "python",
   "name": "python3"
  },
  "language_info": {
   "codemirror_mode": {
    "name": "ipython",
    "version": 3
   },
   "file_extension": ".py",
   "mimetype": "text/x-python",
   "name": "python",
   "nbconvert_exporter": "python",
   "pygments_lexer": "ipython3",
   "version": "3.11.7"
  }
 },
 "nbformat": 4,
 "nbformat_minor": 5
}
