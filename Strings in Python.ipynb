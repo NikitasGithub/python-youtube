{
 "cells": [
  {
   "cell_type": "code",
   "execution_count": null,
   "id": "814cc8a1-956c-4a0c-be79-90c7ceef069b",
   "metadata": {},
   "outputs": [],
   "source": [
    "string - seq of characters\n",
    "\n",
    "''\n",
    "\"\"\n",
    "'''''"
   ]
  },
  {
   "cell_type": "code",
   "execution_count": 1,
   "id": "c5a4de2f-6609-490d-b349-d1fb1929f537",
   "metadata": {},
   "outputs": [],
   "source": [
    "s1 = 'hello'\n",
    "s2 = \"hello\"\n",
    "s3 = '''hello'''"
   ]
  },
  {
   "cell_type": "code",
   "execution_count": 2,
   "id": "5ef3e63f-91f3-4c87-8e8f-be8c46d90a20",
   "metadata": {},
   "outputs": [
    {
     "name": "stdout",
     "output_type": "stream",
     "text": [
      "hello hello hello\n"
     ]
    }
   ],
   "source": [
    "print(s1, s2, s3)"
   ]
  },
  {
   "cell_type": "code",
   "execution_count": 4,
   "id": "e7cd05e7-e0b5-4381-b06d-0ff6fe105563",
   "metadata": {},
   "outputs": [],
   "source": [
    "s1 = '''line1\n",
    "        line2\n",
    "        line3...'''"
   ]
  },
  {
   "cell_type": "code",
   "execution_count": 5,
   "id": "3baf00a9-b07b-4b76-9b42-f1b2487cc1c0",
   "metadata": {},
   "outputs": [
    {
     "data": {
      "text/plain": [
       "str"
      ]
     },
     "execution_count": 5,
     "metadata": {},
     "output_type": "execute_result"
    }
   ],
   "source": [
    "type(s1)"
   ]
  },
  {
   "cell_type": "code",
   "execution_count": 6,
   "id": "c459ba92-4145-4e25-b17e-a4e0314fcc90",
   "metadata": {},
   "outputs": [
    {
     "ename": "SyntaxError",
     "evalue": "invalid syntax (3052811664.py, line 1)",
     "output_type": "error",
     "traceback": [
      "\u001b[1;36m  Cell \u001b[1;32mIn[6], line 1\u001b[1;36m\u001b[0m\n\u001b[1;33m    s1 = ''line1\u001b[0m\n\u001b[1;37m           ^\u001b[0m\n\u001b[1;31mSyntaxError\u001b[0m\u001b[1;31m:\u001b[0m invalid syntax\n"
     ]
    }
   ],
   "source": [
    "s1 = ''line1\n",
    "        line2\n",
    "        line3...''"
   ]
  },
  {
   "cell_type": "code",
   "execution_count": 7,
   "id": "9c1a790e-89bf-4a7d-9a0f-3fb839ae36a2",
   "metadata": {},
   "outputs": [],
   "source": [
    "str1 = \"Hello World\""
   ]
  },
  {
   "cell_type": "code",
   "execution_count": 8,
   "id": "cce902a1-d356-4143-b3d2-2f959560a035",
   "metadata": {},
   "outputs": [
    {
     "data": {
      "text/plain": [
       "11"
      ]
     },
     "execution_count": 8,
     "metadata": {},
     "output_type": "execute_result"
    }
   ],
   "source": [
    "len(str1)"
   ]
  },
  {
   "cell_type": "code",
   "execution_count": 9,
   "id": "34e35d29-bc3d-48a8-a503-d59e931c0bde",
   "metadata": {},
   "outputs": [
    {
     "data": {
      "text/plain": [
       "'o'"
      ]
     },
     "execution_count": 9,
     "metadata": {},
     "output_type": "execute_result"
    }
   ],
   "source": [
    "str1[4]"
   ]
  },
  {
   "cell_type": "code",
   "execution_count": 10,
   "id": "61e35653-323c-4fea-a868-8ff39e771545",
   "metadata": {},
   "outputs": [
    {
     "data": {
      "text/plain": [
       "'W'"
      ]
     },
     "execution_count": 10,
     "metadata": {},
     "output_type": "execute_result"
    }
   ],
   "source": [
    "str1[6]"
   ]
  },
  {
   "cell_type": "code",
   "execution_count": 12,
   "id": "3731d21c-0cbc-45df-a79f-150bc754740b",
   "metadata": {},
   "outputs": [
    {
     "data": {
      "text/plain": [
       "'d'"
      ]
     },
     "execution_count": 12,
     "metadata": {},
     "output_type": "execute_result"
    }
   ],
   "source": [
    "str1[-1]"
   ]
  },
  {
   "cell_type": "code",
   "execution_count": null,
   "id": "dd92b0ee-8e35-44b0-8533-a044ee74a566",
   "metadata": {},
   "outputs": [],
   "source": [
    "#slice"
   ]
  },
  {
   "cell_type": "code",
   "execution_count": 13,
   "id": "41f679d8-9adf-4fcd-9717-06c6799b1c9d",
   "metadata": {},
   "outputs": [
    {
     "data": {
      "text/plain": [
       "'Hello World'"
      ]
     },
     "execution_count": 13,
     "metadata": {},
     "output_type": "execute_result"
    }
   ],
   "source": [
    "str1"
   ]
  },
  {
   "cell_type": "code",
   "execution_count": null,
   "id": "930c9d53-6369-4b59-a42b-26d90ef0e1ed",
   "metadata": {},
   "outputs": [],
   "source": [
    "str1[start_index:end_index+1]"
   ]
  },
  {
   "cell_type": "code",
   "execution_count": 15,
   "id": "04eb8aad-4095-45ff-918b-a8fbb12e038c",
   "metadata": {},
   "outputs": [
    {
     "data": {
      "text/plain": [
       "'World'"
      ]
     },
     "execution_count": 15,
     "metadata": {},
     "output_type": "execute_result"
    }
   ],
   "source": [
    "str1[6:11]"
   ]
  },
  {
   "cell_type": "code",
   "execution_count": 16,
   "id": "c83199a5-5fde-4028-9511-914eb260e4e5",
   "metadata": {},
   "outputs": [
    {
     "data": {
      "text/plain": [
       "'World'"
      ]
     },
     "execution_count": 16,
     "metadata": {},
     "output_type": "execute_result"
    }
   ],
   "source": [
    "str1[6:]"
   ]
  },
  {
   "cell_type": "code",
   "execution_count": 17,
   "id": "457bf7f0-33b2-415c-8972-d264d1f96365",
   "metadata": {},
   "outputs": [
    {
     "data": {
      "text/plain": [
       "'Hello Wo'"
      ]
     },
     "execution_count": 17,
     "metadata": {},
     "output_type": "execute_result"
    }
   ],
   "source": [
    "str1[:8]"
   ]
  },
  {
   "cell_type": "code",
   "execution_count": 18,
   "id": "a81527c5-d283-480e-a20e-1a80cc63882e",
   "metadata": {},
   "outputs": [],
   "source": [
    "str1 = \"Hello\"\n",
    "str2 = \"World\"\n",
    "\n",
    "str3 = str1 + \" \" + str2"
   ]
  },
  {
   "cell_type": "code",
   "execution_count": 19,
   "id": "0209f666-a015-4d43-9792-d0ea4ca77c4d",
   "metadata": {},
   "outputs": [
    {
     "data": {
      "text/plain": [
       "'Hello World'"
      ]
     },
     "execution_count": 19,
     "metadata": {},
     "output_type": "execute_result"
    }
   ],
   "source": [
    "str3"
   ]
  },
  {
   "cell_type": "code",
   "execution_count": 21,
   "id": "4b6b78d1-c6bb-4986-b0a5-fbaf85bfea98",
   "metadata": {},
   "outputs": [
    {
     "name": "stdout",
     "output_type": "stream",
     "text": [
      "Python Python Python \n"
     ]
    }
   ],
   "source": [
    "print(\"Python \" * 3)"
   ]
  },
  {
   "cell_type": "code",
   "execution_count": null,
   "id": "9aa4340c-67e7-47ab-9d58-8c0ff4d9ac1c",
   "metadata": {},
   "outputs": [],
   "source": [
    "#string -> inbuild -> immutable"
   ]
  },
  {
   "cell_type": "code",
   "execution_count": 22,
   "id": "850364f5-6065-4fd8-8747-73c6ee815779",
   "metadata": {},
   "outputs": [
    {
     "name": "stdout",
     "output_type": "stream",
     "text": [
      "PYTHON PROGRAMMING\n"
     ]
    }
   ],
   "source": [
    "text = \"python programming\"\n",
    "\n",
    "print(text.upper())"
   ]
  },
  {
   "cell_type": "code",
   "execution_count": 23,
   "id": "c3e8618d-cf29-41f3-ade5-35176f0adb33",
   "metadata": {},
   "outputs": [
    {
     "data": {
      "text/plain": [
       "'python programming'"
      ]
     },
     "execution_count": 23,
     "metadata": {},
     "output_type": "execute_result"
    }
   ],
   "source": [
    "text"
   ]
  },
  {
   "cell_type": "code",
   "execution_count": 24,
   "id": "6286c891-4724-4508-af47-535dba163e08",
   "metadata": {},
   "outputs": [
    {
     "data": {
      "text/plain": [
       "'python programming'"
      ]
     },
     "execution_count": 24,
     "metadata": {},
     "output_type": "execute_result"
    }
   ],
   "source": [
    "text.lower()"
   ]
  },
  {
   "cell_type": "code",
   "execution_count": 25,
   "id": "3ed0d077-6586-4c52-9404-afaf118a7986",
   "metadata": {},
   "outputs": [
    {
     "data": {
      "text/plain": [
       "'Python Programming'"
      ]
     },
     "execution_count": 25,
     "metadata": {},
     "output_type": "execute_result"
    }
   ],
   "source": [
    "text.title()"
   ]
  },
  {
   "cell_type": "code",
   "execution_count": 28,
   "id": "5a641a0d-9b07-48ee-8c73-1b3a5ca90bd9",
   "metadata": {},
   "outputs": [
    {
     "data": {
      "text/plain": [
       "'Python   Programming'"
      ]
     },
     "execution_count": 28,
     "metadata": {},
     "output_type": "execute_result"
    }
   ],
   "source": [
    "txt = \"  Python   Programming     \"\n",
    "txt.strip()"
   ]
  },
  {
   "cell_type": "code",
   "execution_count": 29,
   "id": "80ca5b75-5d0d-48ba-8b46-2c415d04217a",
   "metadata": {},
   "outputs": [
    {
     "data": {
      "text/plain": [
       "'python programming'"
      ]
     },
     "execution_count": 29,
     "metadata": {},
     "output_type": "execute_result"
    }
   ],
   "source": [
    "text"
   ]
  },
  {
   "cell_type": "code",
   "execution_count": 32,
   "id": "6b00ae9e-35a4-49e2-87cd-7e399bce84cb",
   "metadata": {},
   "outputs": [],
   "source": [
    "new_txt = text.replace(\"python\", \"java\")"
   ]
  },
  {
   "cell_type": "code",
   "execution_count": 31,
   "id": "2cf56efe-3655-4865-9e51-cba2aa1cb187",
   "metadata": {},
   "outputs": [
    {
     "data": {
      "text/plain": [
       "'python programming'"
      ]
     },
     "execution_count": 31,
     "metadata": {},
     "output_type": "execute_result"
    }
   ],
   "source": [
    "text"
   ]
  },
  {
   "cell_type": "code",
   "execution_count": 33,
   "id": "41c21e94-9441-43b2-95ff-9d0a8c2f439d",
   "metadata": {},
   "outputs": [
    {
     "data": {
      "text/plain": [
       "'java programming'"
      ]
     },
     "execution_count": 33,
     "metadata": {},
     "output_type": "execute_result"
    }
   ],
   "source": [
    "new_txt"
   ]
  },
  {
   "cell_type": "code",
   "execution_count": 37,
   "id": "4436c35e-b486-4566-a79a-2116afd16406",
   "metadata": {},
   "outputs": [
    {
     "data": {
      "text/plain": [
       "['python', 'programming']"
      ]
     },
     "execution_count": 37,
     "metadata": {},
     "output_type": "execute_result"
    }
   ],
   "source": [
    "text.split()"
   ]
  },
  {
   "cell_type": "code",
   "execution_count": 39,
   "id": "785b96fc-81b8-4c23-b3cb-d598cb8b0fc1",
   "metadata": {},
   "outputs": [
    {
     "data": {
      "text/plain": [
       "['Good', 'Morn', 'ing']"
      ]
     },
     "execution_count": 39,
     "metadata": {},
     "output_type": "execute_result"
    }
   ],
   "source": [
    "text2 = \"Good-Morn-ing\"\n",
    "\n",
    "text2.split(sep='-')"
   ]
  },
  {
   "cell_type": "code",
   "execution_count": null,
   "id": "3adc30d7-f69f-403e-aae9-6bb1e1c0bcc7",
   "metadata": {},
   "outputs": [],
   "source": []
  }
 ],
 "metadata": {
  "kernelspec": {
   "display_name": "Python 3 (ipykernel)",
   "language": "python",
   "name": "python3"
  },
  "language_info": {
   "codemirror_mode": {
    "name": "ipython",
    "version": 3
   },
   "file_extension": ".py",
   "mimetype": "text/x-python",
   "name": "python",
   "nbconvert_exporter": "python",
   "pygments_lexer": "ipython3",
   "version": "3.11.7"
  }
 },
 "nbformat": 4,
 "nbformat_minor": 5
}
