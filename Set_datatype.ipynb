{
 "cells": [
  {
   "cell_type": "code",
   "execution_count": null,
   "id": "efef204d-c111-42f1-8b1c-329911c83239",
   "metadata": {},
   "outputs": [],
   "source": [
    "A set is a unordered collection of unique elements\n",
    "\n",
    "{}\n",
    "set()"
   ]
  },
  {
   "cell_type": "code",
   "execution_count": 5,
   "id": "3aefebad-7199-464d-a12e-f8f9ef6c2c1b",
   "metadata": {},
   "outputs": [
    {
     "data": {
      "text/plain": [
       "set"
      ]
     },
     "execution_count": 5,
     "metadata": {},
     "output_type": "execute_result"
    }
   ],
   "source": [
    "s1 = {1,2,\"Nikita\",6.7, 0}\n",
    "type(s1)"
   ]
  },
  {
   "cell_type": "code",
   "execution_count": 6,
   "id": "240c782e-25db-40c4-bb4f-119665cb4a8f",
   "metadata": {},
   "outputs": [
    {
     "name": "stdout",
     "output_type": "stream",
     "text": [
      "{0, 1, 2, 6.7, 'Nikita'}\n"
     ]
    }
   ],
   "source": [
    "print(s1)"
   ]
  },
  {
   "cell_type": "code",
   "execution_count": 7,
   "id": "1b5596d6-86e3-4a05-ae1c-4f9f7592009e",
   "metadata": {},
   "outputs": [
    {
     "ename": "TypeError",
     "evalue": "'set' object is not subscriptable",
     "output_type": "error",
     "traceback": [
      "\u001b[1;31m---------------------------------------------------------------------------\u001b[0m",
      "\u001b[1;31mTypeError\u001b[0m                                 Traceback (most recent call last)",
      "Cell \u001b[1;32mIn[7], line 1\u001b[0m\n\u001b[1;32m----> 1\u001b[0m s1[\u001b[38;5;241m2\u001b[39m]\n",
      "\u001b[1;31mTypeError\u001b[0m: 'set' object is not subscriptable"
     ]
    }
   ],
   "source": [
    "s1[2]"
   ]
  },
  {
   "cell_type": "code",
   "execution_count": null,
   "id": "ca1da979-fe53-4183-91a0-06f9598b7680",
   "metadata": {},
   "outputs": [],
   "source": [
    "How to access the elements of set -> Loops"
   ]
  },
  {
   "cell_type": "code",
   "execution_count": null,
   "id": "25a0ca65-585c-4724-a470-1f172a5fd20b",
   "metadata": {},
   "outputs": [],
   "source": [
    "#set cant have duplicate values"
   ]
  },
  {
   "cell_type": "code",
   "execution_count": 8,
   "id": "37738417-5044-4d2c-8ac6-21127ec3553c",
   "metadata": {},
   "outputs": [],
   "source": [
    "s2 = {1,2,\"Nikita\",6.7, 0,1,1}"
   ]
  },
  {
   "cell_type": "code",
   "execution_count": 9,
   "id": "7e63c761-7fb2-4267-af9f-5ec0775dd636",
   "metadata": {},
   "outputs": [
    {
     "name": "stdout",
     "output_type": "stream",
     "text": [
      "{0, 1, 2, 6.7, 'Nikita'}\n"
     ]
    }
   ],
   "source": [
    "print(s2)"
   ]
  },
  {
   "cell_type": "code",
   "execution_count": null,
   "id": "e2a15696-059f-4626-937b-5ff9aea2eb3a",
   "metadata": {},
   "outputs": [],
   "source": [
    "set is mutable  -> add amnd delete\n",
    "\n",
    "items of the set are immutable"
   ]
  },
  {
   "cell_type": "code",
   "execution_count": 10,
   "id": "0ddec87b-9b92-46fb-9ed8-d716a2f00691",
   "metadata": {},
   "outputs": [
    {
     "data": {
      "text/plain": [
       "{0, 1, 2, 6.7, 'Nikita'}"
      ]
     },
     "execution_count": 10,
     "metadata": {},
     "output_type": "execute_result"
    }
   ],
   "source": [
    "s1"
   ]
  },
  {
   "cell_type": "code",
   "execution_count": 11,
   "id": "54085d22-7560-49c9-af2c-d9dd05bbecaf",
   "metadata": {},
   "outputs": [],
   "source": [
    "s1.add(\"gm\")"
   ]
  },
  {
   "cell_type": "code",
   "execution_count": 12,
   "id": "c6493e89-e719-48de-8230-8e86ec330e81",
   "metadata": {},
   "outputs": [
    {
     "data": {
      "text/plain": [
       "{0, 1, 2, 6.7, 'Nikita', 'gm'}"
      ]
     },
     "execution_count": 12,
     "metadata": {},
     "output_type": "execute_result"
    }
   ],
   "source": [
    "s1"
   ]
  },
  {
   "cell_type": "code",
   "execution_count": 13,
   "id": "9c699942-4a55-478e-a722-c3dc3f20ea7a",
   "metadata": {},
   "outputs": [],
   "source": [
    "s1.update([9,7,4])"
   ]
  },
  {
   "cell_type": "code",
   "execution_count": 14,
   "id": "fb2d6310-1af6-4c49-a150-010ba868e97e",
   "metadata": {},
   "outputs": [
    {
     "name": "stdout",
     "output_type": "stream",
     "text": [
      "{0, 1, 2, 4, 6.7, 7, 9, 'gm', 'Nikita'}\n"
     ]
    }
   ],
   "source": [
    "print(s1)"
   ]
  },
  {
   "cell_type": "code",
   "execution_count": 15,
   "id": "4335fc61-23a9-4730-bbed-2af0fabf0c31",
   "metadata": {},
   "outputs": [],
   "source": [
    "s1.remove(4)"
   ]
  },
  {
   "cell_type": "code",
   "execution_count": 16,
   "id": "8564212b-0812-4ec9-bb0e-0f4bb28bf89e",
   "metadata": {},
   "outputs": [
    {
     "name": "stdout",
     "output_type": "stream",
     "text": [
      "{0, 1, 2, 6.7, 7, 9, 'gm', 'Nikita'}\n"
     ]
    }
   ],
   "source": [
    "print(s1)"
   ]
  },
  {
   "cell_type": "code",
   "execution_count": 17,
   "id": "33d9caac-fdb8-40e6-86fb-9614565689ae",
   "metadata": {},
   "outputs": [
    {
     "data": {
      "text/plain": [
       "0"
      ]
     },
     "execution_count": 17,
     "metadata": {},
     "output_type": "execute_result"
    }
   ],
   "source": [
    "s1.pop()"
   ]
  },
  {
   "cell_type": "code",
   "execution_count": 18,
   "id": "1b615f79-0fb3-48c1-ac1b-1137017a9c46",
   "metadata": {},
   "outputs": [],
   "source": [
    "s1.discard(100)"
   ]
  },
  {
   "cell_type": "code",
   "execution_count": 19,
   "id": "eea82686-182d-4c8b-945e-873c4946b864",
   "metadata": {},
   "outputs": [
    {
     "ename": "KeyError",
     "evalue": "100",
     "output_type": "error",
     "traceback": [
      "\u001b[1;31m---------------------------------------------------------------------------\u001b[0m",
      "\u001b[1;31mKeyError\u001b[0m                                  Traceback (most recent call last)",
      "Cell \u001b[1;32mIn[19], line 1\u001b[0m\n\u001b[1;32m----> 1\u001b[0m s1\u001b[38;5;241m.\u001b[39mremove(\u001b[38;5;241m100\u001b[39m)\n",
      "\u001b[1;31mKeyError\u001b[0m: 100"
     ]
    }
   ],
   "source": [
    "s1.remove(100)"
   ]
  },
  {
   "cell_type": "code",
   "execution_count": 22,
   "id": "7ef9fa7b-b79c-4bb2-a5ea-a618e9fe4ff5",
   "metadata": {},
   "outputs": [
    {
     "ename": "TypeError",
     "evalue": "unhashable type: 'list'",
     "output_type": "error",
     "traceback": [
      "\u001b[1;31m---------------------------------------------------------------------------\u001b[0m",
      "\u001b[1;31mTypeError\u001b[0m                                 Traceback (most recent call last)",
      "Cell \u001b[1;32mIn[22], line 1\u001b[0m\n\u001b[1;32m----> 1\u001b[0m s4 \u001b[38;5;241m=\u001b[39m {\u001b[38;5;241m1\u001b[39m,\u001b[38;5;241m2\u001b[39m,\u001b[38;5;124m\"\u001b[39m\u001b[38;5;124mhello\u001b[39m\u001b[38;5;124m\"\u001b[39m, (\u001b[38;5;241m1\u001b[39m,\u001b[38;5;241m4\u001b[39m), [\u001b[38;5;241m5\u001b[39m,\u001b[38;5;241m6\u001b[39m]}\n\u001b[0;32m      2\u001b[0m \u001b[38;5;28mtype\u001b[39m(s4)\n",
      "\u001b[1;31mTypeError\u001b[0m: unhashable type: 'list'"
     ]
    }
   ],
   "source": [
    "s4 = {1,2,\"hello\", (1,4), [5,6]}\n",
    "type(s4)"
   ]
  },
  {
   "cell_type": "code",
   "execution_count": 23,
   "id": "51b20888-9835-4d36-bdcf-859ca0796823",
   "metadata": {},
   "outputs": [
    {
     "data": {
      "text/plain": [
       "{1, 2, 3, 4, 5}"
      ]
     },
     "execution_count": 23,
     "metadata": {},
     "output_type": "execute_result"
    }
   ],
   "source": [
    "A = {1,2,3}\n",
    "B = {3,4,5}\n",
    "\n",
    "A.union(B)"
   ]
  },
  {
   "cell_type": "code",
   "execution_count": 24,
   "id": "0036a094-3174-4a23-b325-c1d5a589d754",
   "metadata": {},
   "outputs": [
    {
     "data": {
      "text/plain": [
       "{3}"
      ]
     },
     "execution_count": 24,
     "metadata": {},
     "output_type": "execute_result"
    }
   ],
   "source": [
    "A.intersection(B)"
   ]
  },
  {
   "cell_type": "code",
   "execution_count": 26,
   "id": "8f6892cf-fd61-4c36-9c56-8b7d9da9496b",
   "metadata": {},
   "outputs": [
    {
     "data": {
      "text/plain": [
       "{3, 4, 5}"
      ]
     },
     "execution_count": 26,
     "metadata": {},
     "output_type": "execute_result"
    }
   ],
   "source": [
    "B"
   ]
  },
  {
   "cell_type": "code",
   "execution_count": 27,
   "id": "d56619f8-9474-4f4e-a031-9ac54eb38f6f",
   "metadata": {},
   "outputs": [],
   "source": [
    "A.intersection_update(B)"
   ]
  },
  {
   "cell_type": "code",
   "execution_count": 28,
   "id": "ee921870-25b4-47c6-9d7e-b22db762a7ee",
   "metadata": {},
   "outputs": [
    {
     "data": {
      "text/plain": [
       "{3}"
      ]
     },
     "execution_count": 28,
     "metadata": {},
     "output_type": "execute_result"
    }
   ],
   "source": [
    "A"
   ]
  },
  {
   "cell_type": "code",
   "execution_count": 29,
   "id": "3303e188-8409-4ad2-a8c7-f8441665dc87",
   "metadata": {},
   "outputs": [],
   "source": [
    "A = {1,2,3}\n",
    "B = {3,4,5}"
   ]
  },
  {
   "cell_type": "code",
   "execution_count": 30,
   "id": "d763dd37-a403-42a5-ac9a-af0f69c5819e",
   "metadata": {},
   "outputs": [
    {
     "data": {
      "text/plain": [
       "{1, 2}"
      ]
     },
     "execution_count": 30,
     "metadata": {},
     "output_type": "execute_result"
    }
   ],
   "source": [
    "A.difference(B)"
   ]
  },
  {
   "cell_type": "code",
   "execution_count": 31,
   "id": "1740e837-13bf-455a-b01b-3fe566fee82c",
   "metadata": {},
   "outputs": [],
   "source": [
    "A = {1,2,3}\n",
    "B = {3,4,5,1,2,6}"
   ]
  },
  {
   "cell_type": "code",
   "execution_count": 32,
   "id": "726d39b3-b023-4f5c-9e3a-34a801ac0b89",
   "metadata": {},
   "outputs": [
    {
     "data": {
      "text/plain": [
       "True"
      ]
     },
     "execution_count": 32,
     "metadata": {},
     "output_type": "execute_result"
    }
   ],
   "source": [
    "A.issubset(B)"
   ]
  },
  {
   "cell_type": "code",
   "execution_count": 33,
   "id": "156ba556-d4dc-4ba3-8c2d-693748af1136",
   "metadata": {},
   "outputs": [
    {
     "data": {
      "text/plain": [
       "False"
      ]
     },
     "execution_count": 33,
     "metadata": {},
     "output_type": "execute_result"
    }
   ],
   "source": [
    "A.issuperset(B)"
   ]
  },
  {
   "cell_type": "code",
   "execution_count": null,
   "id": "c4bd05b8-62ef-4f1a-bf6b-39afd2c5abbe",
   "metadata": {},
   "outputs": [],
   "source": []
  }
 ],
 "metadata": {
  "kernelspec": {
   "display_name": "Python 3 (ipykernel)",
   "language": "python",
   "name": "python3"
  },
  "language_info": {
   "codemirror_mode": {
    "name": "ipython",
    "version": 3
   },
   "file_extension": ".py",
   "mimetype": "text/x-python",
   "name": "python",
   "nbconvert_exporter": "python",
   "pygments_lexer": "ipython3",
   "version": "3.11.7"
  }
 },
 "nbformat": 4,
 "nbformat_minor": 5
}
