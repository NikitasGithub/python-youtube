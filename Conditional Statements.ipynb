{
 "cells": [
  {
   "cell_type": "markdown",
   "id": "a9cd9573-faca-422b-ac74-cc476c04a86e",
   "metadata": {},
   "source": [
    "if condition1:\n",
    "\n",
    "    #code executes if condition is true\n",
    "    \n",
    "elif condition2:\n",
    "\n",
    "    #code executes if condition is true\n",
    "    \n",
    "elif condition3:\n",
    "\n",
    "    #...\n",
    "\n",
    "else:\n",
    "\n",
    "    #code executes if above is false\n",
    "    "
   ]
  },
  {
   "cell_type": "code",
   "execution_count": 23,
   "id": "0004e6d5-9267-4052-aa1d-56ef6943c96c",
   "metadata": {},
   "outputs": [
    {
     "name": "stdout",
     "output_type": "stream",
     "text": [
      "b is greater than a\n",
      "200\n",
      "hello\n"
     ]
    }
   ],
   "source": [
    "a = 20\n",
    "b = 100\n",
    "\n",
    "if b > a:\n",
    "    print(\"b is greater than a\")\n",
    "    b = b + 100\n",
    "    print(b)\n",
    "elif b < a:\n",
    "    print(\"b less than a\")\n",
    "    a = a * 2\n",
    "    print(a)\n",
    "else:\n",
    "    print(\"b is equal to a\")\n",
    "    print(a, b)\n",
    "\n",
    "print(\"hello\") #outside the if block"
   ]
  },
  {
   "cell_type": "code",
   "execution_count": 37,
   "id": "0fa6c879-a048-4a8e-b5a5-518b3c4adac4",
   "metadata": {},
   "outputs": [
    {
     "name": "stdin",
     "output_type": "stream",
     "text": [
      "Enter the temperature: 12\n"
     ]
    },
    {
     "name": "stdout",
     "output_type": "stream",
     "text": [
      "Its cold\n",
      "...\n"
     ]
    }
   ],
   "source": [
    "temp = int(input(\"Enter the temperature:\"))\n",
    "\n",
    "if temp < 10:\n",
    "    print(\"Its freezing\")\n",
    "elif temp < 20:\n",
    "        print(\"Its cold\")\n",
    "        print(\"...\")\n",
    "elif temp < 30:\n",
    "    print(\"Nice weather!\")\n",
    "else:\n",
    "    print(\"its hot\")"
   ]
  },
  {
   "cell_type": "code",
   "execution_count": null,
   "id": "6c1968cd-9ee8-47a4-9ff1-17fb7c3595d9",
   "metadata": {},
   "outputs": [],
   "source": [
    "#nested"
   ]
  },
  {
   "cell_type": "code",
   "execution_count": 35,
   "id": "0930ee59-c993-472a-b90b-cac5facb188c",
   "metadata": {},
   "outputs": [
    {
     "name": "stdin",
     "output_type": "stream",
     "text": [
      "Enter your age: 25\n",
      "Are you a citizen (yes/no): Yes\n"
     ]
    },
    {
     "name": "stdout",
     "output_type": "stream",
     "text": [
      "You can vote!\n"
     ]
    }
   ],
   "source": [
    "age = int(input(\"Enter your age:\"))\n",
    "\n",
    "if age >= 18:\n",
    "    citizen = input(\"Are you a citizen (yes/no):\")\n",
    "    if citizen.lower() == 'yes':\n",
    "        print(\"You can vote!\")\n",
    "    else:\n",
    "        print(\"You must be citizen to vote..\")\n",
    "else:\n",
    "    print(\"You are too young to vote\")"
   ]
  },
  {
   "cell_type": "code",
   "execution_count": null,
   "id": "3d327adb-5a4b-4e19-b2ec-7c1efa8d6bb2",
   "metadata": {},
   "outputs": [],
   "source": []
  },
  {
   "cell_type": "code",
   "execution_count": null,
   "id": "9b754dec-8890-49c2-86c1-3efdcfb1865a",
   "metadata": {},
   "outputs": [],
   "source": []
  },
  {
   "cell_type": "code",
   "execution_count": null,
   "id": "37a0f9f2-fc59-4c1e-a1ce-cc4614d1501e",
   "metadata": {},
   "outputs": [],
   "source": []
  }
 ],
 "metadata": {
  "kernelspec": {
   "display_name": "Python 3 (ipykernel)",
   "language": "python",
   "name": "python3"
  },
  "language_info": {
   "codemirror_mode": {
    "name": "ipython",
    "version": 3
   },
   "file_extension": ".py",
   "mimetype": "text/x-python",
   "name": "python",
   "nbconvert_exporter": "python",
   "pygments_lexer": "ipython3",
   "version": "3.11.7"
  }
 },
 "nbformat": 4,
 "nbformat_minor": 5
}
