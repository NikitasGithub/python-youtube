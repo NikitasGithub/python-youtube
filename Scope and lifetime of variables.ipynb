{
 "cells": [
  {
   "cell_type": "markdown",
   "id": "db23aa78-2484-43a1-88f6-e8b7e9e548c0",
   "metadata": {},
   "source": [
    "### What is Scope in Python?\n",
    "\n",
    "Scope refers to the region of code where a variable is recognized and can be accessed."
   ]
  },
  {
   "cell_type": "code",
   "execution_count": 46,
   "id": "e1d99580-08c6-4569-8a3c-429eb78322e6",
   "metadata": {},
   "outputs": [],
   "source": [
    "def greet():\n",
    "    message = \"Hello, World!\"  #local scope -> local variable\n",
    "    print(message)"
   ]
  },
  {
   "cell_type": "code",
   "execution_count": 47,
   "id": "2910ef13-66df-4b97-a6cc-6b284036fe52",
   "metadata": {},
   "outputs": [
    {
     "name": "stdout",
     "output_type": "stream",
     "text": [
      "Hello, World!\n"
     ]
    }
   ],
   "source": [
    "greet()"
   ]
  },
  {
   "cell_type": "code",
   "execution_count": 48,
   "id": "70abee89-4264-428e-bf74-4fc3a0efaee3",
   "metadata": {},
   "outputs": [
    {
     "ename": "NameError",
     "evalue": "name 'message' is not defined",
     "output_type": "error",
     "traceback": [
      "\u001b[1;31m---------------------------------------------------------------------------\u001b[0m",
      "\u001b[1;31mNameError\u001b[0m                                 Traceback (most recent call last)",
      "Cell \u001b[1;32mIn[48], line 1\u001b[0m\n\u001b[1;32m----> 1\u001b[0m \u001b[38;5;28mprint\u001b[39m(message)\n",
      "\u001b[1;31mNameError\u001b[0m: name 'message' is not defined"
     ]
    }
   ],
   "source": [
    "print(message)"
   ]
  },
  {
   "cell_type": "code",
   "execution_count": 49,
   "id": "6c39a262-4da8-4f10-b425-e65d6ef296da",
   "metadata": {},
   "outputs": [
    {
     "name": "stdout",
     "output_type": "stream",
     "text": [
      "hello\n",
      "hello\n"
     ]
    }
   ],
   "source": [
    "text = \"hello\" #global scope ->\n",
    "\n",
    "def display():\n",
    "    print(text)\n",
    "\n",
    "display()\n",
    "\n",
    "print(text)"
   ]
  },
  {
   "cell_type": "code",
   "execution_count": 52,
   "id": "ec9a29d3-8d09-4882-81ce-8a274b3bb987",
   "metadata": {},
   "outputs": [],
   "source": [
    "num = 10\n",
    "\n",
    "def display_num():\n",
    "    num = 20 #assign a value, python treats num variable as local variable\n",
    "    print(\"Inside function:\", num)"
   ]
  },
  {
   "cell_type": "code",
   "execution_count": 53,
   "id": "c5e0061f-8d68-48fb-a20e-c5afa3ed9158",
   "metadata": {},
   "outputs": [
    {
     "name": "stdout",
     "output_type": "stream",
     "text": [
      "Inside function: 20\n",
      "Outside function 10\n"
     ]
    }
   ],
   "source": [
    "display_num()\n",
    "\n",
    "print(\"Outside function\", num)"
   ]
  },
  {
   "cell_type": "code",
   "execution_count": 55,
   "id": "70523087-c5e1-4240-ade7-c3b3ba701329",
   "metadata": {},
   "outputs": [
    {
     "name": "stdout",
     "output_type": "stream",
     "text": [
      "Inside function: 11\n",
      "Outside function 11\n"
     ]
    }
   ],
   "source": [
    "num = 10\n",
    "\n",
    "def display_num():\n",
    "    global num \n",
    "    num = num + 1\n",
    "    print(\"Inside function:\", num)\n",
    "\n",
    "display_num()\n",
    "\n",
    "print(\"Outside function\", num)"
   ]
  },
  {
   "cell_type": "code",
   "execution_count": 57,
   "id": "8289644d-1c1b-4065-b2dd-df889be34a57",
   "metadata": {},
   "outputs": [
    {
     "name": "stdout",
     "output_type": "stream",
     "text": [
      "Inner: Hi\n",
      "Outer: Hi\n"
     ]
    }
   ],
   "source": [
    "def outer():\n",
    "    message = \"Hello\"  \n",
    "\n",
    "    def inner():\n",
    "        nonlocal message\n",
    "        message = \"Hi\"   #creating a new local variable\n",
    "        print(\"Inner:\", message)\n",
    "\n",
    "    inner()\n",
    "    print(\"Outer:\", message)\n",
    "\n",
    "outer()"
   ]
  },
  {
   "cell_type": "code",
   "execution_count": null,
   "id": "e7bd8256-1ffe-4b60-9f54-f87e66d1cbcc",
   "metadata": {},
   "outputs": [],
   "source": []
  },
  {
   "cell_type": "code",
   "execution_count": null,
   "id": "bb0fee78-5bdc-4069-acad-e9c76507e813",
   "metadata": {},
   "outputs": [],
   "source": []
  },
  {
   "cell_type": "code",
   "execution_count": null,
   "id": "7c35a108-7f65-4c39-b917-a88489f3c5b7",
   "metadata": {},
   "outputs": [],
   "source": []
  },
  {
   "cell_type": "code",
   "execution_count": null,
   "id": "35eacf85-8f08-442d-8e57-7816ec156314",
   "metadata": {},
   "outputs": [],
   "source": []
  },
  {
   "cell_type": "code",
   "execution_count": null,
   "id": "0a20ee24-4106-42d4-bf81-66cc352cd6dc",
   "metadata": {},
   "outputs": [],
   "source": []
  },
  {
   "cell_type": "code",
   "execution_count": null,
   "id": "c86dc49d-eec6-4d73-b052-e2d418099b47",
   "metadata": {},
   "outputs": [],
   "source": []
  }
 ],
 "metadata": {
  "kernelspec": {
   "display_name": "Python 3 (ipykernel)",
   "language": "python",
   "name": "python3"
  },
  "language_info": {
   "codemirror_mode": {
    "name": "ipython",
    "version": 3
   },
   "file_extension": ".py",
   "mimetype": "text/x-python",
   "name": "python",
   "nbconvert_exporter": "python",
   "pygments_lexer": "ipython3",
   "version": "3.11.7"
  }
 },
 "nbformat": 4,
 "nbformat_minor": 5
}
