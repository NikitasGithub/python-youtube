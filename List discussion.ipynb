{
 "cells": [
  {
   "cell_type": "code",
   "execution_count": 1,
   "id": "1a081823-6c76-4b71-802f-3d2370b89db4",
   "metadata": {},
   "outputs": [
    {
     "name": "stdout",
     "output_type": "stream",
     "text": [
      "[90, 80, 66, 100]\n"
     ]
    }
   ],
   "source": [
    "marks = [90, 80, 66, 100]\n",
    "print(marks)"
   ]
  },
  {
   "cell_type": "code",
   "execution_count": 2,
   "id": "37fd80c3-1e9b-42d3-a2c9-3ccac4e8aff0",
   "metadata": {},
   "outputs": [
    {
     "data": {
      "text/plain": [
       "list"
      ]
     },
     "execution_count": 2,
     "metadata": {},
     "output_type": "execute_result"
    }
   ],
   "source": [
    "type(marks)"
   ]
  },
  {
   "cell_type": "code",
   "execution_count": 3,
   "id": "ac7f9c8c-cff9-4b7c-87d1-4bc408e8ee68",
   "metadata": {},
   "outputs": [],
   "source": [
    "mixed_list = [\"Aryan\", 100, \"Seema\", 20.5]"
   ]
  },
  {
   "cell_type": "code",
   "execution_count": 4,
   "id": "6e108ef6-def3-4b96-9649-87ce7ac88555",
   "metadata": {},
   "outputs": [
    {
     "data": {
      "text/plain": [
       "list"
      ]
     },
     "execution_count": 4,
     "metadata": {},
     "output_type": "execute_result"
    }
   ],
   "source": [
    "type(mixed_list)"
   ]
  },
  {
   "cell_type": "code",
   "execution_count": 5,
   "id": "9f4b5ee6-bd27-4774-9579-edfcf38725f5",
   "metadata": {},
   "outputs": [
    {
     "data": {
      "text/plain": [
       "66"
      ]
     },
     "execution_count": 5,
     "metadata": {},
     "output_type": "execute_result"
    }
   ],
   "source": [
    "marks[2]"
   ]
  },
  {
   "cell_type": "code",
   "execution_count": 6,
   "id": "3dd46d5a-f723-489d-ba63-e6d05f50ce22",
   "metadata": {},
   "outputs": [
    {
     "data": {
      "text/plain": [
       "80"
      ]
     },
     "execution_count": 6,
     "metadata": {},
     "output_type": "execute_result"
    }
   ],
   "source": [
    "marks[1]"
   ]
  },
  {
   "cell_type": "code",
   "execution_count": 7,
   "id": "0302a265-8529-4ac5-8db3-a46d432f444b",
   "metadata": {},
   "outputs": [
    {
     "data": {
      "text/plain": [
       "20.5"
      ]
     },
     "execution_count": 7,
     "metadata": {},
     "output_type": "execute_result"
    }
   ],
   "source": [
    "mixed_list[-1]"
   ]
  },
  {
   "cell_type": "code",
   "execution_count": 8,
   "id": "3b6465b6-30df-4188-975e-578bbcd226ea",
   "metadata": {},
   "outputs": [
    {
     "data": {
      "text/plain": [
       "20.5"
      ]
     },
     "execution_count": 8,
     "metadata": {},
     "output_type": "execute_result"
    }
   ],
   "source": [
    "mixed_list[3]"
   ]
  },
  {
   "cell_type": "code",
   "execution_count": 9,
   "id": "b8c11778-cea6-455f-8f45-cbae9c2e311b",
   "metadata": {},
   "outputs": [],
   "source": [
    "mixed_list[1] = 80"
   ]
  },
  {
   "cell_type": "code",
   "execution_count": 10,
   "id": "779f7038-5485-4e90-aabf-bd331f2f2a22",
   "metadata": {},
   "outputs": [
    {
     "data": {
      "text/plain": [
       "['Aryan', 80, 'Seema', 20.5]"
      ]
     },
     "execution_count": 10,
     "metadata": {},
     "output_type": "execute_result"
    }
   ],
   "source": [
    "mixed_list"
   ]
  },
  {
   "cell_type": "code",
   "execution_count": null,
   "id": "cc954e26-99a3-4c11-8171-8a07ca7aa3ba",
   "metadata": {},
   "outputs": [],
   "source": [
    "#list of lists -> nested list"
   ]
  },
  {
   "cell_type": "code",
   "execution_count": 12,
   "id": "656f364c-fa5c-465f-8e29-cdcb4b96fa6e",
   "metadata": {},
   "outputs": [],
   "source": [
    "data = [['Aryan', 80], ['Kia', 90], ['Kiara', 100]]"
   ]
  },
  {
   "cell_type": "code",
   "execution_count": 13,
   "id": "bbff2c78-e3cd-418f-9a6b-a5aeb7c59fd4",
   "metadata": {},
   "outputs": [
    {
     "data": {
      "text/plain": [
       "3"
      ]
     },
     "execution_count": 13,
     "metadata": {},
     "output_type": "execute_result"
    }
   ],
   "source": [
    "len(data)"
   ]
  },
  {
   "cell_type": "code",
   "execution_count": 15,
   "id": "67fe93e7-0e92-4bc2-a06d-6c7e8f0fb030",
   "metadata": {},
   "outputs": [
    {
     "data": {
      "text/plain": [
       "80"
      ]
     },
     "execution_count": 15,
     "metadata": {},
     "output_type": "execute_result"
    }
   ],
   "source": [
    "data[0][1]"
   ]
  },
  {
   "cell_type": "code",
   "execution_count": 16,
   "id": "616628db-c59a-4bcd-a325-d8a8e93ee351",
   "metadata": {},
   "outputs": [
    {
     "data": {
      "text/plain": [
       "[90, 80, 66, 100]"
      ]
     },
     "execution_count": 16,
     "metadata": {},
     "output_type": "execute_result"
    }
   ],
   "source": [
    "marks"
   ]
  },
  {
   "cell_type": "code",
   "execution_count": 17,
   "id": "c11d039a-e0dd-498c-b6f2-44e08dcd4b78",
   "metadata": {},
   "outputs": [
    {
     "data": {
      "text/plain": [
       "[90, 80, 66]"
      ]
     },
     "execution_count": 17,
     "metadata": {},
     "output_type": "execute_result"
    }
   ],
   "source": [
    "#marks[start_index:end_index+1:step_size]\n",
    "marks[0:3]"
   ]
  },
  {
   "cell_type": "code",
   "execution_count": 18,
   "id": "ddb25f9b-2c13-40ee-ba64-7b1c25bb14c7",
   "metadata": {},
   "outputs": [
    {
     "data": {
      "text/plain": [
       "[90, 80]"
      ]
     },
     "execution_count": 18,
     "metadata": {},
     "output_type": "execute_result"
    }
   ],
   "source": [
    "marks[0:2]"
   ]
  },
  {
   "cell_type": "code",
   "execution_count": 19,
   "id": "f62c54f6-042b-411b-8482-049aee8a2464",
   "metadata": {},
   "outputs": [
    {
     "data": {
      "text/plain": [
       "[90, 80, 66]"
      ]
     },
     "execution_count": 19,
     "metadata": {},
     "output_type": "execute_result"
    }
   ],
   "source": [
    "marks[0:3:1]"
   ]
  },
  {
   "cell_type": "code",
   "execution_count": 20,
   "id": "0a872709-661c-4963-828f-6722f16c7d4e",
   "metadata": {},
   "outputs": [
    {
     "data": {
      "text/plain": [
       "[90, 66]"
      ]
     },
     "execution_count": 20,
     "metadata": {},
     "output_type": "execute_result"
    }
   ],
   "source": [
    "marks[0:3:2]"
   ]
  },
  {
   "cell_type": "code",
   "execution_count": 21,
   "id": "dfdb3580-e54e-47e6-a43f-116f27fddf15",
   "metadata": {},
   "outputs": [
    {
     "data": {
      "text/plain": [
       "[90]"
      ]
     },
     "execution_count": 21,
     "metadata": {},
     "output_type": "execute_result"
    }
   ],
   "source": [
    "marks[0:3:3]"
   ]
  },
  {
   "cell_type": "code",
   "execution_count": 22,
   "id": "c77881b0-0b92-4e72-943a-cc0ec0e209cf",
   "metadata": {},
   "outputs": [
    {
     "data": {
      "text/plain": [
       "[90, 80, 66, 100]"
      ]
     },
     "execution_count": 22,
     "metadata": {},
     "output_type": "execute_result"
    }
   ],
   "source": [
    "marks"
   ]
  },
  {
   "cell_type": "code",
   "execution_count": 26,
   "id": "5d12c09a-4b94-4985-8bb2-4f78b801b8ac",
   "metadata": {},
   "outputs": [
    {
     "data": {
      "text/plain": [
       "[100, 66, 80, 90]"
      ]
     },
     "execution_count": 26,
     "metadata": {},
     "output_type": "execute_result"
    }
   ],
   "source": [
    "marks[::-1]"
   ]
  },
  {
   "cell_type": "code",
   "execution_count": 27,
   "id": "ceeedbf3-be3c-4384-8f32-7a43c3bffb72",
   "metadata": {},
   "outputs": [],
   "source": [
    "fruits = [\"apple\", \"orange\", \"banana\"]"
   ]
  },
  {
   "cell_type": "code",
   "execution_count": 28,
   "id": "8d8861b0-3885-4e6b-9f48-42fbe174acca",
   "metadata": {},
   "outputs": [],
   "source": [
    "fruits.insert(1, \"pineapple\")"
   ]
  },
  {
   "cell_type": "code",
   "execution_count": 29,
   "id": "0d34f64a-32a2-4c93-80b9-5100d0885f90",
   "metadata": {},
   "outputs": [
    {
     "data": {
      "text/plain": [
       "['apple', 'pineapple', 'orange', 'banana']"
      ]
     },
     "execution_count": 29,
     "metadata": {},
     "output_type": "execute_result"
    }
   ],
   "source": [
    "fruits"
   ]
  },
  {
   "cell_type": "code",
   "execution_count": 30,
   "id": "d082431d-3ebf-4988-9217-6e97d24f9e43",
   "metadata": {},
   "outputs": [],
   "source": [
    "fruits.append(\"cherry\")"
   ]
  },
  {
   "cell_type": "code",
   "execution_count": 31,
   "id": "041fd420-1e10-486b-ac88-c8c1edcf836e",
   "metadata": {},
   "outputs": [
    {
     "data": {
      "text/plain": [
       "['apple', 'pineapple', 'orange', 'banana', 'cherry']"
      ]
     },
     "execution_count": 31,
     "metadata": {},
     "output_type": "execute_result"
    }
   ],
   "source": [
    "fruits"
   ]
  },
  {
   "cell_type": "code",
   "execution_count": 32,
   "id": "e37e9273-8c6b-4671-add4-15c8b73fc971",
   "metadata": {},
   "outputs": [
    {
     "data": {
      "text/plain": [
       "'banana'"
      ]
     },
     "execution_count": 32,
     "metadata": {},
     "output_type": "execute_result"
    }
   ],
   "source": [
    "fruits.pop(-2)"
   ]
  },
  {
   "cell_type": "code",
   "execution_count": 33,
   "id": "a5f6f20e-6831-444d-a853-b475422cec47",
   "metadata": {},
   "outputs": [
    {
     "data": {
      "text/plain": [
       "['apple', 'pineapple', 'orange', 'cherry']"
      ]
     },
     "execution_count": 33,
     "metadata": {},
     "output_type": "execute_result"
    }
   ],
   "source": [
    "fruits"
   ]
  },
  {
   "cell_type": "code",
   "execution_count": 34,
   "id": "41b286b0-89e8-4d7e-b39c-d6f960e2e29a",
   "metadata": {},
   "outputs": [
    {
     "data": {
      "text/plain": [
       "'cherry'"
      ]
     },
     "execution_count": 34,
     "metadata": {},
     "output_type": "execute_result"
    }
   ],
   "source": [
    "fruits.pop()"
   ]
  },
  {
   "cell_type": "code",
   "execution_count": 35,
   "id": "40d86c56-4d9f-49d9-bf23-f8adfe4b2506",
   "metadata": {},
   "outputs": [
    {
     "data": {
      "text/plain": [
       "['apple', 'pineapple', 'orange']"
      ]
     },
     "execution_count": 35,
     "metadata": {},
     "output_type": "execute_result"
    }
   ],
   "source": [
    "fruits"
   ]
  },
  {
   "cell_type": "code",
   "execution_count": 36,
   "id": "2767f0a6-4159-4914-8da9-79898e4a9582",
   "metadata": {},
   "outputs": [],
   "source": [
    "fruits.remove('pineapple')"
   ]
  },
  {
   "cell_type": "code",
   "execution_count": 37,
   "id": "476c0c33-651b-40af-a920-85d31b00fde5",
   "metadata": {},
   "outputs": [
    {
     "data": {
      "text/plain": [
       "['apple', 'orange']"
      ]
     },
     "execution_count": 37,
     "metadata": {},
     "output_type": "execute_result"
    }
   ],
   "source": [
    "fruits"
   ]
  },
  {
   "cell_type": "code",
   "execution_count": 38,
   "id": "2afa535f-0517-412d-9daa-948199111ef7",
   "metadata": {},
   "outputs": [
    {
     "data": {
      "text/plain": [
       "[90, 80, 66, 100]"
      ]
     },
     "execution_count": 38,
     "metadata": {},
     "output_type": "execute_result"
    }
   ],
   "source": [
    "marks #len 4"
   ]
  },
  {
   "cell_type": "code",
   "execution_count": 39,
   "id": "4e3f266b-a8e6-4442-9e9b-b3bbe7c5ac7d",
   "metadata": {},
   "outputs": [],
   "source": [
    "marks.extend([30, 44, 32])"
   ]
  },
  {
   "cell_type": "code",
   "execution_count": 40,
   "id": "81c9309c-8190-4376-afb2-0131c4db05c4",
   "metadata": {},
   "outputs": [
    {
     "data": {
      "text/plain": [
       "[90, 80, 66, 100, 30, 44, 32]"
      ]
     },
     "execution_count": 40,
     "metadata": {},
     "output_type": "execute_result"
    }
   ],
   "source": [
    "marks"
   ]
  },
  {
   "cell_type": "code",
   "execution_count": 41,
   "id": "f776d639-1c46-4265-a7ad-a69ee42ce3d1",
   "metadata": {},
   "outputs": [
    {
     "data": {
      "text/plain": [
       "7"
      ]
     },
     "execution_count": 41,
     "metadata": {},
     "output_type": "execute_result"
    }
   ],
   "source": [
    "len(marks)"
   ]
  },
  {
   "cell_type": "code",
   "execution_count": 42,
   "id": "cc5364a3-7fc3-47ed-a377-ad0351991ae2",
   "metadata": {},
   "outputs": [],
   "source": [
    "marks.append([32, 45, 39])"
   ]
  },
  {
   "cell_type": "code",
   "execution_count": 43,
   "id": "6288a9d6-5ff7-44b0-95a7-f028e19a8be8",
   "metadata": {},
   "outputs": [
    {
     "data": {
      "text/plain": [
       "[90, 80, 66, 100, 30, 44, 32, [32, 45, 39]]"
      ]
     },
     "execution_count": 43,
     "metadata": {},
     "output_type": "execute_result"
    }
   ],
   "source": [
    "marks"
   ]
  },
  {
   "cell_type": "code",
   "execution_count": 44,
   "id": "e6dc2cff-ecde-4415-9608-390c3c70734e",
   "metadata": {},
   "outputs": [
    {
     "data": {
      "text/plain": [
       "8"
      ]
     },
     "execution_count": 44,
     "metadata": {},
     "output_type": "execute_result"
    }
   ],
   "source": [
    "len(marks)"
   ]
  },
  {
   "cell_type": "code",
   "execution_count": null,
   "id": "31c35d49-9984-41f6-afda-6c1e896fb537",
   "metadata": {},
   "outputs": [],
   "source": [
    "marks."
   ]
  },
  {
   "cell_type": "code",
   "execution_count": null,
   "id": "b8b64696-8a94-4134-85b6-63c4cfb7266a",
   "metadata": {},
   "outputs": [],
   "source": []
  },
  {
   "cell_type": "code",
   "execution_count": null,
   "id": "c7952d41-5344-4795-b49e-657d2f810c47",
   "metadata": {},
   "outputs": [],
   "source": []
  },
  {
   "cell_type": "code",
   "execution_count": null,
   "id": "946ef80c-b803-475f-aab1-556dfb3c8964",
   "metadata": {},
   "outputs": [],
   "source": []
  }
 ],
 "metadata": {
  "kernelspec": {
   "display_name": "Python 3 (ipykernel)",
   "language": "python",
   "name": "python3"
  },
  "language_info": {
   "codemirror_mode": {
    "name": "ipython",
    "version": 3
   },
   "file_extension": ".py",
   "mimetype": "text/x-python",
   "name": "python",
   "nbconvert_exporter": "python",
   "pygments_lexer": "ipython3",
   "version": "3.11.7"
  }
 },
 "nbformat": 4,
 "nbformat_minor": 5
}
