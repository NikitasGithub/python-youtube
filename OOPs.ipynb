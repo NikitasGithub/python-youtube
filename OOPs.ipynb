{
 "cells": [
  {
   "cell_type": "markdown",
   "id": "a3f8a2d2-a6f9-4f43-8a3b-d6c75bfbe73b",
   "metadata": {},
   "source": [
    "##### Object-oriented programming (OOP) is a method of structuring a program by bundling related properties and behaviors into individual objects."
   ]
  },
  {
   "cell_type": "code",
   "execution_count": null,
   "id": "8fddced8-402a-4e86-9b4b-3920812289ef",
   "metadata": {},
   "outputs": [],
   "source": [
    "#banking application\n",
    "\n",
    "name, pancard and balance\n",
    "\n",
    "[\"aryan\", \"pan card\", 5000]"
   ]
  },
  {
   "cell_type": "code",
   "execution_count": null,
   "id": "cd926246-0484-4814-b505-a395701cbe00",
   "metadata": {},
   "outputs": [],
   "source": [
    "class: prototype from which objects are created\n",
    "\n",
    "blank form: class -> bankaccount\n",
    "\n",
    "properties -> name, address, balance -> attributes\n",
    "\n",
    "__init__() \n",
    "\n",
    "instance attributes-> they belong to specific instance of a class\n",
    "class attributes -> remains same for all instances of a class\n",
    "\n",
    "behaviour/ things to do -> methods (function written inside a class)\n",
    "deposit, withdrawals.....\n",
    "\n",
    "every method inside a class  first argument is always self\n",
    "filled form: object/ instance"
   ]
  },
  {
   "cell_type": "code",
   "execution_count": null,
   "id": "3f08c529-29b5-435e-9f33-0e8aeb5e350f",
   "metadata": {},
   "outputs": [],
   "source": [
    "self is reference to current instance of a class"
   ]
  },
  {
   "cell_type": "code",
   "execution_count": 41,
   "id": "ba7b26fb-7f94-46bf-8b54-09905a481431",
   "metadata": {},
   "outputs": [],
   "source": [
    "class BankAccount:\n",
    "    bank_name = \"XYZ Bank\"\n",
    "    def __init__(self, name, pan_card, balance):\n",
    "        self.account_holder = name\n",
    "        self.pan_card = pan_card\n",
    "        self.balance = balance\n",
    "        self.transaction_history = [balance]\n",
    "\n",
    "    def deposit(self, amount):\n",
    "        if amount > 0:\n",
    "            self.balance += amount\n",
    "            print(f\"{amount} deposited. updated balance is {self.balance}\")\n",
    "            self.transaction_history.append(amount)\n",
    "\n",
    "    def withdraw(self, amount):\n",
    "        if amount > self.balance:\n",
    "            print(\"insufficient funds!\")\n",
    "        else:\n",
    "            self.balance -= amount\n",
    "            print(f\"{amount} withdrawn. updated balance is {self.balance}\")\n",
    "            self.transaction_history.append(-amount)"
   ]
  },
  {
   "cell_type": "code",
   "execution_count": 42,
   "id": "3c93d0d2-82e7-4275-925f-c05771875de2",
   "metadata": {},
   "outputs": [],
   "source": [
    "aryan = BankAccount(\"Aryan\", \"fnrn234\", 50) #create instance of class BankAccount"
   ]
  },
  {
   "cell_type": "code",
   "execution_count": 43,
   "id": "84b32fb4-cbc9-490b-890f-a2cd5c7d453d",
   "metadata": {},
   "outputs": [
    {
     "data": {
      "text/plain": [
       "50"
      ]
     },
     "execution_count": 43,
     "metadata": {},
     "output_type": "execute_result"
    }
   ],
   "source": [
    "aryan.balance #obj.attribute_name"
   ]
  },
  {
   "cell_type": "code",
   "execution_count": 44,
   "id": "c9171b65-7664-4b5e-a75d-9b7962482408",
   "metadata": {},
   "outputs": [
    {
     "name": "stdout",
     "output_type": "stream",
     "text": [
      "30 deposited. updated balance is 80\n"
     ]
    }
   ],
   "source": [
    "aryan.deposit(30)"
   ]
  },
  {
   "cell_type": "code",
   "execution_count": 45,
   "id": "f9528e51-1c52-4b18-9d0c-40412c22f791",
   "metadata": {},
   "outputs": [
    {
     "data": {
      "text/plain": [
       "80"
      ]
     },
     "execution_count": 45,
     "metadata": {},
     "output_type": "execute_result"
    }
   ],
   "source": [
    "aryan.balance"
   ]
  },
  {
   "cell_type": "code",
   "execution_count": 46,
   "id": "786f059d-8651-43f2-8f1c-8d462a513904",
   "metadata": {},
   "outputs": [
    {
     "name": "stdout",
     "output_type": "stream",
     "text": [
      "20 withdrawn. updated balance is 60\n"
     ]
    }
   ],
   "source": [
    "aryan.withdraw(20)"
   ]
  },
  {
   "cell_type": "code",
   "execution_count": 47,
   "id": "0ec20125-22b7-49c9-8898-8f1d6e3e768b",
   "metadata": {},
   "outputs": [
    {
     "data": {
      "text/plain": [
       "60"
      ]
     },
     "execution_count": 47,
     "metadata": {},
     "output_type": "execute_result"
    }
   ],
   "source": [
    "aryan.balance"
   ]
  },
  {
   "cell_type": "code",
   "execution_count": 48,
   "id": "4e11836a-efc9-4b1c-b0ec-50ea7091c108",
   "metadata": {},
   "outputs": [
    {
     "data": {
      "text/plain": [
       "[50, 30, -20]"
      ]
     },
     "execution_count": 48,
     "metadata": {},
     "output_type": "execute_result"
    }
   ],
   "source": [
    "aryan.transaction_history"
   ]
  },
  {
   "cell_type": "code",
   "execution_count": 20,
   "id": "ae457405-b66a-4f4d-bcd7-b88b99fc15f2",
   "metadata": {},
   "outputs": [
    {
     "data": {
      "text/plain": [
       "'XYZ Bank'"
      ]
     },
     "execution_count": 20,
     "metadata": {},
     "output_type": "execute_result"
    }
   ],
   "source": [
    "aryan.bank_name"
   ]
  },
  {
   "cell_type": "code",
   "execution_count": 13,
   "id": "c117bf9b-11af-4e1b-b686-00285ccd8fe0",
   "metadata": {},
   "outputs": [
    {
     "name": "stdout",
     "output_type": "stream",
     "text": [
      "<class '__main__.BankAccount'>\n"
     ]
    }
   ],
   "source": [
    "print(type(aryan)) #aryan is object of bankaccount class"
   ]
  },
  {
   "cell_type": "code",
   "execution_count": 27,
   "id": "d9573949-0f9f-4f3f-acbf-c09256c7347f",
   "metadata": {},
   "outputs": [],
   "source": [
    "ram = BankAccount(\"Ram K\", \"qeqr23\", 100)"
   ]
  },
  {
   "cell_type": "code",
   "execution_count": 28,
   "id": "b12eeb08-6790-4831-90b8-0f14eeaa3b8b",
   "metadata": {},
   "outputs": [
    {
     "data": {
      "text/plain": [
       "100"
      ]
     },
     "execution_count": 28,
     "metadata": {},
     "output_type": "execute_result"
    }
   ],
   "source": [
    "ram.balance"
   ]
  },
  {
   "cell_type": "code",
   "execution_count": 29,
   "id": "732b0009-17f9-4d9f-ac92-ceb020cf100a",
   "metadata": {},
   "outputs": [
    {
     "data": {
      "text/plain": [
       "__main__.BankAccount"
      ]
     },
     "execution_count": 29,
     "metadata": {},
     "output_type": "execute_result"
    }
   ],
   "source": [
    "type(ram)"
   ]
  },
  {
   "cell_type": "code",
   "execution_count": 30,
   "id": "8adde4ad-64ab-4676-9a96-cf7df0e585b8",
   "metadata": {},
   "outputs": [
    {
     "name": "stdout",
     "output_type": "stream",
     "text": [
      "100 deposited. updated balance is 200\n"
     ]
    }
   ],
   "source": [
    "ram.deposit(100)"
   ]
  },
  {
   "cell_type": "code",
   "execution_count": 31,
   "id": "0c436f16-af42-4ee1-87b3-a99054114820",
   "metadata": {},
   "outputs": [
    {
     "data": {
      "text/plain": [
       "200"
      ]
     },
     "execution_count": 31,
     "metadata": {},
     "output_type": "execute_result"
    }
   ],
   "source": [
    "ram.balance"
   ]
  },
  {
   "cell_type": "code",
   "execution_count": null,
   "id": "50f28b48-ea7a-4064-b681-3c3a630fe8af",
   "metadata": {},
   "outputs": [],
   "source": [
    "#Everthing in python is an object"
   ]
  },
  {
   "cell_type": "code",
   "execution_count": 50,
   "id": "0f062bb3-1f78-45c5-b15a-3fe4a0a73874",
   "metadata": {},
   "outputs": [
    {
     "name": "stdout",
     "output_type": "stream",
     "text": [
      "<class 'int'>\n"
     ]
    }
   ],
   "source": [
    "a = 1\n",
    "print(type(a)) #a is object of class int"
   ]
  },
  {
   "cell_type": "code",
   "execution_count": 51,
   "id": "22cea366-6a41-45e1-99d7-6c440c1c5111",
   "metadata": {},
   "outputs": [
    {
     "name": "stdout",
     "output_type": "stream",
     "text": [
      "<class 'str'>\n"
     ]
    }
   ],
   "source": [
    "b = \"hello\" # creating an instance or object of str class\n",
    "print(type(b)) #b is object of class str"
   ]
  },
  {
   "cell_type": "code",
   "execution_count": 52,
   "id": "0f199500-0913-43fc-b20a-19fb41fe753d",
   "metadata": {},
   "outputs": [
    {
     "data": {
      "text/plain": [
       "'HELLO'"
      ]
     },
     "execution_count": 52,
     "metadata": {},
     "output_type": "execute_result"
    }
   ],
   "source": [
    "b.upper() #method written inside the class str"
   ]
  },
  {
   "cell_type": "code",
   "execution_count": 53,
   "id": "843cb04c-949f-44da-94c9-ff351539d3da",
   "metadata": {},
   "outputs": [
    {
     "data": {
      "text/plain": [
       "'hello'"
      ]
     },
     "execution_count": 53,
     "metadata": {},
     "output_type": "execute_result"
    }
   ],
   "source": [
    "#how do we call a class method?\n",
    "b.lower()"
   ]
  },
  {
   "cell_type": "code",
   "execution_count": 54,
   "id": "d9f50f17-e5d5-4e1a-86e0-3f621fd853cb",
   "metadata": {},
   "outputs": [],
   "source": [
    "def greeting():\n",
    "    print(\"hello world!\")"
   ]
  },
  {
   "cell_type": "code",
   "execution_count": 56,
   "id": "85f4521e-bf2f-4577-93b4-0426de5c138d",
   "metadata": {},
   "outputs": [
    {
     "name": "stdout",
     "output_type": "stream",
     "text": [
      "hello world!\n"
     ]
    }
   ],
   "source": [
    "greeting()"
   ]
  },
  {
   "cell_type": "code",
   "execution_count": null,
   "id": "962e9a75-3898-4f1a-9556-11ba7e6f94a1",
   "metadata": {},
   "outputs": [],
   "source": []
  }
 ],
 "metadata": {
  "kernelspec": {
   "display_name": "Python 3 (ipykernel)",
   "language": "python",
   "name": "python3"
  },
  "language_info": {
   "codemirror_mode": {
    "name": "ipython",
    "version": 3
   },
   "file_extension": ".py",
   "mimetype": "text/x-python",
   "name": "python",
   "nbconvert_exporter": "python",
   "pygments_lexer": "ipython3",
   "version": "3.11.7"
  }
 },
 "nbformat": 4,
 "nbformat_minor": 5
}
