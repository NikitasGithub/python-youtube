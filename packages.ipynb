{
 "cells": [
  {
   "cell_type": "code",
   "execution_count": null,
   "id": "d99e2755-967c-45bb-91c6-533d3e7bb7dd",
   "metadata": {},
   "outputs": [],
   "source": [
    "package -> collection of modules\n",
    "\n",
    "folder/directory -> related modules\n",
    "\n",
    "forex_related"
   ]
  },
  {
   "cell_type": "code",
   "execution_count": null,
   "id": "253942b9-45c1-416d-9f11-e363696188d0",
   "metadata": {},
   "outputs": [],
   "source": [
    "from forex_related import currency_conversion"
   ]
  },
  {
   "cell_type": "code",
   "execution_count": null,
   "id": "2c65a7b7-159a-47a4-86a8-4fc8371dedea",
   "metadata": {},
   "outputs": [],
   "source": [
    "currency_conversion.usd_to_gbp(100)"
   ]
  },
  {
   "cell_type": "code",
   "execution_count": 1,
   "id": "aeb33fe3-a724-4657-93f2-0bac6ea3d8cb",
   "metadata": {},
   "outputs": [],
   "source": [
    "from forex_related.currency_conversion import usd_to_gbp"
   ]
  },
  {
   "cell_type": "code",
   "execution_count": 2,
   "id": "e034b528-2c26-40df-89d5-04c2a1c979ca",
   "metadata": {},
   "outputs": [
    {
     "data": {
      "text/plain": [
       "78.0"
      ]
     },
     "execution_count": 2,
     "metadata": {},
     "output_type": "execute_result"
    }
   ],
   "source": [
    "usd_to_gbp(100)"
   ]
  },
  {
   "cell_type": "code",
   "execution_count": null,
   "id": "0ef49e67-db13-44c5-a0c5-cf9115eb6170",
   "metadata": {},
   "outputs": [],
   "source": []
  }
 ],
 "metadata": {
  "kernelspec": {
   "display_name": "Python 3 (ipykernel)",
   "language": "python",
   "name": "python3"
  },
  "language_info": {
   "codemirror_mode": {
    "name": "ipython",
    "version": 3
   },
   "file_extension": ".py",
   "mimetype": "text/x-python",
   "name": "python",
   "nbconvert_exporter": "python",
   "pygments_lexer": "ipython3",
   "version": "3.11.7"
  }
 },
 "nbformat": 4,
 "nbformat_minor": 5
}
