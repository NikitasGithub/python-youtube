{
 "cells": [
  {
   "cell_type": "markdown",
   "id": "7c77d494-cfa7-4144-8245-a147013d98ae",
   "metadata": {},
   "source": [
    "### Operators in Python"
   ]
  },
  {
   "cell_type": "code",
   "execution_count": null,
   "id": "c0c19b1c-e3c9-45bc-ab7e-2687de2e9fcb",
   "metadata": {},
   "outputs": [],
   "source": [
    "Operators in python perform operations on variables or values"
   ]
  },
  {
   "cell_type": "markdown",
   "id": "26babdd2-9b3e-468a-8834-78837d8a9eb9",
   "metadata": {},
   "source": [
    "## 1️⃣ Arithmetic Operators\n",
    "\r\n",
    "\r\n",
    "| Operator | Description | Example |\r\n",
    "|----------|------------|---------|\r\n",
    "| `+` | Addition | `5 + 3 = 8` |\r\n",
    "| `-` | Subtraction | `5 - 3 = 2` |\r\n",
    "| `*` | Multiplication | `5 * 3 = 15` |\r\n",
    "| `/` | Division (float) | `5 / 2 = 2.5` |\r\n",
    "| `//` | Floor Division | `5 // 2 = 2` |\r\n",
    "| `%` | Modulus (Remainder) | `5 % 2 = 1` |\r\n",
    "| `**` | Exponentiation | `5 ** 2 = 25` |\r\n"
   ]
  },
  {
   "cell_type": "code",
   "execution_count": 58,
   "id": "12da5caf-8d11-4a83-af08-7ff9519fd5a3",
   "metadata": {},
   "outputs": [
    {
     "data": {
      "text/plain": [
       "1000"
      ]
     },
     "execution_count": 58,
     "metadata": {},
     "output_type": "execute_result"
    }
   ],
   "source": [
    "a = 10\n",
    "b = 3\n",
    "\n",
    "a ** b"
   ]
  },
  {
   "cell_type": "markdown",
   "id": "cad8df2c-3877-480d-bb96-2c60bbd3dd56",
   "metadata": {},
   "source": [
    "## 2️⃣ Comparison (Relational) Operators\n",
    "These operators compare values and return `True` or `False`.\n",
    "\n",
    "| Operator | Description | Example |\n",
    "|----------|------------|---------|\n",
    "| `==` | Equal to | `5 == 5` → `True` |\n",
    "| `!=` | Not equal to | `5 != 3` → `True` |\n",
    "| `>` | Greater than | `5 > 3` → `True` |\n",
    "| `<` | Less than | `5 < 3` → `False` |\n",
    "| `>=` | Greater than or equal to | `5 >= 5` → `True` |\n",
    "| `<=` | Less than or equal to | `5 <= 3` → `False` |\n"
   ]
  },
  {
   "cell_type": "code",
   "execution_count": 64,
   "id": "494ab88c-7906-400a-bd74-b190eaf3bb4a",
   "metadata": {},
   "outputs": [
    {
     "data": {
      "text/plain": [
       "True"
      ]
     },
     "execution_count": 64,
     "metadata": {},
     "output_type": "execute_result"
    }
   ],
   "source": [
    "x = 20\n",
    "y = 20\n",
    "\n",
    "x >= y"
   ]
  },
  {
   "cell_type": "markdown",
   "id": "6a1a1cde-effc-4510-8c24-3b6d4a8b7ebe",
   "metadata": {},
   "source": [
    "## 3️⃣ Logical Operators\n",
    "These operators are used to combine multiple conditions.\n",
    "\n",
    "| Operator | Description | Example |\n",
    "|----------|------------|---------|\n",
    "| `and` | Returns `True` if both conditions are `True` | `(5 > 3) and (10 > 5)` → `True` |\n",
    "| `or` | Returns `True` if at least one condition is `True` | `(5 > 3) or (10 < 5)` → `True` |\n",
    "| `not` | Reverses the result | `not (5 > 3)` → `False` |\n"
   ]
  },
  {
   "cell_type": "code",
   "execution_count": 71,
   "id": "122e8706-659f-47cf-a320-a941fe06b516",
   "metadata": {},
   "outputs": [
    {
     "data": {
      "text/plain": [
       "False"
      ]
     },
     "execution_count": 71,
     "metadata": {},
     "output_type": "execute_result"
    }
   ],
   "source": [
    "age = 20\n",
    "salary = 80000\n",
    "\n",
    "not(age >= 25 or salary >= 40000)"
   ]
  },
  {
   "cell_type": "code",
   "execution_count": 73,
   "id": "04327ab1-4e76-4ecc-ae32-8dbd7db08cff",
   "metadata": {},
   "outputs": [
    {
     "data": {
      "text/plain": [
       "True"
      ]
     },
     "execution_count": 73,
     "metadata": {},
     "output_type": "execute_result"
    }
   ],
   "source": [
    "not(False)"
   ]
  },
  {
   "cell_type": "markdown",
   "id": "9684d305-2778-4a66-8825-0e2cf68390ce",
   "metadata": {},
   "source": [
    "## 4️⃣ Bitwise Operators\n",
    "These operators work on binary numbers.\n",
    "\n",
    "| Operator | Description | Example (`a=5 (0101)`, `b=3 (0011)`) |\n",
    "|----------|------------|-------------------------------------|\n",
    "| `&` | AND | `a & b` → `1` (`0001`) |\n",
    "| `|` | OR | `a | b` → `7` (`0111`) |\n",
    "| `^` | XOR | `a ^ b` → `6` (`0110`) |\n",
    "| `~` | NOT (bitwise complement) | `~a` → `-6` |\n",
    "| `<<` | Left Shift | `a << 1` → `10` (`1010`) |\n",
    "| `>>` | Right Shift | `a >> 1` → `2` (`0010`) |"
   ]
  },
  {
   "cell_type": "code",
   "execution_count": 79,
   "id": "749e0968-3277-47a6-8043-b42d1b5d4525",
   "metadata": {},
   "outputs": [
    {
     "data": {
      "text/plain": [
       "10"
      ]
     },
     "execution_count": 79,
     "metadata": {},
     "output_type": "execute_result"
    }
   ],
   "source": [
    "a = 5 # 0101 -> 0*2^3 + 1*2^2 + 0*2^1 + 1*2^0 = 5\n",
    "b = 3 # 0011\n",
    "\n",
    "#Rule: both bits are 1 it gives 1, otherwise it gives 0\n",
    "\n",
    "#Rule: \n",
    "a << 1 #shift the bits by n (1) places (add zeros at right)\n",
    "\n",
    "#0101\n",
    "#1010"
   ]
  },
  {
   "cell_type": "markdown",
   "id": "5985b492-fffd-4107-8707-3e5ca6205ae9",
   "metadata": {},
   "source": [
    "## 5️⃣ Assignment Operators\n",
    "These operators assign values to variables.\n",
    "\n",
    "| Operator | Description | Example |\n",
    "|----------|------------|---------|\n",
    "| `=` | Assigns value | `x = 10` |\n",
    "| `+=` | Adds and assigns | `x += 5` → `x = x + 5` |\n",
    "| `-=` | Subtracts and assigns | `x -= 5` → `x = x - 5` |\n",
    "| `*=` | Multiplies and assigns | `x *= 5` → `x = x * 5` |\n",
    "| `/=` | Divides and assigns | `x /= 5` → `x = x / 5` |\n",
    "| `//=` | Floor divides and assigns | `x //= 5` |\n",
    "| `%=` | Modulus and assigns | `x %= 5` |\n",
    "| `**=` | Exponent and assigns | `x **= 5` |\n",
    "| `&=, |=, ^=, <<=, >>=` | Bitwise assignments | `x &= 5` |"
   ]
  },
  {
   "cell_type": "code",
   "execution_count": 82,
   "id": "4732d0ad-de82-4c2d-a58c-e7b1b60a4d39",
   "metadata": {},
   "outputs": [
    {
     "name": "stdout",
     "output_type": "stream",
     "text": [
      "6\n"
     ]
    }
   ],
   "source": [
    "x = 5\n",
    "x += 1 # x = x + 1\n",
    "print(x)"
   ]
  },
  {
   "cell_type": "markdown",
   "id": "5f935c7f-38bb-4a77-a0e3-094179705f3e",
   "metadata": {},
   "source": [
    "## 6️⃣ Identity Operators\n",
    "Identity operators check if two objects refer to the same memory location.\n",
    "\n",
    "| Operator | Description | Example |\n",
    "|----------|------------|---------|\n",
    "| `is` | Returns `True` if both objects refer to the same memory location | `a is b` |\n",
    "| `is not` | Returns `True` if objects do not refer to the same memory location | `a is not b` |"
   ]
  },
  {
   "cell_type": "code",
   "execution_count": 85,
   "id": "7e4e9cbf-cac3-430d-90f4-c0db18526145",
   "metadata": {},
   "outputs": [
    {
     "name": "stdout",
     "output_type": "stream",
     "text": [
      "False\n",
      "False\n"
     ]
    }
   ],
   "source": [
    "a = [1, 2, 3]\n",
    "b = a\n",
    "\n",
    "print(a is not b)\n",
    "\n",
    "c = [4,5,6]\n",
    "print(c is a)"
   ]
  },
  {
   "cell_type": "markdown",
   "id": "e2e16c7b-416d-4dbb-8e0c-b48cf1a3a812",
   "metadata": {},
   "source": [
    "## 7️⃣ Membership Operators\n",
    "Membership operators check if a value exists in a sequence.\n",
    "\n",
    "| Operator | Description | Example |\n",
    "|----------|------------|---------|\n",
    "| `in` | Returns `True` if a value is in the sequence | `\"a\" in \"apple\"` |\n",
    "| `not in` | Returns `True` if a value is not in the sequence | `\"x\" not in \"apple\"` |"
   ]
  },
  {
   "cell_type": "code",
   "execution_count": null,
   "id": "289cfe1b-4918-49ff-b609-f5e2ec64a202",
   "metadata": {},
   "outputs": [],
   "source": [
    "sequence -> list, tuple, string"
   ]
  },
  {
   "cell_type": "code",
   "execution_count": 88,
   "id": "37cca2a5-3675-4cc7-85e2-0954e2acf818",
   "metadata": {},
   "outputs": [
    {
     "data": {
      "text/plain": [
       "True"
      ]
     },
     "execution_count": 88,
     "metadata": {},
     "output_type": "execute_result"
    }
   ],
   "source": [
    "fruits = ['apple', 'banana', 'mango']\n",
    "\n",
    "'kiwi' not in fruits"
   ]
  },
  {
   "cell_type": "code",
   "execution_count": null,
   "id": "489d701a-da3b-4f14-8c4f-fdab58cc24dd",
   "metadata": {},
   "outputs": [],
   "source": []
  }
 ],
 "metadata": {
  "kernelspec": {
   "display_name": "Python 3 (ipykernel)",
   "language": "python",
   "name": "python3"
  },
  "language_info": {
   "codemirror_mode": {
    "name": "ipython",
    "version": 3
   },
   "file_extension": ".py",
   "mimetype": "text/x-python",
   "name": "python",
   "nbconvert_exporter": "python",
   "pygments_lexer": "ipython3",
   "version": "3.11.7"
  }
 },
 "nbformat": 4,
 "nbformat_minor": 5
}
