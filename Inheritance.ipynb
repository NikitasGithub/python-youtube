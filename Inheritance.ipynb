{
 "cells": [
  {
   "cell_type": "code",
   "execution_count": 2,
   "id": "5b0e4cbc-4f97-4919-ae21-4094bff7fd8e",
   "metadata": {},
   "outputs": [],
   "source": [
    "class BankAccount:\n",
    "    bank_name = \"XYZ Bank\"\n",
    "    def __init__(self, name, pan_card, balance):\n",
    "        self.account_holder = name\n",
    "        self.pan_card = pan_card\n",
    "        self.balance = balance\n",
    "        self.transaction_history = [balance]\n",
    "\n",
    "    def deposit(self, amount):\n",
    "        if amount > 0:\n",
    "            self.balance += amount\n",
    "            print(f\"{amount} deposited. updated balance is {self.balance}\")\n",
    "            self.transaction_history.append(amount)\n",
    "\n",
    "    def withdraw(self, amount):\n",
    "        if amount > self.balance:\n",
    "            print(\"insufficient funds!\")\n",
    "        else:\n",
    "            self.balance -= amount\n",
    "            print(f\"{amount} withdrawn. updated balance is {self.balance}\")\n",
    "            self.transaction_history.append(-amount)"
   ]
  },
  {
   "cell_type": "code",
   "execution_count": 3,
   "id": "89d76665-866d-490d-9517-fcfd9016e332",
   "metadata": {},
   "outputs": [],
   "source": [
    "#savings, current and fixed deposit account"
   ]
  },
  {
   "cell_type": "code",
   "execution_count": 4,
   "id": "27568a56-0e5f-4f34-9a92-5d71b67b0609",
   "metadata": {},
   "outputs": [],
   "source": [
    "class SavingsAccount(BankAccount):\n",
    "    interest_rate = 7\n",
    "\n",
    "    def apply_interest(self):\n",
    "        interest = self.balance * self.interest_rate/100\n",
    "        self.balance += interest"
   ]
  },
  {
   "cell_type": "code",
   "execution_count": 6,
   "id": "1be54e48-4b54-43d9-8dfe-9bd3414dc967",
   "metadata": {},
   "outputs": [],
   "source": [
    "s1 = SavingsAccount(\"aryan\", \"dff\", 50)"
   ]
  },
  {
   "cell_type": "code",
   "execution_count": 7,
   "id": "6a6a2a86-92b8-4f4e-9c71-a12f9898655b",
   "metadata": {},
   "outputs": [
    {
     "data": {
      "text/plain": [
       "50"
      ]
     },
     "execution_count": 7,
     "metadata": {},
     "output_type": "execute_result"
    }
   ],
   "source": [
    "s1.balance"
   ]
  },
  {
   "cell_type": "code",
   "execution_count": 8,
   "id": "df07cf5e-6b04-423a-afeb-ccf8cdaa8acd",
   "metadata": {},
   "outputs": [
    {
     "name": "stdout",
     "output_type": "stream",
     "text": [
      "100 deposited. updated balance is 150\n"
     ]
    }
   ],
   "source": [
    "s1.deposit(100)"
   ]
  },
  {
   "cell_type": "code",
   "execution_count": 9,
   "id": "4e8f33aa-0c75-4801-9632-06347c1fa04e",
   "metadata": {},
   "outputs": [
    {
     "data": {
      "text/plain": [
       "150"
      ]
     },
     "execution_count": 9,
     "metadata": {},
     "output_type": "execute_result"
    }
   ],
   "source": [
    "s1.balance"
   ]
  },
  {
   "cell_type": "code",
   "execution_count": 10,
   "id": "1cdf72e8-451e-491e-bf21-bb49be54bb33",
   "metadata": {},
   "outputs": [],
   "source": [
    "s1.apply_interest()"
   ]
  },
  {
   "cell_type": "code",
   "execution_count": 11,
   "id": "a1811a93-7bfc-485c-bb4b-ab43f33e94ac",
   "metadata": {},
   "outputs": [
    {
     "data": {
      "text/plain": [
       "160.5"
      ]
     },
     "execution_count": 11,
     "metadata": {},
     "output_type": "execute_result"
    }
   ],
   "source": [
    "s1.balance"
   ]
  },
  {
   "cell_type": "code",
   "execution_count": 12,
   "id": "82f57ff9-e76c-431b-87cc-89829fc577d1",
   "metadata": {},
   "outputs": [],
   "source": [
    "class CurrentAcct(BankAccount):\n",
    "        def withdraw(self, amount):\n",
    "            self.balance -= amount\n",
    "            print(f\"{amount} withdrawn. updated balance is {self.balance}\")\n",
    "            self.transaction_history.append(-amount) "
   ]
  },
  {
   "cell_type": "code",
   "execution_count": 13,
   "id": "6d421d84-2bf6-4c4d-a62c-6464b9fcdb24",
   "metadata": {},
   "outputs": [],
   "source": [
    "c1 = CurrentAcct(\"aryan\", \"dff\", 50)"
   ]
  },
  {
   "cell_type": "code",
   "execution_count": 14,
   "id": "d78ce407-9409-4097-99e6-f1d6d71cc152",
   "metadata": {},
   "outputs": [
    {
     "name": "stdout",
     "output_type": "stream",
     "text": [
      "100 withdrawn. updated balance is -50\n"
     ]
    }
   ],
   "source": [
    "c1.withdraw(100)"
   ]
  },
  {
   "cell_type": "code",
   "execution_count": 15,
   "id": "57c83d1f-17cb-4b70-b8a6-18d5205597b0",
   "metadata": {},
   "outputs": [
    {
     "data": {
      "text/plain": [
       "-50"
      ]
     },
     "execution_count": 15,
     "metadata": {},
     "output_type": "execute_result"
    }
   ],
   "source": [
    "c1.balance"
   ]
  },
  {
   "cell_type": "code",
   "execution_count": 16,
   "id": "9d96bfc2-a437-4bdb-ad88-3da6f1a23017",
   "metadata": {},
   "outputs": [
    {
     "name": "stdout",
     "output_type": "stream",
     "text": [
      "100 deposited. updated balance is 50\n"
     ]
    }
   ],
   "source": [
    "c1.deposit(100)"
   ]
  },
  {
   "cell_type": "code",
   "execution_count": 18,
   "id": "cc3870bb-9d2f-4ad7-880c-b41bc05e56f0",
   "metadata": {},
   "outputs": [],
   "source": [
    "class FixedDepositAccount(BankAccount):\n",
    "     def __init__(self, name, pan_card, balance, lock_in):\n",
    "        super().__init__(name, pan_card, balance)\n",
    "        self.lock_in = lock_in\n",
    "\n",
    "     def check_maturity(self):\n",
    "         return f\"Fixed deposit matures in {self.lock_in} months!\"\n"
   ]
  },
  {
   "cell_type": "code",
   "execution_count": 20,
   "id": "1334f509-e5a6-45cf-9ce8-519681be4999",
   "metadata": {},
   "outputs": [],
   "source": [
    "f1 = FixedDepositAccount(\"aryan\", \"jfnf\", 90, 12)"
   ]
  },
  {
   "cell_type": "code",
   "execution_count": 21,
   "id": "6814c5d8-7d22-4a06-aef9-931274cdfdfc",
   "metadata": {},
   "outputs": [
    {
     "data": {
      "text/plain": [
       "90"
      ]
     },
     "execution_count": 21,
     "metadata": {},
     "output_type": "execute_result"
    }
   ],
   "source": [
    "f1.balance"
   ]
  },
  {
   "cell_type": "code",
   "execution_count": 23,
   "id": "a79a4f95-1036-4927-8c8d-1c00b36381ba",
   "metadata": {},
   "outputs": [
    {
     "data": {
      "text/plain": [
       "'Fixed deposit matures in 12 months!'"
      ]
     },
     "execution_count": 23,
     "metadata": {},
     "output_type": "execute_result"
    }
   ],
   "source": [
    "f1.check_maturity()"
   ]
  },
  {
   "cell_type": "code",
   "execution_count": null,
   "id": "50f41f5a-9a1d-43c1-b87b-4f1fde92e993",
   "metadata": {},
   "outputs": [],
   "source": []
  }
 ],
 "metadata": {
  "kernelspec": {
   "display_name": "Python 3 (ipykernel)",
   "language": "python",
   "name": "python3"
  },
  "language_info": {
   "codemirror_mode": {
    "name": "ipython",
    "version": 3
   },
   "file_extension": ".py",
   "mimetype": "text/x-python",
   "name": "python",
   "nbconvert_exporter": "python",
   "pygments_lexer": "ipython3",
   "version": "3.11.7"
  }
 },
 "nbformat": 4,
 "nbformat_minor": 5
}
