{
 "cells": [
  {
   "cell_type": "markdown",
   "id": "7876de1a-3a92-42ec-956e-186ad4dff114",
   "metadata": {},
   "source": [
    "# 📝 Types of Function Parameters in Python\n",
    "\n",
    "Python supports several types of function parameters:\n",
    "\n",
    "1. **Positional Parameters** – Assigned based on their order in the function call.\n",
    "2. **Default Parameters** – Have a default value if no argument is provided.\n",
    "3. **Keyword Arguments** – Passed using parameter names, making order irrelevant.\n",
    "4. **Arbitrary Positional Arguments (`*args`)** – Collects multiple positional arguments into a tuple.\n",
    "5. **Arbitrary Keyword Arguments (`**kwargs`)** – Collects multiple named arguments into a dictionary.\n",
    "6. **Mixing Different Parameter Types** – A function can have a mix of the above types, but the order must be:\n",
    "   - Positional parameters\n",
    "   - Default parameters\n",
    "   - `*args`\n",
    "   - `**kwargs`\n"
   ]
  },
  {
   "cell_type": "code",
   "execution_count": 5,
   "id": "d4620d45-fd87-419c-92c7-82ea8bc72c14",
   "metadata": {},
   "outputs": [
    {
     "name": "stdout",
     "output_type": "stream",
     "text": [
      "hello, Aryan\n"
     ]
    }
   ],
   "source": [
    "#parameter and argument\n",
    "\n",
    "def greetings(name): #name is a parameter\n",
    "    print(f\"hello, {name}\")\n",
    "\n",
    "greetings(\"Aryan\") #aryan is argument"
   ]
  },
  {
   "cell_type": "code",
   "execution_count": 6,
   "id": "48c7fd70-8a36-4776-b532-a24c097655c9",
   "metadata": {},
   "outputs": [],
   "source": [
    "def info(name, age):\n",
    "    print(f\"My name is {name} and i am {age} years old!\")"
   ]
  },
  {
   "cell_type": "code",
   "execution_count": 17,
   "id": "461b8087-989d-407a-b6b8-71ec701a5e3e",
   "metadata": {},
   "outputs": [
    {
     "name": "stdout",
     "output_type": "stream",
     "text": [
      "My name is Aryan and i am 7 years old!\n"
     ]
    }
   ],
   "source": [
    "info(\"Aryan\", 7)"
   ]
  },
  {
   "cell_type": "code",
   "execution_count": 22,
   "id": "63958a22-2dea-4c46-a18e-ac32a4235d38",
   "metadata": {},
   "outputs": [
    {
     "name": "stdout",
     "output_type": "stream",
     "text": [
      "My name is Aryan and i am 7 years old!\n"
     ]
    }
   ],
   "source": [
    "info(age=7, name=\"Aryan\")"
   ]
  },
  {
   "cell_type": "code",
   "execution_count": 21,
   "id": "eef127fa-265b-4502-8298-7d83a6f98036",
   "metadata": {},
   "outputs": [
    {
     "name": "stdout",
     "output_type": "stream",
     "text": [
      "hello, Rahul\n"
     ]
    }
   ],
   "source": [
    "def greetings(name=\"Guest\"): #name is a parameter\n",
    "    print(f\"hello, {name}\")\n",
    "\n",
    "greetings(\"Rahul\") #aryan is argument"
   ]
  },
  {
   "cell_type": "code",
   "execution_count": null,
   "id": "d450d3a3-6ccd-41d2-b2b8-bd57052b8767",
   "metadata": {},
   "outputs": [],
   "source": []
  }
 ],
 "metadata": {
  "kernelspec": {
   "display_name": "Python 3 (ipykernel)",
   "language": "python",
   "name": "python3"
  },
  "language_info": {
   "codemirror_mode": {
    "name": "ipython",
    "version": 3
   },
   "file_extension": ".py",
   "mimetype": "text/x-python",
   "name": "python",
   "nbconvert_exporter": "python",
   "pygments_lexer": "ipython3",
   "version": "3.11.7"
  }
 },
 "nbformat": 4,
 "nbformat_minor": 5
}
