{
 "cells": [
  {
   "cell_type": "code",
   "execution_count": null,
   "id": "a115aabf-338a-457b-a15d-de9983c3b1d6",
   "metadata": {},
   "outputs": [],
   "source": [
    "#anonymous functions -> no name\n",
    "# one line functions\n",
    "#lambda keyword"
   ]
  },
  {
   "cell_type": "code",
   "execution_count": null,
   "id": "11a09793-e72d-4229-b2f5-f2506c4dca69",
   "metadata": {},
   "outputs": [],
   "source": [
    "lambda arguments: expression\n",
    "\n",
    "#any number of arguments\n",
    "#but only one expression"
   ]
  },
  {
   "cell_type": "code",
   "execution_count": 13,
   "id": "e58ee439-f0af-407d-a21e-fa9df5d7ae76",
   "metadata": {},
   "outputs": [
    {
     "data": {
      "text/plain": [
       "7"
      ]
     },
     "execution_count": 13,
     "metadata": {},
     "output_type": "execute_result"
    }
   ],
   "source": [
    "add = lambda a, b: a + b\n",
    "add(3,4)"
   ]
  },
  {
   "cell_type": "code",
   "execution_count": 14,
   "id": "8cc728d0-8108-43e4-9504-cd70b39d33fc",
   "metadata": {},
   "outputs": [
    {
     "data": {
      "text/plain": [
       "7"
      ]
     },
     "execution_count": 14,
     "metadata": {},
     "output_type": "execute_result"
    }
   ],
   "source": [
    "(lambda a, b: a + b)(3, 4)"
   ]
  },
  {
   "cell_type": "code",
   "execution_count": 16,
   "id": "93781068-87c6-41ac-93c3-aa2d223d3cf9",
   "metadata": {},
   "outputs": [
    {
     "data": {
      "text/plain": [
       "7"
      ]
     },
     "execution_count": 16,
     "metadata": {},
     "output_type": "execute_result"
    }
   ],
   "source": [
    "def sum_(x, y):\n",
    "    return x + y\n",
    "\n",
    "sum_(3,4)"
   ]
  },
  {
   "cell_type": "code",
   "execution_count": null,
   "id": "9bd6deb9-e776-4a4f-a44a-a6e0be2282cb",
   "metadata": {},
   "outputs": [],
   "source": [
    "#find max of 2 numbers"
   ]
  },
  {
   "cell_type": "code",
   "execution_count": null,
   "id": "ff17072b-0735-4031-8862-4b2ceb1ac92b",
   "metadata": {},
   "outputs": [],
   "source": [
    "lambda x, y: x is x > y else y"
   ]
  },
  {
   "cell_type": "code",
   "execution_count": null,
   "id": "85993162-3278-4c58-b9c9-882cd57303fb",
   "metadata": {},
   "outputs": [],
   "source": []
  },
  {
   "cell_type": "code",
   "execution_count": null,
   "id": "97fa9ba7-6359-4854-b6df-1293afdb9363",
   "metadata": {},
   "outputs": [],
   "source": []
  },
  {
   "cell_type": "code",
   "execution_count": null,
   "id": "9f5e2b4c-31e1-4171-b22f-ad8d84534fa4",
   "metadata": {},
   "outputs": [],
   "source": []
  }
 ],
 "metadata": {
  "kernelspec": {
   "display_name": "Python 3 (ipykernel)",
   "language": "python",
   "name": "python3"
  },
  "language_info": {
   "codemirror_mode": {
    "name": "ipython",
    "version": 3
   },
   "file_extension": ".py",
   "mimetype": "text/x-python",
   "name": "python",
   "nbconvert_exporter": "python",
   "pygments_lexer": "ipython3",
   "version": "3.11.7"
  }
 },
 "nbformat": 4,
 "nbformat_minor": 5
}
