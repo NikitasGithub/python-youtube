{
 "cells": [
  {
   "cell_type": "code",
   "execution_count": null,
   "id": "15f21918-9389-4045-a678-fcda487aa806",
   "metadata": {},
   "outputs": [],
   "source": [
    "collection of items\n",
    "\n",
    "key: value format\n",
    "\n",
    "{}"
   ]
  },
  {
   "cell_type": "code",
   "execution_count": 5,
   "id": "fafb7c8f-7a3c-471c-9d64-9022e5183c7e",
   "metadata": {},
   "outputs": [
    {
     "data": {
      "text/plain": [
       "dict"
      ]
     },
     "execution_count": 5,
     "metadata": {},
     "output_type": "execute_result"
    }
   ],
   "source": [
    "d = {89: 'Jimmy', 76:'Akshat', 90:'Aryan'}\n",
    "\n",
    "type(d)"
   ]
  },
  {
   "cell_type": "code",
   "execution_count": null,
   "id": "266e17ef-2993-4314-96f8-7e70763b1ab8",
   "metadata": {},
   "outputs": [],
   "source": [
    "What all datatypes can be key of a dict -> "
   ]
  },
  {
   "cell_type": "code",
   "execution_count": 10,
   "id": "a3543c3e-fcb4-4f6b-a2a3-3a7b2f3ee8b0",
   "metadata": {},
   "outputs": [
    {
     "ename": "TypeError",
     "evalue": "unhashable type: 'dict'",
     "output_type": "error",
     "traceback": [
      "\u001b[1;31m---------------------------------------------------------------------------\u001b[0m",
      "\u001b[1;31mTypeError\u001b[0m                                 Traceback (most recent call last)",
      "Cell \u001b[1;32mIn[10], line 1\u001b[0m\n\u001b[1;32m----> 1\u001b[0m d \u001b[38;5;241m=\u001b[39m {\u001b[38;5;241m89.9\u001b[39m: \u001b[38;5;124m'\u001b[39m\u001b[38;5;124mJimmy\u001b[39m\u001b[38;5;124m'\u001b[39m, (\u001b[38;5;241m1\u001b[39m,\u001b[38;5;241m2\u001b[39m,\u001b[38;5;241m3\u001b[39m,\u001b[38;5;124m'\u001b[39m\u001b[38;5;124ma\u001b[39m\u001b[38;5;124m'\u001b[39m):\u001b[38;5;124m'\u001b[39m\u001b[38;5;124mAkshat\u001b[39m\u001b[38;5;124m'\u001b[39m, {\u001b[38;5;124m'\u001b[39m\u001b[38;5;124ma\u001b[39m\u001b[38;5;124m'\u001b[39m:\u001b[38;5;241m1\u001b[39m}:\u001b[38;5;124m'\u001b[39m\u001b[38;5;124mAryan\u001b[39m\u001b[38;5;124m'\u001b[39m}\n\u001b[0;32m      3\u001b[0m \u001b[38;5;28mtype\u001b[39m(d)\n",
      "\u001b[1;31mTypeError\u001b[0m: unhashable type: 'dict'"
     ]
    }
   ],
   "source": [
    "d = {89.9: 'Jimmy', (1,2,3,'a'):'Akshat', {'a':1}:'Aryan'}\n",
    "\n",
    "type(d)"
   ]
  },
  {
   "cell_type": "code",
   "execution_count": null,
   "id": "5b5a8be9-3571-4b84-ae9c-f5ad42305be1",
   "metadata": {},
   "outputs": [],
   "source": [
    "#key of a dict has to be unique"
   ]
  },
  {
   "cell_type": "code",
   "execution_count": 11,
   "id": "b1077da8-2d0a-4704-be4a-b4332dce8b3f",
   "metadata": {},
   "outputs": [],
   "source": [
    "d = {89: 'Jimmy', 76:'Akshat', 90:'Aryan', 76:'random'}"
   ]
  },
  {
   "cell_type": "code",
   "execution_count": 12,
   "id": "37eeeec7-fc45-495a-80f5-397b3e15644c",
   "metadata": {},
   "outputs": [
    {
     "data": {
      "text/plain": [
       "'random'"
      ]
     },
     "execution_count": 12,
     "metadata": {},
     "output_type": "execute_result"
    }
   ],
   "source": [
    "d[76]"
   ]
  },
  {
   "cell_type": "code",
   "execution_count": 16,
   "id": "dae1b91c-f61d-46d1-b0cd-e34d52f58246",
   "metadata": {},
   "outputs": [],
   "source": [
    "d = {89: 'Jimmy', 76:'Akshat', 90:'Aryan', 100:\"Kiara\"}"
   ]
  },
  {
   "cell_type": "code",
   "execution_count": 17,
   "id": "7e8a4ac3-ccaf-4045-9f93-f3d98523ceec",
   "metadata": {},
   "outputs": [
    {
     "data": {
      "text/plain": [
       "'Aryan'"
      ]
     },
     "execution_count": 17,
     "metadata": {},
     "output_type": "execute_result"
    }
   ],
   "source": [
    "d[90]"
   ]
  },
  {
   "cell_type": "code",
   "execution_count": 18,
   "id": "b7d0b23a-6c1c-4321-8dcb-52c9e90b10ab",
   "metadata": {},
   "outputs": [
    {
     "data": {
      "text/plain": [
       "(100, 'Kiara')"
      ]
     },
     "execution_count": 18,
     "metadata": {},
     "output_type": "execute_result"
    }
   ],
   "source": [
    "d.popitem()"
   ]
  },
  {
   "cell_type": "code",
   "execution_count": 19,
   "id": "fcb3adca-15e9-44ca-87ed-622ba4f5e26d",
   "metadata": {},
   "outputs": [
    {
     "data": {
      "text/plain": [
       "{89: 'Jimmy', 76: 'Akshat', 90: 'Aryan'}"
      ]
     },
     "execution_count": 19,
     "metadata": {},
     "output_type": "execute_result"
    }
   ],
   "source": [
    "d"
   ]
  },
  {
   "cell_type": "code",
   "execution_count": 20,
   "id": "ecce0c6b-a36c-440c-bba2-7c4c49748095",
   "metadata": {},
   "outputs": [
    {
     "data": {
      "text/plain": [
       "'Jimmy'"
      ]
     },
     "execution_count": 20,
     "metadata": {},
     "output_type": "execute_result"
    }
   ],
   "source": [
    "d.pop(89)"
   ]
  },
  {
   "cell_type": "code",
   "execution_count": 21,
   "id": "f5d39259-d7dd-4075-a128-c2f64817525a",
   "metadata": {},
   "outputs": [
    {
     "data": {
      "text/plain": [
       "{76: 'Akshat', 90: 'Aryan'}"
      ]
     },
     "execution_count": 21,
     "metadata": {},
     "output_type": "execute_result"
    }
   ],
   "source": [
    "d"
   ]
  },
  {
   "cell_type": "code",
   "execution_count": 22,
   "id": "95680970-56e4-4563-a143-506a515cc10a",
   "metadata": {},
   "outputs": [],
   "source": [
    "d[101] = \"Kia\""
   ]
  },
  {
   "cell_type": "code",
   "execution_count": 23,
   "id": "b3569f88-bd17-4059-8b28-0f1fe99269f4",
   "metadata": {},
   "outputs": [
    {
     "data": {
      "text/plain": [
       "{76: 'Akshat', 90: 'Aryan', 101: 'Kia'}"
      ]
     },
     "execution_count": 23,
     "metadata": {},
     "output_type": "execute_result"
    }
   ],
   "source": [
    "d"
   ]
  },
  {
   "cell_type": "code",
   "execution_count": 24,
   "id": "b17d122e-9dcf-48f0-87fe-796b79478ac5",
   "metadata": {},
   "outputs": [],
   "source": [
    "d[90] = 'mamta'"
   ]
  },
  {
   "cell_type": "code",
   "execution_count": 25,
   "id": "0c8edde4-e52e-4f75-ab0f-b1f44781b31f",
   "metadata": {},
   "outputs": [
    {
     "data": {
      "text/plain": [
       "{76: 'Akshat', 90: 'mamta', 101: 'Kia'}"
      ]
     },
     "execution_count": 25,
     "metadata": {},
     "output_type": "execute_result"
    }
   ],
   "source": [
    "d"
   ]
  },
  {
   "cell_type": "code",
   "execution_count": 26,
   "id": "201bea3c-5f48-4da0-9f60-96e5bb00a2e1",
   "metadata": {},
   "outputs": [],
   "source": [
    "a = {'hindi': 90, 'english': 60, 'math': 100}"
   ]
  },
  {
   "cell_type": "code",
   "execution_count": 27,
   "id": "459be014-39e5-4e9d-a62c-f4265f8a9995",
   "metadata": {},
   "outputs": [],
   "source": [
    "d.update(a)"
   ]
  },
  {
   "cell_type": "code",
   "execution_count": 28,
   "id": "9e143b57-b885-4a27-a69e-c372e5bbfc93",
   "metadata": {},
   "outputs": [
    {
     "data": {
      "text/plain": [
       "{76: 'Akshat',\n",
       " 90: 'mamta',\n",
       " 101: 'Kia',\n",
       " 'hindi': 90,\n",
       " 'english': 60,\n",
       " 'math': 100}"
      ]
     },
     "execution_count": 28,
     "metadata": {},
     "output_type": "execute_result"
    }
   ],
   "source": [
    "d"
   ]
  },
  {
   "cell_type": "code",
   "execution_count": 29,
   "id": "d50032df-9688-4af0-aa5b-79786bc53eac",
   "metadata": {},
   "outputs": [
    {
     "data": {
      "text/plain": [
       "90"
      ]
     },
     "execution_count": 29,
     "metadata": {},
     "output_type": "execute_result"
    }
   ],
   "source": [
    "d['hindi']"
   ]
  },
  {
   "cell_type": "code",
   "execution_count": 30,
   "id": "ae531249-58ee-4d40-a72d-1ff84922c76b",
   "metadata": {},
   "outputs": [
    {
     "ename": "KeyError",
     "evalue": "'french'",
     "output_type": "error",
     "traceback": [
      "\u001b[1;31m---------------------------------------------------------------------------\u001b[0m",
      "\u001b[1;31mKeyError\u001b[0m                                  Traceback (most recent call last)",
      "Cell \u001b[1;32mIn[30], line 1\u001b[0m\n\u001b[1;32m----> 1\u001b[0m d[\u001b[38;5;124m'\u001b[39m\u001b[38;5;124mfrench\u001b[39m\u001b[38;5;124m'\u001b[39m]\n",
      "\u001b[1;31mKeyError\u001b[0m: 'french'"
     ]
    }
   ],
   "source": [
    "d['french']"
   ]
  },
  {
   "cell_type": "code",
   "execution_count": 31,
   "id": "f830de44-5cbb-45c4-b073-cdd1a940f95e",
   "metadata": {},
   "outputs": [
    {
     "data": {
      "text/plain": [
       "'key not found'"
      ]
     },
     "execution_count": 31,
     "metadata": {},
     "output_type": "execute_result"
    }
   ],
   "source": [
    "d.get('french', \"key not found\")"
   ]
  },
  {
   "cell_type": "code",
   "execution_count": 32,
   "id": "9e673f5b-cfef-4fb9-84d9-aad42788ed8b",
   "metadata": {},
   "outputs": [
    {
     "data": {
      "text/plain": [
       "90"
      ]
     },
     "execution_count": 32,
     "metadata": {},
     "output_type": "execute_result"
    }
   ],
   "source": [
    "d.get('hindi', \"key not found\")"
   ]
  },
  {
   "cell_type": "code",
   "execution_count": 33,
   "id": "2a028ef0-245b-45ea-b5a3-43d4b54c5226",
   "metadata": {},
   "outputs": [
    {
     "data": {
      "text/plain": [
       "dict_items([(76, 'Akshat'), (90, 'mamta'), (101, 'Kia'), ('hindi', 90), ('english', 60), ('math', 100)])"
      ]
     },
     "execution_count": 33,
     "metadata": {},
     "output_type": "execute_result"
    }
   ],
   "source": [
    "d.items()"
   ]
  },
  {
   "cell_type": "code",
   "execution_count": 34,
   "id": "0831c560-1593-43cd-9829-7fae1d089b66",
   "metadata": {},
   "outputs": [
    {
     "data": {
      "text/plain": [
       "dict_keys([76, 90, 101, 'hindi', 'english', 'math'])"
      ]
     },
     "execution_count": 34,
     "metadata": {},
     "output_type": "execute_result"
    }
   ],
   "source": [
    "d.keys()"
   ]
  },
  {
   "cell_type": "code",
   "execution_count": 35,
   "id": "fd2d5741-1234-4bbe-b23c-ad699c83a214",
   "metadata": {},
   "outputs": [
    {
     "data": {
      "text/plain": [
       "dict_values(['Akshat', 'mamta', 'Kia', 90, 60, 100])"
      ]
     },
     "execution_count": 35,
     "metadata": {},
     "output_type": "execute_result"
    }
   ],
   "source": [
    "d.values()"
   ]
  },
  {
   "cell_type": "code",
   "execution_count": null,
   "id": "d372c5cc-c24a-4c7b-b41b-e71835f49fdf",
   "metadata": {},
   "outputs": [],
   "source": []
  }
 ],
 "metadata": {
  "kernelspec": {
   "display_name": "Python 3 (ipykernel)",
   "language": "python",
   "name": "python3"
  },
  "language_info": {
   "codemirror_mode": {
    "name": "ipython",
    "version": 3
   },
   "file_extension": ".py",
   "mimetype": "text/x-python",
   "name": "python",
   "nbconvert_exporter": "python",
   "pygments_lexer": "ipython3",
   "version": "3.11.7"
  }
 },
 "nbformat": 4,
 "nbformat_minor": 5
}
