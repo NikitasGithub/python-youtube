{
 "cells": [
  {
   "cell_type": "code",
   "execution_count": null,
   "id": "77aff7cb-8e01-4bdd-a63c-5592dfc04bcc",
   "metadata": {},
   "outputs": [],
   "source": [
    "while condition:\n",
    "    #block of code"
   ]
  },
  {
   "cell_type": "code",
   "execution_count": 1,
   "id": "737f84f6-106d-4606-9f24-4ef7862076d1",
   "metadata": {},
   "outputs": [
    {
     "name": "stdout",
     "output_type": "stream",
     "text": [
      "1\n",
      "2\n",
      "3\n",
      "4\n",
      "5\n"
     ]
    }
   ],
   "source": [
    "#print nos from 1 to 5\n",
    "\n",
    "n  = 1\n",
    "\n",
    "while n < 6:\n",
    "    print(n)\n",
    "    n = n + 1"
   ]
  },
  {
   "cell_type": "code",
   "execution_count": 2,
   "id": "16e5f5f0-7c90-4ba4-91f8-79855f0ea59c",
   "metadata": {},
   "outputs": [
    {
     "name": "stdout",
     "output_type": "stream",
     "text": [
      "1\n",
      "2\n",
      "3\n",
      "4\n",
      "5\n"
     ]
    }
   ],
   "source": [
    "for i in range(1,6):\n",
    "    print(i)"
   ]
  },
  {
   "cell_type": "code",
   "execution_count": 3,
   "id": "13516dfe-30ae-40df-91c7-44b889a8bc16",
   "metadata": {},
   "outputs": [
    {
     "name": "stdin",
     "output_type": "stream",
     "text": [
      "Enter the password: hello\n",
      "Enter the password: hi\n",
      "Enter the password: python123\n"
     ]
    }
   ],
   "source": [
    "sys_password = \"python123\"\n",
    "password = \"\"\n",
    "\n",
    "while password != sys_password:\n",
    "    password = input(\"Enter the password:\")"
   ]
  },
  {
   "cell_type": "code",
   "execution_count": 5,
   "id": "910fac44-45cc-48f4-84de-7faa3cac6d50",
   "metadata": {},
   "outputs": [
    {
     "name": "stdout",
     "output_type": "stream",
     "text": [
      "1\n",
      "2\n",
      "3\n"
     ]
    }
   ],
   "source": [
    "n = 1\n",
    "while n < 6:\n",
    "    print(n)\n",
    "    if n==3:\n",
    "        break\n",
    "    n = n + 1\n",
    "else:\n",
    "    print(\"succesfully completed the task!\")"
   ]
  },
  {
   "cell_type": "code",
   "execution_count": null,
   "id": "7d700c6e-698c-4e22-822b-e8b7dfecbae0",
   "metadata": {},
   "outputs": [],
   "source": []
  },
  {
   "cell_type": "code",
   "execution_count": null,
   "id": "82d512b6-0501-41f1-bb05-c2139baf1c1a",
   "metadata": {},
   "outputs": [],
   "source": []
  },
  {
   "cell_type": "code",
   "execution_count": null,
   "id": "93aecf51-7129-4143-a3e6-00c84fe87038",
   "metadata": {},
   "outputs": [],
   "source": []
  },
  {
   "cell_type": "code",
   "execution_count": null,
   "id": "e78be0d2-f8e4-4cd8-b787-813a38e0427e",
   "metadata": {},
   "outputs": [],
   "source": []
  },
  {
   "cell_type": "code",
   "execution_count": null,
   "id": "3ced2849-275f-49c8-aaee-123459a1002e",
   "metadata": {},
   "outputs": [],
   "source": []
  },
  {
   "cell_type": "code",
   "execution_count": null,
   "id": "5d5c7842-4294-47d7-9c45-98ea91ca2c86",
   "metadata": {},
   "outputs": [],
   "source": []
  },
  {
   "cell_type": "code",
   "execution_count": null,
   "id": "ed4e6fc2-98bf-4cda-8b89-55755d7b9b62",
   "metadata": {},
   "outputs": [],
   "source": []
  },
  {
   "cell_type": "code",
   "execution_count": null,
   "id": "0b3b50a4-9e1d-4b5b-9071-e9238ffa6881",
   "metadata": {},
   "outputs": [],
   "source": []
  }
 ],
 "metadata": {
  "kernelspec": {
   "display_name": "Python 3 (ipykernel)",
   "language": "python",
   "name": "python3"
  },
  "language_info": {
   "codemirror_mode": {
    "name": "ipython",
    "version": 3
   },
   "file_extension": ".py",
   "mimetype": "text/x-python",
   "name": "python",
   "nbconvert_exporter": "python",
   "pygments_lexer": "ipython3",
   "version": "3.11.7"
  }
 },
 "nbformat": 4,
 "nbformat_minor": 5
}
