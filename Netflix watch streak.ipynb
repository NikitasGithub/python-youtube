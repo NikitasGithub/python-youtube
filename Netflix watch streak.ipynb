{
 "cells": [
  {
   "cell_type": "code",
   "execution_count": 17,
   "id": "2d5bb8bc-3383-45c9-9e24-7a54ae925308",
   "metadata": {},
   "outputs": [],
   "source": [
    "from datetime import datetime"
   ]
  },
  {
   "cell_type": "code",
   "execution_count": 41,
   "id": "7ca00aeb-8bb7-46d1-adc5-d016e66b48b4",
   "metadata": {},
   "outputs": [],
   "source": [
    "def longest_binge_streak(watch_dates):\n",
    "\n",
    "    if not watch_dates:\n",
    "        return 0\n",
    "    \n",
    "    dates = []\n",
    "    for date in watch_dates:\n",
    "        dates.append(datetime.strptime(date,\"%Y-%m-%d\"))\n",
    "\n",
    "    dates = sorted(dates)\n",
    "    \n",
    "    longest_streak = 1\n",
    "    current_streak = 1\n",
    "    for i in range(1, len(dates)):\n",
    "        if (dates[i] - dates[i-1]).days == 1:\n",
    "            current_streak += 1\n",
    "        else:\n",
    "            longest_streak = max(longest_streak, current_streak)\n",
    "            current_streak = 1\n",
    "    longest_streak = max(longest_streak, current_streak)\n",
    "    return longest_streak\n"
   ]
  },
  {
   "cell_type": "code",
   "execution_count": 42,
   "id": "fe88779b-0e2e-482d-bd63-43d6e1818789",
   "metadata": {},
   "outputs": [],
   "source": [
    "watch_dates = [\"2025-03-01\", \"2025-03-02\", \"2025-03-04\", \"2025-03-05\", \"2025-03-06\", \"2025-03-10\", \"2025-03-07\"]"
   ]
  },
  {
   "cell_type": "code",
   "execution_count": 43,
   "id": "1433e3ad-0088-4481-82b5-e6aca2ac0c5b",
   "metadata": {},
   "outputs": [
    {
     "data": {
      "text/plain": [
       "4"
      ]
     },
     "execution_count": 43,
     "metadata": {},
     "output_type": "execute_result"
    }
   ],
   "source": [
    "longest_binge_streak(watch_dates)"
   ]
  },
  {
   "cell_type": "code",
   "execution_count": 44,
   "id": "2e401ac7-5e9f-40e3-9e66-d357feb5e4ca",
   "metadata": {},
   "outputs": [
    {
     "data": {
      "text/plain": [
       "0"
      ]
     },
     "execution_count": 44,
     "metadata": {},
     "output_type": "execute_result"
    }
   ],
   "source": [
    "longest_binge_streak([])"
   ]
  },
  {
   "cell_type": "code",
   "execution_count": null,
   "id": "b6be4320-e625-4622-8a59-849bb472aa08",
   "metadata": {},
   "outputs": [],
   "source": []
  },
  {
   "cell_type": "code",
   "execution_count": null,
   "id": "92decf4d-7b83-4ab9-89ea-41220e547c01",
   "metadata": {},
   "outputs": [],
   "source": []
  }
 ],
 "metadata": {
  "kernelspec": {
   "display_name": "Python 3 (ipykernel)",
   "language": "python",
   "name": "python3"
  },
  "language_info": {
   "codemirror_mode": {
    "name": "ipython",
    "version": 3
   },
   "file_extension": ".py",
   "mimetype": "text/x-python",
   "name": "python",
   "nbconvert_exporter": "python",
   "pygments_lexer": "ipython3",
   "version": "3.11.7"
  }
 },
 "nbformat": 4,
 "nbformat_minor": 5
}
