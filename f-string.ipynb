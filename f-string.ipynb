{
 "cells": [
  {
   "cell_type": "markdown",
   "id": "37924809-8758-4096-9e87-1963916ad043",
   "metadata": {},
   "source": [
    "### What are f-Strings?\n",
    "\n",
    "* f-strings are a way to format strings in Python.\n",
    "\n",
    "* They start with an 'f' or 'F' before the quotes."
   ]
  },
  {
   "cell_type": "code",
   "execution_count": 8,
   "id": "9f90f313-7c12-43ad-97e4-a995978b861b",
   "metadata": {},
   "outputs": [
    {
     "name": "stdout",
     "output_type": "stream",
     "text": [
      "Aryan is 7 years old.\n"
     ]
    }
   ],
   "source": [
    "name = \"Aryan\"\n",
    "age = 7\n",
    "\n",
    "print(name, \"is\", age, \"years old.\")"
   ]
  },
  {
   "cell_type": "code",
   "execution_count": 9,
   "id": "f4c44427-5573-4597-8fdb-22b4cd382d19",
   "metadata": {},
   "outputs": [
    {
     "name": "stdout",
     "output_type": "stream",
     "text": [
      "Aryan is 7 years old\n"
     ]
    }
   ],
   "source": [
    "print(f\"{name} is {age} years old\")"
   ]
  },
  {
   "cell_type": "code",
   "execution_count": 10,
   "id": "65cf48a7-1dc8-4031-b6a6-fcd88f57d0eb",
   "metadata": {},
   "outputs": [
    {
     "name": "stdout",
     "output_type": "stream",
     "text": [
      "{name} is {age} years old\n"
     ]
    }
   ],
   "source": [
    "print(\"{name} is {age} years old\")"
   ]
  },
  {
   "cell_type": "code",
   "execution_count": 12,
   "id": "137deaaa-2d02-4d48-974b-4509b73d3c5e",
   "metadata": {},
   "outputs": [
    {
     "name": "stdout",
     "output_type": "stream",
     "text": [
      "sum: 15\n"
     ]
    }
   ],
   "source": [
    "a = 10\n",
    "b = 5\n",
    "\n",
    "print(\"sum:\",a+b)"
   ]
  },
  {
   "cell_type": "code",
   "execution_count": 13,
   "id": "2e8d24c8-d8ba-4ce6-906e-45cf2f84fef8",
   "metadata": {},
   "outputs": [
    {
     "name": "stdout",
     "output_type": "stream",
     "text": [
      "Sum: 15\n"
     ]
    }
   ],
   "source": [
    "print(f\"Sum: {a + b}\")"
   ]
  },
  {
   "cell_type": "code",
   "execution_count": 15,
   "id": "cb4d39fa-4cea-4e65-a637-1770d21ed7ce",
   "metadata": {},
   "outputs": [
    {
     "name": "stdout",
     "output_type": "stream",
     "text": [
      "Pi: 3.14\n"
     ]
    }
   ],
   "source": [
    "pi = 3.14159\n",
    "print(f\"Pi: {pi:.2f}\")"
   ]
  },
  {
   "cell_type": "code",
   "execution_count": null,
   "id": "2caf2d4d-6868-4cec-8777-8eae221c922c",
   "metadata": {},
   "outputs": [],
   "source": [
    "#MultiLine f string"
   ]
  },
  {
   "cell_type": "code",
   "execution_count": 16,
   "id": "f80bc026-7e34-49d7-a536-0e0d0f32c2e0",
   "metadata": {},
   "outputs": [
    {
     "data": {
      "text/plain": [
       "'Aryan'"
      ]
     },
     "execution_count": 16,
     "metadata": {},
     "output_type": "execute_result"
    }
   ],
   "source": [
    "name"
   ]
  },
  {
   "cell_type": "code",
   "execution_count": 17,
   "id": "fd54f300-2f3b-4d87-bbdb-babaa5117898",
   "metadata": {},
   "outputs": [
    {
     "data": {
      "text/plain": [
       "7"
      ]
     },
     "execution_count": 17,
     "metadata": {},
     "output_type": "execute_result"
    }
   ],
   "source": [
    "age"
   ]
  },
  {
   "cell_type": "code",
   "execution_count": 18,
   "id": "16909bf9-ac51-4145-b8fb-360c13021884",
   "metadata": {},
   "outputs": [
    {
     "name": "stdout",
     "output_type": "stream",
     "text": [
      "\n",
      "Name: Aryan\n",
      "Age: 7\n",
      "\n"
     ]
    }
   ],
   "source": [
    "details = f'''\n",
    "Name: {name}\n",
    "Age: {age}\n",
    "'''\n",
    "\n",
    "print(details)"
   ]
  },
  {
   "cell_type": "code",
   "execution_count": null,
   "id": "c643a2d3-fda1-4c3c-96f9-a91fbe3a959a",
   "metadata": {},
   "outputs": [],
   "source": []
  },
  {
   "cell_type": "code",
   "execution_count": null,
   "id": "42e3ed49-ac39-42fa-9ed2-869d2c693520",
   "metadata": {},
   "outputs": [],
   "source": []
  },
  {
   "cell_type": "code",
   "execution_count": null,
   "id": "88cb4d49-8616-45d6-b486-a5adbdeab8cd",
   "metadata": {},
   "outputs": [],
   "source": []
  }
 ],
 "metadata": {
  "kernelspec": {
   "display_name": "Python 3 (ipykernel)",
   "language": "python",
   "name": "python3"
  },
  "language_info": {
   "codemirror_mode": {
    "name": "ipython",
    "version": 3
   },
   "file_extension": ".py",
   "mimetype": "text/x-python",
   "name": "python",
   "nbconvert_exporter": "python",
   "pygments_lexer": "ipython3",
   "version": "3.11.7"
  }
 },
 "nbformat": 4,
 "nbformat_minor": 5
}
