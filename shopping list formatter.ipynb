{
 "cells": [
  {
   "cell_type": "markdown",
   "id": "cf84cdb0-ebd0-4fed-8c72-2894de758376",
   "metadata": {},
   "source": [
    "# 🛍️ Practice Problem: Smart Shopping List Formatter (with `*args`)\r\n",
    "\r\n",
    "### 💡 Problem Statement\r\n",
    "\r\n",
    "You’re building a smart shopping assistant in Python!\r\n",
    "\r\n",
    "Write a function called `format_list()` that accepts any number of items using `*args` and returns a nicely formatted shopping list sentence.\r\n",
    "\r\n",
    "The formatting should follow these rules:\r\n",
    "\r\n",
    "1. If the list is empty, return:  \r\n",
    "   `🛒 Your shopping list is empty!`\r\n",
    "\r\n",
    "2. If there's only one item, return:  \r\n",
    "   `🛒 You need to buy: item.`\r\n",
    "\r\n",
    "3. If there are two items, return:  \r\n",
    "   `🛒 You need to buy: item1 and item2.`\r\n",
    "\r\n",
    "4. If there are three or more items, return:  \r\n",
    "   `🛒 You need to buy: item1, item2, ..., and itemN.`  (Oxford comma style!)*\r\n",
    "\r\n",
    "---\r\n",
    "\r\n",
    "### ✅ Examples\r\n",
    "\r\n",
    "```python\r\n",
    "format_list()\r\n",
    "# Output: 🛒 Your shopping list is empty!\r\n",
    "\r\n",
    "format_list(\"bread\")\r\n",
    "# Output: 🛒 You need to buy: bread.\r\n",
    "\r\n",
    "format_list(\"bread\", \"milk\")\r\n",
    "# Output: 🛒 You need to buy: bread and milk.\r\n",
    "\r\n",
    "format_list(\"bread\", \"milk\", \"eggs\", \"bananas\")\r\n",
    "# Output: 🛒 You need to buy: bread, milk, eggs, and bananas.\r\n"
   ]
  },
  {
   "cell_type": "code",
   "execution_count": 9,
   "id": "6cd3dfac-cf00-4c94-9696-0fdf28896e45",
   "metadata": {},
   "outputs": [
    {
     "data": {
      "text/plain": [
       "'bread, milk, eggs, bananas'"
      ]
     },
     "execution_count": 9,
     "metadata": {},
     "output_type": "execute_result"
    }
   ],
   "source": [
    "tup1 = (\"bread\", \"milk\", \"eggs\", \"bananas\")\n",
    "\n",
    "', '.join(tup1)"
   ]
  },
  {
   "cell_type": "code",
   "execution_count": 10,
   "id": "23af7e49-69a8-4ff2-9256-bbcccd39ef06",
   "metadata": {},
   "outputs": [],
   "source": [
    "def format_list(*items):\n",
    "    if not items:\n",
    "        return \"🛒 Your shopping list is empty!\"\n",
    "    elif len(items) == 1:\n",
    "        return f\"🛒 You need to buy: {items[0]}.\"\n",
    "    elif len(items) == 2:\n",
    "        return f\"🛒 You need to buy: {items[0]} and {items[1]}.\"\n",
    "    else:\n",
    "        return f\"🛒 You need to buy: {', '.join(items[:-1])}, and {items[-1]}.\""
   ]
  },
  {
   "cell_type": "code",
   "execution_count": 11,
   "id": "54f0291e-04bc-4a95-b605-17052013ba3e",
   "metadata": {},
   "outputs": [
    {
     "data": {
      "text/plain": [
       "'🛒 Your shopping list is empty!'"
      ]
     },
     "execution_count": 11,
     "metadata": {},
     "output_type": "execute_result"
    }
   ],
   "source": [
    "format_list()"
   ]
  },
  {
   "cell_type": "code",
   "execution_count": 12,
   "id": "da286f32-366c-4d42-b80e-3f4857d2e9f9",
   "metadata": {},
   "outputs": [
    {
     "data": {
      "text/plain": [
       "'🛒 You need to buy: bread.'"
      ]
     },
     "execution_count": 12,
     "metadata": {},
     "output_type": "execute_result"
    }
   ],
   "source": [
    "format_list('bread')"
   ]
  },
  {
   "cell_type": "code",
   "execution_count": 13,
   "id": "74068293-030a-46d8-b6c3-ecd6e67703c4",
   "metadata": {},
   "outputs": [
    {
     "data": {
      "text/plain": [
       "'🛒 You need to buy: bread and butter.'"
      ]
     },
     "execution_count": 13,
     "metadata": {},
     "output_type": "execute_result"
    }
   ],
   "source": [
    "format_list('bread', 'butter')"
   ]
  },
  {
   "cell_type": "code",
   "execution_count": 15,
   "id": "110a7936-b9b6-4594-be26-076e22749e84",
   "metadata": {},
   "outputs": [
    {
     "data": {
      "text/plain": [
       "'🛒 You need to buy: bread, butter, jam, and cheese.'"
      ]
     },
     "execution_count": 15,
     "metadata": {},
     "output_type": "execute_result"
    }
   ],
   "source": [
    "format_list('bread', 'butter', 'jam', 'cheese')"
   ]
  },
  {
   "cell_type": "code",
   "execution_count": null,
   "id": "f7349014-d0d0-4ceb-94cf-b02a69b6ff6e",
   "metadata": {},
   "outputs": [],
   "source": []
  }
 ],
 "metadata": {
  "kernelspec": {
   "display_name": "Python 3 (ipykernel)",
   "language": "python",
   "name": "python3"
  },
  "language_info": {
   "codemirror_mode": {
    "name": "ipython",
    "version": 3
   },
   "file_extension": ".py",
   "mimetype": "text/x-python",
   "name": "python",
   "nbconvert_exporter": "python",
   "pygments_lexer": "ipython3",
   "version": "3.11.7"
  }
 },
 "nbformat": 4,
 "nbformat_minor": 5
}
