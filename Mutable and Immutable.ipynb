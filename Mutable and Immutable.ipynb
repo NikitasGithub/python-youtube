{
 "cells": [
  {
   "cell_type": "code",
   "execution_count": 16,
   "id": "2b0ad059-3bd8-4a65-ada1-cfbd24335bc1",
   "metadata": {},
   "outputs": [],
   "source": [
    "x = 1"
   ]
  },
  {
   "cell_type": "code",
   "execution_count": 17,
   "id": "82cd4b03-0055-4907-9f67-2c55cce0fbf4",
   "metadata": {},
   "outputs": [
    {
     "data": {
      "text/plain": [
       "140734396154664"
      ]
     },
     "execution_count": 17,
     "metadata": {},
     "output_type": "execute_result"
    }
   ],
   "source": [
    "id(1)"
   ]
  },
  {
   "cell_type": "code",
   "execution_count": 18,
   "id": "104d8a77-65ae-427d-8882-e6007656f88c",
   "metadata": {},
   "outputs": [
    {
     "data": {
      "text/plain": [
       "140734396154664"
      ]
     },
     "execution_count": 18,
     "metadata": {},
     "output_type": "execute_result"
    }
   ],
   "source": [
    "id(x)"
   ]
  },
  {
   "cell_type": "code",
   "execution_count": 19,
   "id": "d7f7b06b-0867-417b-b7cd-d99455bc8270",
   "metadata": {},
   "outputs": [
    {
     "data": {
      "text/plain": [
       "140734396154792"
      ]
     },
     "execution_count": 19,
     "metadata": {},
     "output_type": "execute_result"
    }
   ],
   "source": [
    "x = 5\n",
    "id(x)"
   ]
  },
  {
   "cell_type": "code",
   "execution_count": 20,
   "id": "015155c5-954b-4700-b560-aa80244ee119",
   "metadata": {},
   "outputs": [
    {
     "data": {
      "text/plain": [
       "140734396154792"
      ]
     },
     "execution_count": 20,
     "metadata": {},
     "output_type": "execute_result"
    }
   ],
   "source": [
    "y = 5\n",
    "id(y)"
   ]
  },
  {
   "cell_type": "code",
   "execution_count": 22,
   "id": "93bcfd84-b213-4c54-adb3-8b03f808b537",
   "metadata": {},
   "outputs": [
    {
     "ename": "TypeError",
     "evalue": "'str' object does not support item assignment",
     "output_type": "error",
     "traceback": [
      "\u001b[1;31m---------------------------------------------------------------------------\u001b[0m",
      "\u001b[1;31mTypeError\u001b[0m                                 Traceback (most recent call last)",
      "Cell \u001b[1;32mIn[22], line 3\u001b[0m\n\u001b[0;32m      1\u001b[0m str1 \u001b[38;5;241m=\u001b[39m \u001b[38;5;124m\"\u001b[39m\u001b[38;5;124mhello\u001b[39m\u001b[38;5;124m\"\u001b[39m\n\u001b[1;32m----> 3\u001b[0m str1[\u001b[38;5;241m-\u001b[39m\u001b[38;5;241m1\u001b[39m] \u001b[38;5;241m=\u001b[39m \u001b[38;5;124m'\u001b[39m\u001b[38;5;124ma\u001b[39m\u001b[38;5;124m'\u001b[39m\n",
      "\u001b[1;31mTypeError\u001b[0m: 'str' object does not support item assignment"
     ]
    }
   ],
   "source": [
    "str1 = \"hello\" #immutable datatype\n",
    "\n",
    "str1[-1] = 'a'"
   ]
  },
  {
   "cell_type": "code",
   "execution_count": 23,
   "id": "ec692a8e-0b4d-45ca-9df7-3006a92782f6",
   "metadata": {},
   "outputs": [
    {
     "data": {
      "text/plain": [
       "2877812467312"
      ]
     },
     "execution_count": 23,
     "metadata": {},
     "output_type": "execute_result"
    }
   ],
   "source": [
    "id(str1)"
   ]
  },
  {
   "cell_type": "code",
   "execution_count": 24,
   "id": "e20d4a4c-ea29-46b4-a45f-44ee6faeeae8",
   "metadata": {},
   "outputs": [
    {
     "data": {
      "text/plain": [
       "2877851075824"
      ]
     },
     "execution_count": 24,
     "metadata": {},
     "output_type": "execute_result"
    }
   ],
   "source": [
    "str1 = \"dcnmr\"\n",
    "id(str1)"
   ]
  },
  {
   "cell_type": "code",
   "execution_count": null,
   "id": "337f3679-e685-4a49-8ba5-6882bcc922ca",
   "metadata": {},
   "outputs": [],
   "source": [
    "#list -> mutable"
   ]
  },
  {
   "cell_type": "code",
   "execution_count": 25,
   "id": "a0291bdc-00a7-4d09-b682-cb030ce6845c",
   "metadata": {},
   "outputs": [
    {
     "data": {
      "text/plain": [
       "2877850839936"
      ]
     },
     "execution_count": 25,
     "metadata": {},
     "output_type": "execute_result"
    }
   ],
   "source": [
    "lst1 = [1,2,3]\n",
    "id(lst1)"
   ]
  },
  {
   "cell_type": "code",
   "execution_count": 26,
   "id": "9c295dd0-466d-4f1e-9bd3-0a954eb90bbe",
   "metadata": {},
   "outputs": [
    {
     "data": {
      "text/plain": [
       "[1, 2, 3, 100]"
      ]
     },
     "execution_count": 26,
     "metadata": {},
     "output_type": "execute_result"
    }
   ],
   "source": [
    "lst1.append(100)\n",
    "lst1"
   ]
  },
  {
   "cell_type": "code",
   "execution_count": 27,
   "id": "319871be-b9bc-4927-8425-e93fb6e57c6d",
   "metadata": {},
   "outputs": [
    {
     "data": {
      "text/plain": [
       "2877850839936"
      ]
     },
     "execution_count": 27,
     "metadata": {},
     "output_type": "execute_result"
    }
   ],
   "source": [
    "id(lst1)"
   ]
  },
  {
   "cell_type": "code",
   "execution_count": 28,
   "id": "430285a3-5b8a-4254-9aa8-86c6d33e57c5",
   "metadata": {},
   "outputs": [],
   "source": [
    "lst1[1] = 200"
   ]
  },
  {
   "cell_type": "code",
   "execution_count": 29,
   "id": "80fba207-c799-49d7-be51-9b95f3f5d6ed",
   "metadata": {},
   "outputs": [
    {
     "data": {
      "text/plain": [
       "[1, 200, 3, 100]"
      ]
     },
     "execution_count": 29,
     "metadata": {},
     "output_type": "execute_result"
    }
   ],
   "source": [
    "lst1"
   ]
  },
  {
   "cell_type": "code",
   "execution_count": 32,
   "id": "05b3534c-d271-4aaa-8713-3996709a0955",
   "metadata": {},
   "outputs": [
    {
     "data": {
      "text/plain": [
       "2877851220928"
      ]
     },
     "execution_count": 32,
     "metadata": {},
     "output_type": "execute_result"
    }
   ],
   "source": [
    "tup1 = (1,2,3)\n",
    "id(tup1)"
   ]
  },
  {
   "cell_type": "code",
   "execution_count": 33,
   "id": "c1ccddb9-e9bd-4677-9963-0187b19a580a",
   "metadata": {},
   "outputs": [
    {
     "data": {
      "text/plain": [
       "2877851109712"
      ]
     },
     "execution_count": 33,
     "metadata": {},
     "output_type": "execute_result"
    }
   ],
   "source": [
    "tup1 = (1,2,3,4)\n",
    "id(tup1)"
   ]
  },
  {
   "cell_type": "code",
   "execution_count": null,
   "id": "db228052-ff11-4f62-a39b-cf4c9dc01e07",
   "metadata": {},
   "outputs": [],
   "source": [
    "dictionary -> mutable"
   ]
  },
  {
   "cell_type": "code",
   "execution_count": 37,
   "id": "502c06e3-2196-4223-bb6f-d0a125976bf9",
   "metadata": {},
   "outputs": [
    {
     "data": {
      "text/plain": [
       "2877853304960"
      ]
     },
     "execution_count": 37,
     "metadata": {},
     "output_type": "execute_result"
    }
   ],
   "source": [
    "d = {1:'a', 2:400}\n",
    "id(d)"
   ]
  },
  {
   "cell_type": "code",
   "execution_count": 38,
   "id": "a3be823e-4fc0-4c88-bade-e6cfebf13301",
   "metadata": {},
   "outputs": [],
   "source": [
    "d[1] = \"hello\""
   ]
  },
  {
   "cell_type": "code",
   "execution_count": 39,
   "id": "4b8c87bc-b1dd-448c-bcda-59bb61f1fb89",
   "metadata": {},
   "outputs": [
    {
     "data": {
      "text/plain": [
       "{1: 'hello', 2: 400}"
      ]
     },
     "execution_count": 39,
     "metadata": {},
     "output_type": "execute_result"
    }
   ],
   "source": [
    "d"
   ]
  },
  {
   "cell_type": "code",
   "execution_count": 40,
   "id": "07c67162-7680-40ba-a669-6e20f74a8987",
   "metadata": {},
   "outputs": [
    {
     "data": {
      "text/plain": [
       "2877853304960"
      ]
     },
     "execution_count": 40,
     "metadata": {},
     "output_type": "execute_result"
    }
   ],
   "source": [
    "id(d)"
   ]
  },
  {
   "cell_type": "code",
   "execution_count": null,
   "id": "8cf7a539-8132-4405-85a8-b4c750c47801",
   "metadata": {},
   "outputs": [],
   "source": [
    "#set -> mutable but items of the set are immutable type"
   ]
  },
  {
   "cell_type": "code",
   "execution_count": 41,
   "id": "b12eb762-75ab-405f-895e-ceb5a108733f",
   "metadata": {},
   "outputs": [],
   "source": [
    "s1 = {1,2}"
   ]
  },
  {
   "cell_type": "code",
   "execution_count": 42,
   "id": "25b60fcd-625a-4dd9-8d25-1590e6ca84bc",
   "metadata": {},
   "outputs": [],
   "source": [
    "s1.add(3)"
   ]
  },
  {
   "cell_type": "code",
   "execution_count": 43,
   "id": "df358cf4-79f2-43a4-a597-a3fe568a46a1",
   "metadata": {},
   "outputs": [
    {
     "data": {
      "text/plain": [
       "{1, 2, 3}"
      ]
     },
     "execution_count": 43,
     "metadata": {},
     "output_type": "execute_result"
    }
   ],
   "source": [
    "s1"
   ]
  },
  {
   "cell_type": "code",
   "execution_count": null,
   "id": "4960dea6-cd72-466d-b143-c02694790325",
   "metadata": {},
   "outputs": [],
   "source": []
  }
 ],
 "metadata": {
  "kernelspec": {
   "display_name": "Python 3 (ipykernel)",
   "language": "python",
   "name": "python3"
  },
  "language_info": {
   "codemirror_mode": {
    "name": "ipython",
    "version": 3
   },
   "file_extension": ".py",
   "mimetype": "text/x-python",
   "name": "python",
   "nbconvert_exporter": "python",
   "pygments_lexer": "ipython3",
   "version": "3.11.7"
  }
 },
 "nbformat": 4,
 "nbformat_minor": 5
}
