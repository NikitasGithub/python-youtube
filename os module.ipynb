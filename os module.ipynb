{
 "cells": [
  {
   "cell_type": "code",
   "execution_count": null,
   "id": "b09958d7-b50a-491d-9983-049b55e8ff6d",
   "metadata": {},
   "outputs": [],
   "source": [
    "os -> operating"
   ]
  },
  {
   "cell_type": "code",
   "execution_count": 3,
   "id": "1056c5be-0d75-42a1-a1d5-c6ae0fa884f6",
   "metadata": {},
   "outputs": [],
   "source": [
    "import os"
   ]
  },
  {
   "cell_type": "code",
   "execution_count": 4,
   "id": "fd81346b-4eaf-459a-a7df-10d98d5c6783",
   "metadata": {},
   "outputs": [
    {
     "data": {
      "text/plain": [
       "'C:\\\\Users\\\\Nikita'"
      ]
     },
     "execution_count": 4,
     "metadata": {},
     "output_type": "execute_result"
    }
   ],
   "source": [
    "os.getcwd()"
   ]
  },
  {
   "cell_type": "code",
   "execution_count": 5,
   "id": "eaa2947d-8d1e-464e-9fae-e8ce6d63eda2",
   "metadata": {},
   "outputs": [],
   "source": [
    "os.chdir(r\"C:\\Users\\Nikita\\OneDrive\\Desktop\\random\")"
   ]
  },
  {
   "cell_type": "code",
   "execution_count": 6,
   "id": "4decf69e-d6e2-42de-9d60-d9a84bb84745",
   "metadata": {},
   "outputs": [
    {
     "data": {
      "text/plain": [
       "'C:\\\\Users\\\\Nikita\\\\OneDrive\\\\Desktop\\\\random'"
      ]
     },
     "execution_count": 6,
     "metadata": {},
     "output_type": "execute_result"
    }
   ],
   "source": [
    "os.getcwd()"
   ]
  },
  {
   "cell_type": "code",
   "execution_count": 7,
   "id": "cf919e21-b3bd-4d5f-9cb2-4da19b21be1b",
   "metadata": {},
   "outputs": [
    {
     "data": {
      "text/plain": [
       "['test.txt']"
      ]
     },
     "execution_count": 7,
     "metadata": {},
     "output_type": "execute_result"
    }
   ],
   "source": [
    "os.listdir()"
   ]
  },
  {
   "cell_type": "code",
   "execution_count": 8,
   "id": "1958484f-77db-4577-9ff6-6ab5a57e465f",
   "metadata": {},
   "outputs": [],
   "source": [
    "os.mkdir('C:\\\\Users\\\\Nikita\\\\OneDrive\\\\Desktop\\\\random\\\\new')"
   ]
  },
  {
   "cell_type": "code",
   "execution_count": 9,
   "id": "11a439a1-a128-4311-9264-3af58b2bf760",
   "metadata": {},
   "outputs": [
    {
     "data": {
      "text/plain": [
       "['new', 'test.txt']"
      ]
     },
     "execution_count": 9,
     "metadata": {},
     "output_type": "execute_result"
    }
   ],
   "source": [
    "os.listdir()"
   ]
  },
  {
   "cell_type": "code",
   "execution_count": 10,
   "id": "6e63e02c-7027-4241-8abb-c011a8353016",
   "metadata": {},
   "outputs": [],
   "source": [
    "os.rmdir(\"new\") #rmdir only works if folder is empty"
   ]
  },
  {
   "cell_type": "code",
   "execution_count": 11,
   "id": "3e91f9c7-2b8d-4701-8ffe-28020ac6c34b",
   "metadata": {},
   "outputs": [
    {
     "data": {
      "text/plain": [
       "['test.txt']"
      ]
     },
     "execution_count": 11,
     "metadata": {},
     "output_type": "execute_result"
    }
   ],
   "source": [
    "os.listdir()"
   ]
  },
  {
   "cell_type": "code",
   "execution_count": 12,
   "id": "99c80cad-58bc-4b43-ac48-90a45daa5b54",
   "metadata": {},
   "outputs": [],
   "source": [
    "os.makedirs('Parent/Child/Subchild')"
   ]
  },
  {
   "cell_type": "code",
   "execution_count": 14,
   "id": "6a04702a-74e0-40be-a02a-7e3ca574cd3e",
   "metadata": {},
   "outputs": [
    {
     "data": {
      "text/plain": [
       "['Parent', 'test.txt']"
      ]
     },
     "execution_count": 14,
     "metadata": {},
     "output_type": "execute_result"
    }
   ],
   "source": [
    "os.listdir()"
   ]
  },
  {
   "cell_type": "code",
   "execution_count": 15,
   "id": "16d800e3-cc86-4671-94a3-be058c62163e",
   "metadata": {},
   "outputs": [],
   "source": [
    "os.rename('Parent', 'parent_new')"
   ]
  },
  {
   "cell_type": "code",
   "execution_count": 16,
   "id": "d52fd27d-512b-4983-9acb-ce1118aefdac",
   "metadata": {},
   "outputs": [
    {
     "data": {
      "text/plain": [
       "['parent_new', 'test.txt']"
      ]
     },
     "execution_count": 16,
     "metadata": {},
     "output_type": "execute_result"
    }
   ],
   "source": [
    "os.listdir()"
   ]
  },
  {
   "cell_type": "code",
   "execution_count": 18,
   "id": "2cdc61a6-551d-44d2-bf87-054a88ce1059",
   "metadata": {},
   "outputs": [
    {
     "data": {
      "text/plain": [
       "False"
      ]
     },
     "execution_count": 18,
     "metadata": {},
     "output_type": "execute_result"
    }
   ],
   "source": [
    "os.path.exists('xyz')"
   ]
  },
  {
   "cell_type": "code",
   "execution_count": 20,
   "id": "b25e8e67-4f28-495d-b0a8-0af207a9605f",
   "metadata": {},
   "outputs": [
    {
     "data": {
      "text/plain": [
       "False"
      ]
     },
     "execution_count": 20,
     "metadata": {},
     "output_type": "execute_result"
    }
   ],
   "source": [
    "os.path.isfile('parent_new')"
   ]
  },
  {
   "cell_type": "code",
   "execution_count": 21,
   "id": "fbbe82dd-cd74-4940-a022-22f90be8f043",
   "metadata": {},
   "outputs": [
    {
     "data": {
      "text/plain": [
       "True"
      ]
     },
     "execution_count": 21,
     "metadata": {},
     "output_type": "execute_result"
    }
   ],
   "source": [
    "os.path.isdir('parent_new')"
   ]
  },
  {
   "cell_type": "code",
   "execution_count": 22,
   "id": "f1b87ea8-6ccb-4381-8c32-ad6775f1cbec",
   "metadata": {},
   "outputs": [
    {
     "name": "stdout",
     "output_type": "stream",
     "text": [
      "parent_new\\Child\n"
     ]
    }
   ],
   "source": [
    "my_path = os.path.join('parent_new', 'Child')\n",
    "print(my_path)"
   ]
  },
  {
   "cell_type": "code",
   "execution_count": 23,
   "id": "abb4f483-e940-47ee-80a0-bcf7dba18bc1",
   "metadata": {},
   "outputs": [
    {
     "data": {
      "text/plain": [
       "'C:\\\\Users\\\\Nikita'"
      ]
     },
     "execution_count": 23,
     "metadata": {},
     "output_type": "execute_result"
    }
   ],
   "source": [
    "os.environ['USERPROFILE']"
   ]
  },
  {
   "cell_type": "code",
   "execution_count": null,
   "id": "bbe94787-5f26-43c5-a1ac-137997b863f7",
   "metadata": {},
   "outputs": [],
   "source": []
  },
  {
   "cell_type": "code",
   "execution_count": null,
   "id": "37d672cb-33a4-4daf-8e34-ad9bec890fb5",
   "metadata": {},
   "outputs": [],
   "source": []
  },
  {
   "cell_type": "code",
   "execution_count": null,
   "id": "1ee6270f-6539-4d84-8ff9-0fe39bc88f41",
   "metadata": {},
   "outputs": [],
   "source": []
  },
  {
   "cell_type": "code",
   "execution_count": null,
   "id": "714369a3-f741-4a4d-840b-51af1b2c4a10",
   "metadata": {},
   "outputs": [],
   "source": []
  }
 ],
 "metadata": {
  "kernelspec": {
   "display_name": "Python 3 (ipykernel)",
   "language": "python",
   "name": "python3"
  },
  "language_info": {
   "codemirror_mode": {
    "name": "ipython",
    "version": 3
   },
   "file_extension": ".py",
   "mimetype": "text/x-python",
   "name": "python",
   "nbconvert_exporter": "python",
   "pygments_lexer": "ipython3",
   "version": "3.11.7"
  }
 },
 "nbformat": 4,
 "nbformat_minor": 5
}
