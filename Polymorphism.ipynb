{
 "cells": [
  {
   "cell_type": "markdown",
   "id": "59761ec3-eac1-4f6e-8d1c-a1f8c460a5ce",
   "metadata": {},
   "source": [
    "Polymorphism comes from two Greek words: \n",
    "\n",
    "Poly, meaning 'many,' \n",
    "\n",
    "and morph, meaning 'forms.' \n",
    "\n",
    "So, polymorphism allows objects to take on many forms!"
   ]
  },
  {
   "cell_type": "markdown",
   "id": "91e474be-b8ab-4d8e-8de7-ab2825fe4231",
   "metadata": {},
   "source": [
    "Polymorphism is an ability (in OOP) to use a common interface for multiple forms (data types)."
   ]
  },
  {
   "cell_type": "code",
   "execution_count": 7,
   "id": "5be2a389-f66a-42fe-b817-65c62679aa58",
   "metadata": {},
   "outputs": [
    {
     "name": "stdout",
     "output_type": "stream",
     "text": [
      "6\n",
      "4\n",
      "3\n"
     ]
    }
   ],
   "source": [
    "print(len(\"Python\"))\n",
    "print(len([4,5,6,7]))\n",
    "print(len(('a', 'b', 'c')))"
   ]
  },
  {
   "cell_type": "code",
   "execution_count": 14,
   "id": "217d3a99-0324-40bf-8e5f-66ebbe2b6938",
   "metadata": {},
   "outputs": [],
   "source": [
    "class Dog:\n",
    "    def bark(self):\n",
    "        print(\"Dog can bark\")\n",
    "\n",
    "    def swim(self):\n",
    "        print(\"Dog cant swim\")"
   ]
  },
  {
   "cell_type": "code",
   "execution_count": 15,
   "id": "c47f564e-c158-4e12-b1ec-7dce3cb1b771",
   "metadata": {},
   "outputs": [],
   "source": [
    "class Fish:\n",
    "    def bark(self):\n",
    "        print(\"fish cant bark\")\n",
    "    def swim(self):\n",
    "        print(\"Fish can swim\")"
   ]
  },
  {
   "cell_type": "code",
   "execution_count": 16,
   "id": "2b3de6aa-dd03-432c-964e-76aeff99c492",
   "metadata": {},
   "outputs": [],
   "source": [
    "def swim_test(obj): #common interface\n",
    "    obj.swim()"
   ]
  },
  {
   "cell_type": "code",
   "execution_count": 17,
   "id": "fb440f71-2bcd-4f36-b822-8095bf1968b9",
   "metadata": {},
   "outputs": [
    {
     "name": "stdout",
     "output_type": "stream",
     "text": [
      "Fish can swim\n"
     ]
    }
   ],
   "source": [
    "f1 = Fish()\n",
    "b1 = Dog()\n",
    "swim_test(f1)"
   ]
  },
  {
   "cell_type": "code",
   "execution_count": 18,
   "id": "145d5d0f-71b9-4476-8543-3910990963d6",
   "metadata": {},
   "outputs": [
    {
     "name": "stdout",
     "output_type": "stream",
     "text": [
      "Dog cant swim\n"
     ]
    }
   ],
   "source": [
    "swim_test(b1)"
   ]
  },
  {
   "cell_type": "code",
   "execution_count": null,
   "id": "54aeb22e-2c76-4cc9-8146-2994744a670c",
   "metadata": {},
   "outputs": [],
   "source": []
  }
 ],
 "metadata": {
  "kernelspec": {
   "display_name": "Python 3 (ipykernel)",
   "language": "python",
   "name": "python3"
  },
  "language_info": {
   "codemirror_mode": {
    "name": "ipython",
    "version": 3
   },
   "file_extension": ".py",
   "mimetype": "text/x-python",
   "name": "python",
   "nbconvert_exporter": "python",
   "pygments_lexer": "ipython3",
   "version": "3.11.7"
  }
 },
 "nbformat": 4,
 "nbformat_minor": 5
}
