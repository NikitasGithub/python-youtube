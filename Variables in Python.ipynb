{
 "cells": [
  {
   "cell_type": "code",
   "execution_count": 42,
   "id": "f49abcca-244a-4ce2-aa93-e94a6a5b51f5",
   "metadata": {},
   "outputs": [],
   "source": [
    "s = 10\n",
    "\n",
    "name = \"Aryan\""
   ]
  },
  {
   "cell_type": "code",
   "execution_count": 43,
   "id": "65fc0180-e904-4c2a-820b-888529824a5c",
   "metadata": {},
   "outputs": [
    {
     "name": "stdout",
     "output_type": "stream",
     "text": [
      "10\n"
     ]
    }
   ],
   "source": [
    "print(s)"
   ]
  },
  {
   "cell_type": "code",
   "execution_count": 44,
   "id": "25983ace-a929-4ab4-90d5-ce7c6983769c",
   "metadata": {},
   "outputs": [
    {
     "name": "stdout",
     "output_type": "stream",
     "text": [
      "Aryan\n"
     ]
    }
   ],
   "source": [
    "print(name)"
   ]
  },
  {
   "cell_type": "code",
   "execution_count": null,
   "id": "8702223e-b827-4f69-a72a-fa9b3fcc3d96",
   "metadata": {},
   "outputs": [],
   "source": [
    "#variable points to the memory location where data is stored"
   ]
  },
  {
   "cell_type": "code",
   "execution_count": 45,
   "id": "c30a8c9f-7b36-472e-ae2b-f78c2144f2d8",
   "metadata": {},
   "outputs": [
    {
     "data": {
      "text/plain": [
       "140717358171208"
      ]
     },
     "execution_count": 45,
     "metadata": {},
     "output_type": "execute_result"
    }
   ],
   "source": [
    "id(10)"
   ]
  },
  {
   "cell_type": "code",
   "execution_count": 46,
   "id": "7966c6aa-8e3f-429b-8e69-d1eacb32cc72",
   "metadata": {},
   "outputs": [
    {
     "data": {
      "text/plain": [
       "140717358171208"
      ]
     },
     "execution_count": 46,
     "metadata": {},
     "output_type": "execute_result"
    }
   ],
   "source": [
    "id(s)"
   ]
  },
  {
   "cell_type": "code",
   "execution_count": 47,
   "id": "691039b3-1069-4caa-80c2-06a932230757",
   "metadata": {},
   "outputs": [
    {
     "data": {
      "text/plain": [
       "140717358171208"
      ]
     },
     "execution_count": 47,
     "metadata": {},
     "output_type": "execute_result"
    }
   ],
   "source": [
    "a = 10\n",
    "id(a)"
   ]
  },
  {
   "cell_type": "code",
   "execution_count": 48,
   "id": "afee11b0-5ba5-4e4d-bb4a-02dfcdaec025",
   "metadata": {},
   "outputs": [
    {
     "data": {
      "text/plain": [
       "140717358171528"
      ]
     },
     "execution_count": 48,
     "metadata": {},
     "output_type": "execute_result"
    }
   ],
   "source": [
    "s = 20\n",
    "id(s)"
   ]
  },
  {
   "cell_type": "code",
   "execution_count": 49,
   "id": "59355544-47b2-4ba9-b9dc-1432db2b159c",
   "metadata": {},
   "outputs": [
    {
     "name": "stdout",
     "output_type": "stream",
     "text": [
      "20\n"
     ]
    }
   ],
   "source": [
    "print(s)"
   ]
  },
  {
   "cell_type": "code",
   "execution_count": 50,
   "id": "483fe4e4-2795-4be3-8d44-a1d08894a2ff",
   "metadata": {},
   "outputs": [],
   "source": [
    "s = 10"
   ]
  },
  {
   "cell_type": "code",
   "execution_count": 51,
   "id": "08d2ddd9-10cc-47f1-a34d-9954d38fa79f",
   "metadata": {},
   "outputs": [],
   "source": [
    "s = \"Hello\""
   ]
  },
  {
   "cell_type": "code",
   "execution_count": null,
   "id": "aac32ff2-f4c4-4e35-8691-4b2da9871a92",
   "metadata": {},
   "outputs": [],
   "source": [
    "#dynamic typing"
   ]
  },
  {
   "cell_type": "code",
   "execution_count": 52,
   "id": "6e3a88f6-a6e5-48e0-861e-5e981f636f9c",
   "metadata": {},
   "outputs": [],
   "source": [
    "a, b, c = 1, 3, 8"
   ]
  },
  {
   "cell_type": "code",
   "execution_count": 53,
   "id": "c4092af0-faf6-4a43-8c2e-f57c26dbd728",
   "metadata": {},
   "outputs": [
    {
     "name": "stdout",
     "output_type": "stream",
     "text": [
      "1\n",
      "8\n"
     ]
    }
   ],
   "source": [
    "print(a)\n",
    "print(c)"
   ]
  },
  {
   "cell_type": "code",
   "execution_count": null,
   "id": "c7e093c8-fc2d-47d1-a401-346c15cf8f75",
   "metadata": {},
   "outputs": [],
   "source": [
    "1. variable shd start with letter or _"
   ]
  },
  {
   "cell_type": "code",
   "execution_count": 54,
   "id": "564de608-c98c-4658-b40a-af0a5130cd41",
   "metadata": {},
   "outputs": [],
   "source": [
    "my_variable = 10\n",
    "_new = 20"
   ]
  },
  {
   "cell_type": "code",
   "execution_count": 55,
   "id": "2d912227-6343-46b9-998a-2261053d5a6d",
   "metadata": {},
   "outputs": [
    {
     "ename": "SyntaxError",
     "evalue": "invalid decimal literal (2486325303.py, line 1)",
     "output_type": "error",
     "traceback": [
      "\u001b[1;36m  Cell \u001b[1;32mIn[55], line 1\u001b[1;36m\u001b[0m\n\u001b[1;33m    1new = 30\u001b[0m\n\u001b[1;37m    ^\u001b[0m\n\u001b[1;31mSyntaxError\u001b[0m\u001b[1;31m:\u001b[0m invalid decimal literal\n"
     ]
    }
   ],
   "source": [
    "1new = 30"
   ]
  },
  {
   "cell_type": "code",
   "execution_count": 57,
   "id": "65cd111e-3476-442a-a714-101127407cb0",
   "metadata": {},
   "outputs": [
    {
     "ename": "SyntaxError",
     "evalue": "invalid syntax (226052742.py, line 1)",
     "output_type": "error",
     "traceback": [
      "\u001b[1;36m  Cell \u001b[1;32mIn[57], line 1\u001b[1;36m\u001b[0m\n\u001b[1;33m    $new = 56\u001b[0m\n\u001b[1;37m    ^\u001b[0m\n\u001b[1;31mSyntaxError\u001b[0m\u001b[1;31m:\u001b[0m invalid syntax\n"
     ]
    }
   ],
   "source": [
    "$new = 56"
   ]
  },
  {
   "cell_type": "code",
   "execution_count": 61,
   "id": "1c7359dd-be4b-4319-8fcc-dc6e9fae6af2",
   "metadata": {},
   "outputs": [
    {
     "ename": "SyntaxError",
     "evalue": "invalid syntax (532999228.py, line 3)",
     "output_type": "error",
     "traceback": [
      "\u001b[1;36m  Cell \u001b[1;32mIn[61], line 3\u001b[1;36m\u001b[0m\n\u001b[1;33m    my var1 = 89\u001b[0m\n\u001b[1;37m       ^\u001b[0m\n\u001b[1;31mSyntaxError\u001b[0m\u001b[1;31m:\u001b[0m invalid syntax\n"
     ]
    }
   ],
   "source": [
    "#can letters, numbers, _\n",
    "\n",
    "my var1 = 89"
   ]
  },
  {
   "cell_type": "code",
   "execution_count": null,
   "id": "6698df3e-be38-4c05-8d23-c215b208bcfc",
   "metadata": {},
   "outputs": [],
   "source": [
    "keywords -> class, if"
   ]
  },
  {
   "cell_type": "code",
   "execution_count": 62,
   "id": "38b79c5c-bf6b-4011-9103-9b2dc298a07a",
   "metadata": {},
   "outputs": [
    {
     "ename": "SyntaxError",
     "evalue": "invalid syntax (64928239.py, line 1)",
     "output_type": "error",
     "traceback": [
      "\u001b[1;36m  Cell \u001b[1;32mIn[62], line 1\u001b[1;36m\u001b[0m\n\u001b[1;33m    if = 56\u001b[0m\n\u001b[1;37m       ^\u001b[0m\n\u001b[1;31mSyntaxError\u001b[0m\u001b[1;31m:\u001b[0m invalid syntax\n"
     ]
    }
   ],
   "source": [
    "if = 56"
   ]
  },
  {
   "cell_type": "code",
   "execution_count": null,
   "id": "3ed59743-489b-475b-9fcd-c910f6ff41ac",
   "metadata": {},
   "outputs": [],
   "source": []
  },
  {
   "cell_type": "code",
   "execution_count": null,
   "id": "07a7f41d-6b66-4eec-918d-2d2597013b5d",
   "metadata": {},
   "outputs": [],
   "source": []
  },
  {
   "cell_type": "code",
   "execution_count": null,
   "id": "e7e9ef91-2970-4e7b-8efa-1a75b4ad3a95",
   "metadata": {},
   "outputs": [],
   "source": []
  },
  {
   "cell_type": "code",
   "execution_count": null,
   "id": "67e53d80-18d5-4cd3-9de8-eff206a0fcb1",
   "metadata": {},
   "outputs": [],
   "source": []
  },
  {
   "cell_type": "code",
   "execution_count": null,
   "id": "137cf59d-fd22-41b7-8fe9-e0da0ed962b9",
   "metadata": {},
   "outputs": [],
   "source": []
  },
  {
   "cell_type": "code",
   "execution_count": null,
   "id": "2e24187b-624c-4a45-94a0-0ead20152b57",
   "metadata": {},
   "outputs": [],
   "source": []
  },
  {
   "cell_type": "code",
   "execution_count": null,
   "id": "98db4165-3547-43dd-b7dc-65969a4ba249",
   "metadata": {},
   "outputs": [],
   "source": []
  }
 ],
 "metadata": {
  "kernelspec": {
   "display_name": "Python 3 (ipykernel)",
   "language": "python",
   "name": "python3"
  },
  "language_info": {
   "codemirror_mode": {
    "name": "ipython",
    "version": 3
   },
   "file_extension": ".py",
   "mimetype": "text/x-python",
   "name": "python",
   "nbconvert_exporter": "python",
   "pygments_lexer": "ipython3",
   "version": "3.11.7"
  }
 },
 "nbformat": 4,
 "nbformat_minor": 5
}
