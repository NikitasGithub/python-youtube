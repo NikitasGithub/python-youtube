{
 "cells": [
  {
   "cell_type": "markdown",
   "id": "77db2418-33b5-4d3f-8b6c-16a03788cf92",
   "metadata": {},
   "source": [
    "#### Dunder Methods\n",
    "\n",
    "double underscore __\n",
    "\n",
    "#python uses dunder methods to let our custom objects behave like build-in ones\n",
    "\n",
    "+"
   ]
  },
  {
   "cell_type": "code",
   "execution_count": 51,
   "id": "737b911d-859e-4663-8550-151b4ca5c3b5",
   "metadata": {
    "scrolled": true
   },
   "outputs": [],
   "source": [
    "class BankAccount:\n",
    "    def __init__(self, owner, balance, transactions = []):\n",
    "        self.owner = owner\n",
    "        self.balance = balance\n",
    "        self.transactions = transactions\n",
    "\n",
    "    def __str__(self):\n",
    "         return f\"{self.owner}'s Account - Balance: ${self.balance}\"\n",
    "\n",
    "    def __add__(self, other):\n",
    "        if self.owner == other.owner:\n",
    "            return BankAccount(self.owner, self.balance + other.balance)\n",
    "        else:\n",
    "            print(\"cant merge account with different owners!\")\n",
    "\n",
    "    def __eq__(self, other):\n",
    "        return self.owner == other.owner and self.balance == other.balance\n",
    "\n",
    "    def __len__(self):\n",
    "        return len(self.transactions)\n",
    "\n",
    "    def __bool__(self):\n",
    "        return self.balance > 0\n",
    "\n",
    "    def __getitem__(self, index):\n",
    "        return self.transactions[index]"
   ]
  },
  {
   "cell_type": "code",
   "execution_count": 52,
   "id": "00cb5afd-9f16-4b53-a216-8b2711fb8565",
   "metadata": {},
   "outputs": [],
   "source": [
    "b1 = BankAccount(\"Aryan\", 1000, [3,4,5,6,90])\n",
    "b2 = BankAccount(\"Aryan\", 0)"
   ]
  },
  {
   "cell_type": "code",
   "execution_count": 53,
   "id": "aec64576-aa45-46b6-bd30-d60f0722deb3",
   "metadata": {},
   "outputs": [
    {
     "data": {
      "text/plain": [
       "5"
      ]
     },
     "execution_count": 53,
     "metadata": {},
     "output_type": "execute_result"
    }
   ],
   "source": [
    "b1[2] #callling getitem method of bankaccount class"
   ]
  },
  {
   "cell_type": "code",
   "execution_count": 49,
   "id": "19619382-2057-4e7a-84a5-a8d4fafb2265",
   "metadata": {},
   "outputs": [
    {
     "data": {
      "text/plain": [
       "False"
      ]
     },
     "execution_count": 49,
     "metadata": {},
     "output_type": "execute_result"
    }
   ],
   "source": [
    "bool(b2)"
   ]
  },
  {
   "cell_type": "code",
   "execution_count": 45,
   "id": "25f58a71-5d7e-4c5d-a202-79b1d2f3ba54",
   "metadata": {},
   "outputs": [
    {
     "data": {
      "text/plain": [
       "0"
      ]
     },
     "execution_count": 45,
     "metadata": {},
     "output_type": "execute_result"
    }
   ],
   "source": [
    "len(b2)"
   ]
  },
  {
   "cell_type": "code",
   "execution_count": 40,
   "id": "95776184-30f3-4724-8845-b17c684df466",
   "metadata": {},
   "outputs": [
    {
     "data": {
      "text/plain": [
       "True"
      ]
     },
     "execution_count": 40,
     "metadata": {},
     "output_type": "execute_result"
    }
   ],
   "source": [
    "b1 == b2"
   ]
  },
  {
   "cell_type": "code",
   "execution_count": 34,
   "id": "b580b08d-9a84-49d9-816a-06102f2cf189",
   "metadata": {},
   "outputs": [
    {
     "name": "stdout",
     "output_type": "stream",
     "text": [
      "Aryan's Account - Balance: $1000\n"
     ]
    }
   ],
   "source": [
    "print(b1) #str method would be called"
   ]
  },
  {
   "cell_type": "code",
   "execution_count": 36,
   "id": "49472e94-ed33-43e8-9578-72ad84652802",
   "metadata": {},
   "outputs": [],
   "source": [
    "b3 = b1 + b2 #add method will be called"
   ]
  },
  {
   "cell_type": "code",
   "execution_count": 37,
   "id": "165f441a-50ad-4819-890c-8354375bbd38",
   "metadata": {},
   "outputs": [
    {
     "name": "stdout",
     "output_type": "stream",
     "text": [
      "Aryan's Account - Balance: $4000\n"
     ]
    }
   ],
   "source": [
    "print(b3)"
   ]
  },
  {
   "cell_type": "code",
   "execution_count": 41,
   "id": "ce4701eb-dcb3-463a-801f-b8a552c6c21e",
   "metadata": {},
   "outputs": [
    {
     "ename": "TypeError",
     "evalue": "object of type 'BankAccount' has no len()",
     "output_type": "error",
     "traceback": [
      "\u001b[1;31m---------------------------------------------------------------------------\u001b[0m",
      "\u001b[1;31mTypeError\u001b[0m                                 Traceback (most recent call last)",
      "Cell \u001b[1;32mIn[41], line 3\u001b[0m\n\u001b[0;32m      1\u001b[0m \u001b[38;5;66;03m#numbers of transactions\u001b[39;00m\n\u001b[1;32m----> 3\u001b[0m \u001b[38;5;28mlen\u001b[39m(b3)\n",
      "\u001b[1;31mTypeError\u001b[0m: object of type 'BankAccount' has no len()"
     ]
    }
   ],
   "source": [
    "#numbers of transactions\n",
    "\n",
    "len(b3)"
   ]
  },
  {
   "cell_type": "code",
   "execution_count": null,
   "id": "3476cc43-7123-425c-b102-ea33f52fa805",
   "metadata": {},
   "outputs": [],
   "source": []
  },
  {
   "cell_type": "code",
   "execution_count": null,
   "id": "c2f67887-f907-43a8-be52-a25d6fdf74bd",
   "metadata": {},
   "outputs": [],
   "source": []
  },
  {
   "cell_type": "code",
   "execution_count": null,
   "id": "6623b23c-e713-4de7-9263-13e76213ffeb",
   "metadata": {},
   "outputs": [],
   "source": []
  },
  {
   "cell_type": "code",
   "execution_count": null,
   "id": "d06c97e6-fcc4-4d59-9996-fe34a12ef350",
   "metadata": {},
   "outputs": [],
   "source": []
  }
 ],
 "metadata": {
  "kernelspec": {
   "display_name": "Python 3 (ipykernel)",
   "language": "python",
   "name": "python3"
  },
  "language_info": {
   "codemirror_mode": {
    "name": "ipython",
    "version": 3
   },
   "file_extension": ".py",
   "mimetype": "text/x-python",
   "name": "python",
   "nbconvert_exporter": "python",
   "pygments_lexer": "ipython3",
   "version": "3.11.7"
  }
 },
 "nbformat": 4,
 "nbformat_minor": 5
}
