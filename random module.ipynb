{
 "cells": [
  {
   "cell_type": "code",
   "execution_count": 1,
   "id": "8b8e68ad-3da8-4942-a7f6-e1e3e2492452",
   "metadata": {},
   "outputs": [],
   "source": [
    "import random"
   ]
  },
  {
   "cell_type": "code",
   "execution_count": 5,
   "id": "3f45dc7f-46a5-4487-a1bc-253f953b11d7",
   "metadata": {},
   "outputs": [
    {
     "data": {
      "text/plain": [
       "1"
      ]
     },
     "execution_count": 5,
     "metadata": {},
     "output_type": "execute_result"
    }
   ],
   "source": [
    "random.randint(1,10)"
   ]
  },
  {
   "cell_type": "code",
   "execution_count": 6,
   "id": "6059de00-4047-430a-9b8b-ace80179afb4",
   "metadata": {},
   "outputs": [
    {
     "data": {
      "text/plain": [
       "0.861190660194937"
      ]
     },
     "execution_count": 6,
     "metadata": {},
     "output_type": "execute_result"
    }
   ],
   "source": [
    "random.random() #generates a float random number btw [0,1)"
   ]
  },
  {
   "cell_type": "code",
   "execution_count": 7,
   "id": "3e02cb29-9616-4da9-a23d-d3a3d97ac09a",
   "metadata": {},
   "outputs": [
    {
     "data": {
      "text/plain": [
       "11.697366060469902"
      ]
     },
     "execution_count": 7,
     "metadata": {},
     "output_type": "execute_result"
    }
   ],
   "source": [
    "random.uniform(5, 20)"
   ]
  },
  {
   "cell_type": "code",
   "execution_count": 12,
   "id": "a80dc91c-a11e-4131-a6c5-ce76c2e9f9ed",
   "metadata": {},
   "outputs": [
    {
     "data": {
      "text/plain": [
       "'grapes'"
      ]
     },
     "execution_count": 12,
     "metadata": {},
     "output_type": "execute_result"
    }
   ],
   "source": [
    "fruits = [\"apple\", \"banana\", \"cherry\", \"grapes\"]\n",
    "\n",
    "random.choice(fruits)"
   ]
  },
  {
   "cell_type": "code",
   "execution_count": 15,
   "id": "b40a441e-6e50-492a-abcd-414df2c4d093",
   "metadata": {},
   "outputs": [],
   "source": [
    "numbers = [1, 2, 3, 4, 5, 6]\n",
    "random.shuffle(numbers)"
   ]
  },
  {
   "cell_type": "code",
   "execution_count": 16,
   "id": "825cf6b3-c87b-4e7b-ad47-ef59f85d28d3",
   "metadata": {},
   "outputs": [
    {
     "name": "stdout",
     "output_type": "stream",
     "text": [
      "[1, 2, 4, 5, 6, 3]\n"
     ]
    }
   ],
   "source": [
    "print(numbers)"
   ]
  },
  {
   "cell_type": "code",
   "execution_count": 17,
   "id": "bc2bc406-4c18-4f57-ab6e-c58c39958645",
   "metadata": {},
   "outputs": [
    {
     "data": {
      "text/plain": [
       "[14, 8, 13]"
      ]
     },
     "execution_count": 17,
     "metadata": {},
     "output_type": "execute_result"
    }
   ],
   "source": [
    "lottery_numbers = [1, 2, 3, 4, 5, 6, 7, 8, 9, 10, 11, 12, 13, 14, 15]\n",
    "\n",
    "#3 nos at random we need to select; without repetition\n",
    "\n",
    "random.sample(lottery_numbers, 3)"
   ]
  },
  {
   "cell_type": "code",
   "execution_count": null,
   "id": "9c4d8ba3-7a1d-4c08-a78d-8e4245fc36ff",
   "metadata": {},
   "outputs": [],
   "source": []
  }
 ],
 "metadata": {
  "kernelspec": {
   "display_name": "Python 3 (ipykernel)",
   "language": "python",
   "name": "python3"
  },
  "language_info": {
   "codemirror_mode": {
    "name": "ipython",
    "version": 3
   },
   "file_extension": ".py",
   "mimetype": "text/x-python",
   "name": "python",
   "nbconvert_exporter": "python",
   "pygments_lexer": "ipython3",
   "version": "3.11.7"
  }
 },
 "nbformat": 4,
 "nbformat_minor": 5
}
